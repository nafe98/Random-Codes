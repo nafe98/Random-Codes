{
 "cells": [
  {
   "cell_type": "markdown",
   "id": "a5db84eb",
   "metadata": {},
   "source": [
    "# About Dataset"
   ]
  },
  {
   "cell_type": "markdown",
   "id": "531dc606",
   "metadata": {},
   "source": [
    "The dataset contains EEG signals from 11 subjects with labels of alert and drowsy. It can be opened with Matlab. We extracted the data for our own research purpose from another public dataset:\n",
    "\n",
    "Cao, Z., et al., Multi-channel EEG recordings during a sustained-attention driving task. Scientific data, 2019. 6(1): p. 1-8.\n",
    "\n",
    "If you find the dataset useful, please give credits to their works.\n",
    "\n",
    "The details on how the data were extracted are described in our paper:\n",
    "\n",
    "\"Jian Cui, Zirui Lan, Yisi Liu, Ruilin Li, Fan Li, Olga Sourina, Wolfgang Müller-Wittig, A Compact and Interpretable Convolutional Neural Network for Cross-Subject Driver Drowsiness Detection from Single-Channel EEG, Methods, 2021, ISSN 1046-2023, https://doi.org/10.1016/j.ymeth.2021.04.017.\"\n",
    "\n",
    "The codes of the paper above are accessible from:\n",
    "\n",
    "https://github.com/cuijiancorbin/A-Compact-and-Interpretable-Convolutional-Neural-Network-for-Single-Channel-EEG\n",
    "\n",
    "The data file contains 3 variables and they are EEGsample, substate and subindex.\n",
    "\n",
    "\"EEGsample\" contains 2022 EEG samples of size 20x384 from 11 subjects. Each sample is a 3s EEG data with 128Hz from 30 EEG channels.\n",
    "\"subindex\" is an array of 2022x1. It contains the subject indexes from 1-11 corresponding to each EEG sample.\n",
    "\"substate\" is an array of 2022x1. It contains the labels of the samples. 0 corresponds to the alert state and 1 correspond to the drowsy state.\n",
    "\n",
    "The unbalanced version of this dataset is accessible from:\n",
    "https://figshare.com/articles/dataset/EEG_driver_drowsiness_dataset_unbalanced_/16586957"
   ]
  },
  {
   "cell_type": "markdown",
   "id": "9038b805",
   "metadata": {},
   "source": [
    "# Importing Libraires - Data Analysis"
   ]
  },
  {
   "cell_type": "code",
   "execution_count": null,
   "id": "1c6ce5b9",
   "metadata": {},
   "outputs": [],
   "source": [
    "import scipy.io\n",
    "import numpy as np\n",
    "import pandas as pd\n",
    "import seaborn as sns\n",
    "from scipy.io import loadmat\n",
    "from tabulate import tabulate\n",
    "import matplotlib.pyplot as plt"
   ]
  },
  {
   "cell_type": "markdown",
   "id": "a1be599b",
   "metadata": {},
   "source": [
    "# Loading Dataset"
   ]
  },
  {
   "cell_type": "code",
   "execution_count": null,
   "id": "19e0ac1d",
   "metadata": {},
   "outputs": [],
   "source": [
    "file_path = 'EEG driver drowsiness dataset.mat'\n",
    "mat_data = scipy.io.loadmat(file_path)"
   ]
  },
  {
   "cell_type": "code",
   "execution_count": null,
   "id": "3ef7b0f6",
   "metadata": {
    "scrolled": true
   },
   "outputs": [],
   "source": [
    "print(mat_data)"
   ]
  },
  {
   "cell_type": "markdown",
   "id": "378970c9",
   "metadata": {},
   "source": [
    "# Exploratory Data Analysis"
   ]
  },
  {
   "cell_type": "code",
   "execution_count": null,
   "id": "8df176e3",
   "metadata": {},
   "outputs": [],
   "source": [
    "# Inspecting the keys and structure of the loaded data\n",
    "mat_data.keys(), {key: type(mat_data[key]) for key in mat_data.keys()}"
   ]
  },
  {
   "cell_type": "markdown",
   "id": "f408c2eb",
   "metadata": {},
   "source": [
    "<div style=\"background-color: #cce5ff; padding: 10px; border: 1px solid #0066cc;\">\n",
    "    <h2 style=\"color: #0066cc; font-weight: bold;\">Assigning Variables</h2>\n",
    "    \n",
    "</div>\n"
   ]
  },
  {
   "cell_type": "code",
   "execution_count": null,
   "id": "ea574634",
   "metadata": {
    "scrolled": true
   },
   "outputs": [],
   "source": [
    "eeg_samples = mat_data['EEGsample']\n",
    "subindex = mat_data['subindex']\n",
    "substates = mat_data['substate']"
   ]
  },
  {
   "cell_type": "markdown",
   "id": "e01f0ce2",
   "metadata": {},
   "source": [
    "### Calculate the duration of each sample in seconds"
   ]
  },
  {
   "cell_type": "markdown",
   "id": "19ad30a7",
   "metadata": {},
   "source": [
    "EEGsample\" contains 2022 EEG samples of size 20x384 from 11 subjects. Each sample is a 3s EEG data with 128Hz from 30 EEG channels. \"subindex\" is an array of 2022x1. It contains the subject indexes from 1-11 corresponding to each EEG sample. \"substate\" is an array of 2022x1. It contains the labels of the samples. 0 corresponds to the alert state and 1 correspond to the drowsy state."
   ]
  },
  {
   "cell_type": "code",
   "execution_count": null,
   "id": "61f89326",
   "metadata": {},
   "outputs": [],
   "source": [
    "# Calculate the duration of each sample in seconds\n",
    "sampling_rate = 128  # Hz\n",
    "\n",
    "num_samples, num_channels, num_time_points = eeg_samples.shape\n",
    "sample_duration = num_time_points / sampling_rate"
   ]
  },
  {
   "cell_type": "markdown",
   "id": "53a57cd0",
   "metadata": {},
   "source": [
    "### Check for missing values"
   ]
  },
  {
   "cell_type": "code",
   "execution_count": null,
   "id": "b3ae59c7",
   "metadata": {},
   "outputs": [],
   "source": [
    "missing_values = np.isnan(eeg_samples).sum()\n",
    "if missing_values == 0:\n",
    "    print(\"No missing values in the EEG data.\")\n",
    "else:\n",
    "    print(\"Number of missing values:\", missing_values)"
   ]
  },
  {
   "cell_type": "code",
   "execution_count": null,
   "id": "32739917",
   "metadata": {},
   "outputs": [],
   "source": [
    "print(\"Number of subjects:\", len(np.unique(subindex)))\n",
    "print(\"EEGsample shape:\", eeg_samples.shape)\n",
    "print(\"Number of Samples:\", num_samples)\n",
    "print(\"Number of Channels:\", num_channels)\n",
    "print(\"Number of Time Points:\", num_time_points)\n",
    "print(\"Sample Duration (seconds):\", sample_duration)\n",
    "\n",
    "unique_labels, label_counts = np.unique(substates, return_counts=True)\n",
    "print(\"Unique labels:\", unique_labels)\n",
    "print(\"Label counts:\", label_counts)"
   ]
  },
  {
   "cell_type": "markdown",
   "id": "0b23edfa",
   "metadata": {},
   "source": [
    "#### The initial exploration of the EEG dataset reveals the following details:\n",
    "\n",
    "#### EEG Samples (EEGsample):\n",
    "\n",
    "  * The dataset contains 2022 EEG samples.\n",
    "  * Each EEG sample is from 30 channels.\n",
    "  * Each channel has 384 data points, corresponding to a 3-second EEG recording at a sampling rate of 128Hz.\n",
    "\n",
    "#### Subject States (substate):\n",
    "\n",
    "  * There are two unique states: 0 representing the alert state and 1 representing the drowsy state.\n",
    "  * Each state has 1011 samples, indicating a balanced dataset with respect to the two states.\n",
    "\n",
    "#### Subject Indexes (subindex):\n",
    "\n",
    "  * There are 11 unique subjects in the dataset (labeled 1 to 11).\n",
    "  * The distribution of samples across subjects varies, ranging from a minimum of 102 samples to a maximum of 314 samples per subject."
   ]
  },
  {
   "cell_type": "markdown",
   "id": "9ef7c61f",
   "metadata": {},
   "source": [
    "## State-specific Analysis: 'Alert' and 'Drowsy'"
   ]
  },
  {
   "cell_type": "code",
   "execution_count": null,
   "id": "fe1ccc78",
   "metadata": {},
   "outputs": [],
   "source": [
    "substates_flat = substates.flatten()"
   ]
  },
  {
   "cell_type": "code",
   "execution_count": null,
   "id": "ac80254c",
   "metadata": {},
   "outputs": [],
   "source": [
    "# Calculating means and standard deviations for each channel in both states\n",
    "\n",
    "#Alert States\n",
    "mean_alert = np.mean(eeg_samples[substates_flat == 0], axis=(0, 2))\n",
    "std_alert = np.std(eeg_samples[substates_flat == 0], axis=(0, 2))\n",
    "\n",
    "#Drowsy States\n",
    "mean_drowsy = np.mean(eeg_samples[substates_flat == 1], axis=(0, 2))\n",
    "std_drowsy = np.std(eeg_samples[substates_flat == 1], axis=(0, 2))"
   ]
  },
  {
   "cell_type": "code",
   "execution_count": null,
   "id": "5f9566f2",
   "metadata": {},
   "outputs": [],
   "source": [
    "# Creating a DataFrame\n",
    "stats_df = pd.DataFrame({\n",
    "    'Channel': range(1, 31),\n",
    "    'Mean_Alert': mean_alert,\n",
    "    'Std_Alert': std_alert,\n",
    "    'Mean_Drowsy': mean_drowsy,\n",
    "    'Std_Drowsy': std_drowsy\n",
    "})"
   ]
  },
  {
   "cell_type": "code",
   "execution_count": null,
   "id": "a53ec2a3",
   "metadata": {},
   "outputs": [],
   "source": [
    "stats_df  "
   ]
  },
  {
   "cell_type": "markdown",
   "id": "0ccce4f3",
   "metadata": {},
   "source": [
    "## EEG Channel Statistics Across Subjects and Timepoints"
   ]
  },
  {
   "cell_type": "code",
   "execution_count": null,
   "id": "eb42742b",
   "metadata": {},
   "outputs": [],
   "source": [
    "# Compute basic statistics for each EEG channel\n",
    "mean_values = np.mean(eeg_samples, axis=(0, 2))  # Compute mean along subjects and timepoints\n",
    "std_values = np.std(eeg_samples, axis=(0, 2))    # Compute standard deviation along subjects and timepoints\n",
    "min_values = np.min(eeg_samples, axis=(0, 2))    # Compute minimum along subjects and timepoints\n",
    "max_values = np.max(eeg_samples, axis=(0, 2))    # Compute maximum along subjects and timepoints\n",
    "\n",
    "# Create a list of dictionaries for each channel's statistics\n",
    "channel_stats = [\n",
    "    {\n",
    "        \"Channel\": channel_index + 1,\n",
    "        \"Mean\": f\"{mean_values[channel_index]:.4f}\",\n",
    "        \"Std Dev\": f\"{std_values[channel_index]:.4f}\",\n",
    "        \"Min\": f\"{min_values[channel_index]:.4f}\",\n",
    "        \"Max\": f\"{max_values[channel_index]:.4f}\"\n",
    "    }\n",
    "    for channel_index in range(num_channels)\n",
    "]"
   ]
  },
  {
   "cell_type": "code",
   "execution_count": null,
   "id": "081e3c4a",
   "metadata": {},
   "outputs": [],
   "source": [
    "# Printing the table\n",
    "print(\"Basic Statistics for EEG Channels\")\n",
    "print(tabulate(channel_stats, headers=\"keys\", tablefmt=\"grid\"))"
   ]
  },
  {
   "cell_type": "markdown",
   "id": "55ac1a9e",
   "metadata": {},
   "source": [
    "<div style=\"background-color: #cce5ff; padding: 10px; border: 1px solid #0066cc;\">\n",
    "    <h2 style=\"color: #0066cc; font-weight: bold;\">Data Manipulation</h2>\n",
    "    \n",
    "</div>\n"
   ]
  },
  {
   "cell_type": "markdown",
   "id": "0928b4bc",
   "metadata": {},
   "source": [
    "# Segregating the data into alert and drowsy states"
   ]
  },
  {
   "cell_type": "code",
   "execution_count": null,
   "id": "1707e233",
   "metadata": {},
   "outputs": [],
   "source": [
    "import scipy.io"
   ]
  },
  {
   "cell_type": "code",
   "execution_count": null,
   "id": "3760e07a",
   "metadata": {},
   "outputs": [],
   "source": [
    "eeg_samples = mat_data['EEGsample']\n",
    "subindex = mat_data['subindex']\n",
    "substates = mat_data['substate']"
   ]
  },
  {
   "cell_type": "code",
   "execution_count": null,
   "id": "40c3876e",
   "metadata": {},
   "outputs": [],
   "source": [
    "# Segregate the data into alert and drowsy states\n",
    "alert_data = mat_data['EEGsample'][mat_data['substate'][:, 0] == 0, :]\n",
    "drowsy_data = mat_data['EEGsample'][mat_data['substate'][:, 0] == 1, :]"
   ]
  },
  {
   "cell_type": "code",
   "execution_count": null,
   "id": "a2c08407",
   "metadata": {},
   "outputs": [],
   "source": [
    "# Save the segregated data as new datasets\n",
    "scipy.io.savemat('alert_data.mat', {'EEGsample': alert_data})\n",
    "scipy.io.savemat('drowsy_data.mat', {'EEGsample': drowsy_data})"
   ]
  },
  {
   "cell_type": "markdown",
   "id": "d3408963",
   "metadata": {},
   "source": [
    "<div style=\"background-color: #cce5ff; padding: 10px; border: 1px solid #0066cc;\">\n",
    "    <h2 style=\"color: #0066cc; font-weight: bold;\">Assigning EEG Labels</h2>\n",
    "    \n",
    "</div>\n"
   ]
  },
  {
   "cell_type": "code",
   "execution_count": null,
   "id": "ad4934bd",
   "metadata": {},
   "outputs": [],
   "source": [
    "labels = ['Fp1', 'Fp2', 'F7', 'F3', 'Fz', 'F4', 'F8', 'FT7', 'FC3', 'FCZ', 'FC4', 'FT8', 'T3', 'C3', 'Cz', 'C4', 'T4', 'TP7', 'CP3', 'CPz', 'CP4', 'TP8', 'T5', 'P3', 'PZ', 'P4', 'T6', 'O1', 'Oz', 'O2']"
   ]
  },
  {
   "cell_type": "markdown",
   "id": "94f2849b",
   "metadata": {},
   "source": [
    "# Data Manipulation - Alert State"
   ]
  },
  {
   "cell_type": "code",
   "execution_count": null,
   "id": "5e4ceb9a",
   "metadata": {},
   "outputs": [],
   "source": [
    "# Load the alert data\n",
    "alert_data = scipy.io.loadmat('alert_data.mat')\n",
    "\n",
    "# Transpose the EEGsample for each sample\n",
    "transposed_alert_data = np.transpose(alert_data['EEGsample'], (0, 2, 1))\n",
    "\n",
    "transposed_alert_data.shape"
   ]
  },
  {
   "cell_type": "code",
   "execution_count": null,
   "id": "1050b130",
   "metadata": {},
   "outputs": [],
   "source": [
    "# Concatenate all the samples together\n",
    "Manipulated_Alert_Data = np.concatenate(transposed_alert_data, axis=0)\n",
    "\n",
    "Manipulated_Alert_Data.shape"
   ]
  },
  {
   "cell_type": "code",
   "execution_count": null,
   "id": "0d8c3781",
   "metadata": {},
   "outputs": [],
   "source": [
    "# Create a new dataframe with the concatenated EEG values\n",
    "Manipulated_Alert_Data = pd.DataFrame(Manipulated_Alert_Data)"
   ]
  },
  {
   "cell_type": "markdown",
   "id": "528395b3",
   "metadata": {},
   "source": [
    "### Assigning Labels"
   ]
  },
  {
   "cell_type": "code",
   "execution_count": null,
   "id": "b5ae29f2",
   "metadata": {},
   "outputs": [],
   "source": [
    "Manipulated_Alert_Data.columns = labels\n",
    "\n",
    "Manipulated_Alert_Data['substate'] = 0"
   ]
  },
  {
   "cell_type": "code",
   "execution_count": null,
   "id": "314a448a",
   "metadata": {},
   "outputs": [],
   "source": [
    "Manipulated_Alert_Data_shape = Manipulated_Alert_Data.shape\n",
    "print(Manipulated_Alert_Data_shape)"
   ]
  },
  {
   "cell_type": "code",
   "execution_count": null,
   "id": "8515918e",
   "metadata": {},
   "outputs": [],
   "source": [
    "Manipulated_Alert_Data"
   ]
  },
  {
   "cell_type": "code",
   "execution_count": null,
   "id": "10c323e3",
   "metadata": {},
   "outputs": [],
   "source": [
    "Manipulated_Alert_Data.describe()"
   ]
  },
  {
   "cell_type": "markdown",
   "id": "7e904d69",
   "metadata": {},
   "source": [
    "### Manipulated Alert Data Visualizations"
   ]
  },
  {
   "cell_type": "code",
   "execution_count": null,
   "id": "fea64bc6",
   "metadata": {},
   "outputs": [],
   "source": [
    "columns_of_interest = Manipulated_Alert_Data.columns[:-1]\n",
    "\n",
    "# Set up subplots based on the number of selected columns\n",
    "num_columns = 2\n",
    "num_rows = (len(columns_of_interest) + num_columns - 1) // num_columns\n",
    "fig, axes = plt.subplots(nrows=num_rows, ncols=num_columns, figsize=(15, 3 * num_rows))\n",
    "axes = axes.flatten()\n",
    "\n",
    "# Plot each signal in a separate subplot\n",
    "for i, signal_column in enumerate(columns_of_interest):\n",
    "    Manipulated_Alert_Data[signal_column].plot(ax=axes[i], grid=True)\n",
    "    axes[i].set_title(f\"Signal: {signal_column}\")\n",
    "    axes[i].set_xlabel('Time Index')\n",
    "    axes[i].set_ylabel('Signal Value')\n",
    "\n",
    "# Add a title\n",
    "title = plt.suptitle(\"Manipulated Alert Data Visualizations\", fontsize=24, y=1.02)\n",
    "\n",
    "\n",
    "plt.tight_layout()\n",
    "plt.show()"
   ]
  },
  {
   "cell_type": "markdown",
   "id": "87a297a5",
   "metadata": {},
   "source": [
    "# Data Manipulation - Drowsy State"
   ]
  },
  {
   "cell_type": "code",
   "execution_count": null,
   "id": "7d2bc341",
   "metadata": {},
   "outputs": [],
   "source": [
    "# Load the alert data\n",
    "drowsy_data = scipy.io.loadmat('drowsy_data.mat')\n",
    "\n",
    "# Transpose the EEGsample for each sample\n",
    "transposed_drowsy_data = np.transpose(drowsy_data['EEGsample'], (0, 2, 1))\n",
    "\n",
    "transposed_drowsy_data.shape"
   ]
  },
  {
   "cell_type": "code",
   "execution_count": null,
   "id": "0467d0bd",
   "metadata": {},
   "outputs": [],
   "source": [
    "# Concatenate all the samples together\n",
    "Manipulated_drowsy_data = np.concatenate(transposed_drowsy_data, axis=0)\n",
    "\n",
    "Manipulated_drowsy_data.shape"
   ]
  },
  {
   "cell_type": "code",
   "execution_count": null,
   "id": "cbb8ec24",
   "metadata": {},
   "outputs": [],
   "source": [
    "# Create a new dataframe with the concatenated EEG values\n",
    "Manipulated_drowsy_data = pd.DataFrame(Manipulated_drowsy_data)"
   ]
  },
  {
   "cell_type": "markdown",
   "id": "8ea24bfa",
   "metadata": {},
   "source": [
    "### Assigning Labels"
   ]
  },
  {
   "cell_type": "code",
   "execution_count": null,
   "id": "5bfd79d5",
   "metadata": {
    "scrolled": true
   },
   "outputs": [],
   "source": [
    "Manipulated_drowsy_data.columns = labels\n",
    "\n",
    "Manipulated_drowsy_data['substate'] = 1"
   ]
  },
  {
   "cell_type": "code",
   "execution_count": null,
   "id": "cd299b66",
   "metadata": {},
   "outputs": [],
   "source": [
    "Manipulated_drowsy_data"
   ]
  },
  {
   "cell_type": "markdown",
   "id": "74bca38c",
   "metadata": {},
   "source": [
    "### Manipulated Drowsy Data Visualizations"
   ]
  },
  {
   "cell_type": "code",
   "execution_count": null,
   "id": "13df74c7",
   "metadata": {},
   "outputs": [],
   "source": [
    "columns_of_interest = Manipulated_drowsy_data.columns[:-1]\n",
    "\n",
    "# Set up subplots based on the number of selected columns\n",
    "num_columns = 2\n",
    "num_rows = (len(columns_of_interest) + num_columns - 1) // num_columns\n",
    "fig, axes = plt.subplots(nrows=num_rows, ncols=num_columns, figsize=(15, 3 * num_rows))\n",
    "axes = axes.flatten()\n",
    "\n",
    "# Plot each signal in a separate subplot\n",
    "for i, signal_column in enumerate(columns_of_interest):\n",
    "    Manipulated_drowsy_data[signal_column].plot(ax=axes[i], grid=True)\n",
    "    axes[i].set_title(f\"Signal: {signal_column}\")\n",
    "    axes[i].set_xlabel('Time Index')\n",
    "    axes[i].set_ylabel('Signal Value')\n",
    "\n",
    "# Add a title\n",
    "title = plt.suptitle(\"Manipulated Drowsy Data Visualizations\", fontsize=24, y=1.02)\n",
    "\n",
    "\n",
    "plt.tight_layout()\n",
    "plt.show()"
   ]
  },
  {
   "cell_type": "markdown",
   "id": "380d6003",
   "metadata": {},
   "source": [
    "# Creating new Manipulated EEG Data"
   ]
  },
  {
   "cell_type": "code",
   "execution_count": null,
   "id": "117d222f",
   "metadata": {},
   "outputs": [],
   "source": [
    "# Concatenate them row-wise\n",
    "Manipulated_EEG_Data = pd.concat([Manipulated_Alert_Data, Manipulated_drowsy_data], ignore_index=True)\n",
    "\n",
    "Manipulated_EEG_Data = pd.DataFrame(Manipulated_EEG_Data)\n",
    "\n",
    "Manipulated_EEG_Data"
   ]
  },
  {
   "cell_type": "code",
   "execution_count": null,
   "id": "7878ff8c",
   "metadata": {},
   "outputs": [],
   "source": [
    "Manipulated_EEG_Data.describe()"
   ]
  },
  {
   "cell_type": "code",
   "execution_count": null,
   "id": "6c4bba1b",
   "metadata": {},
   "outputs": [],
   "source": [
    "Manipulated_EEG_Data.shape"
   ]
  },
  {
   "cell_type": "code",
   "execution_count": null,
   "id": "b6e59d8e",
   "metadata": {
    "scrolled": true
   },
   "outputs": [],
   "source": [
    "Manipulated_EEG_Data[\"substate\"].value_counts()"
   ]
  },
  {
   "cell_type": "markdown",
   "id": "a8a031f7",
   "metadata": {},
   "source": [
    "<div style=\"background-color: #cce5ff; padding: 10px; border: 1px solid #0066cc;\">\n",
    "    <h2 style=\"color: #0066cc; font-weight: bold;\">Data Filtration</h2>\n",
    "    \n",
    "</div>\n"
   ]
  },
  {
   "cell_type": "markdown",
   "id": "0a729446",
   "metadata": {},
   "source": [
    "# Data Filtration - Savitzky-Golay filter"
   ]
  },
  {
   "cell_type": "code",
   "execution_count": null,
   "id": "13b83af8",
   "metadata": {},
   "outputs": [],
   "source": [
    "Manipulated_Alert_Data = Manipulated_Alert_Data\n",
    "Manipulated_drowsy_data = Manipulated_drowsy_data"
   ]
  },
  {
   "cell_type": "code",
   "execution_count": null,
   "id": "8f915a1d",
   "metadata": {},
   "outputs": [],
   "source": [
    "from scipy.signal import savgol_filter\n",
    "\n",
    "# Define the parameters for the Savitzky-Golay filter\n",
    "window_length = 203    \n",
    "polyorder = 3"
   ]
  },
  {
   "cell_type": "code",
   "execution_count": null,
   "id": "647a9727",
   "metadata": {},
   "outputs": [],
   "source": [
    "def apply_savgol_filter(dataset, labels):\n",
    "    filtered_data = pd.DataFrame()\n",
    "    for i, col_name in enumerate(labels):\n",
    "        filtered_column = savgol_filter(\n",
    "            dataset[col_name], window_length, polyorder\n",
    "        )\n",
    "        filtered_data[f'Filtered_{col_name}'] = filtered_column\n",
    "    \n",
    "    filtered_data['substate'] = dataset['substate']\n",
    "    return filtered_data "
   ]
  },
  {
   "cell_type": "code",
   "execution_count": null,
   "id": "ff78f51e",
   "metadata": {},
   "outputs": [],
   "source": [
    "# Apply Savitzky-Golay filter to both datasets\n",
    "filtered_alert_data = apply_savgol_filter(Manipulated_Alert_Data, labels)\n",
    "filtered_drowsy_data = apply_savgol_filter(Manipulated_drowsy_data, labels)"
   ]
  },
  {
   "cell_type": "code",
   "execution_count": null,
   "id": "65e23e6a",
   "metadata": {},
   "outputs": [],
   "source": [
    "Manipulated_Alert_Data"
   ]
  },
  {
   "cell_type": "code",
   "execution_count": null,
   "id": "1bfd3dd6",
   "metadata": {},
   "outputs": [],
   "source": [
    "filtered_alert_data = pd.DataFrame(filtered_alert_data)\n",
    "filtered_drowsy_data = pd.DataFrame(filtered_drowsy_data)"
   ]
  },
  {
   "cell_type": "code",
   "execution_count": null,
   "id": "6e1fb6b8",
   "metadata": {},
   "outputs": [],
   "source": [
    "filtered_alert_data"
   ]
  },
  {
   "cell_type": "code",
   "execution_count": null,
   "id": "fe20f6ac",
   "metadata": {},
   "outputs": [],
   "source": [
    "filtered_alert_data.describe()"
   ]
  },
  {
   "cell_type": "code",
   "execution_count": null,
   "id": "b73ace37",
   "metadata": {},
   "outputs": [],
   "source": [
    "filtered_drowsy_data"
   ]
  },
  {
   "cell_type": "code",
   "execution_count": null,
   "id": "2ecef7af",
   "metadata": {},
   "outputs": [],
   "source": [
    "filtered_drowsy_data.describe()"
   ]
  },
  {
   "cell_type": "code",
   "execution_count": null,
   "id": "13f984d1",
   "metadata": {},
   "outputs": [],
   "source": [
    "# Concatenate both datasets row-wise\n",
    "filtered_data = pd.concat([filtered_alert_data, filtered_drowsy_data], ignore_index=True)"
   ]
  },
  {
   "cell_type": "markdown",
   "id": "5d02eb3b",
   "metadata": {},
   "source": [
    "### Filtered Alert Data Visualization"
   ]
  },
  {
   "cell_type": "code",
   "execution_count": null,
   "id": "670818d2",
   "metadata": {},
   "outputs": [],
   "source": [
    "# Extract column names\n",
    "Manipulated_Alert_Data_columns = Manipulated_Alert_Data.columns[:-1]\n",
    "filtered_alert_data_columns = filtered_alert_data.columns[:-1]\n",
    "\n",
    "# Set the number of rows and columns\n",
    "num_rows = len(Manipulated_Alert_Data_columns)\n",
    "num_cols = 2 \n",
    "fig, axes = plt.subplots(num_rows, num_cols, figsize=(15, 3*num_rows))\n",
    "\n",
    "# Plotting for each column in separate figures\n",
    "for i, (col_manipulated, col_filtered) in enumerate(zip(Manipulated_Alert_Data_columns, filtered_alert_data_columns)):\n",
    "\n",
    "    # Plot Manipulated Data\n",
    "    axes[i, 0].plot(Manipulated_Alert_Data[col_manipulated], color='blue', label='Manipulated Data')\n",
    "    axes[i, 0].set_title(f'{col_manipulated}')\n",
    "    axes[i, 0].set_xlabel('Time')\n",
    "    axes[i, 0].set_ylabel('Signal Amplitude')\n",
    "    axes[i, 0].legend()\n",
    "    axes[i, 0].grid(True)  \n",
    "\n",
    "    # Plot Filtered Data\n",
    "    axes[i, 1].plot(filtered_alert_data[col_filtered], color='orange', label='Filtered Data')\n",
    "    axes[i, 1].set_title(f'{col_filtered}')\n",
    "    axes[i, 1].set_xlabel('Time')\n",
    "    axes[i, 1].set_ylabel('Signal Amplitude')\n",
    "    axes[i, 1].legend()\n",
    "    axes[i, 1].grid(True)  \n",
    "\n",
    "plt.tight_layout()\n",
    "plt.show()"
   ]
  },
  {
   "cell_type": "code",
   "execution_count": null,
   "id": "e929ee1a",
   "metadata": {},
   "outputs": [],
   "source": [
    "# Extract column names \n",
    "Manipulated_Alert_Data_columns = Manipulated_Alert_Data.columns[:-1]\n",
    "filtered_alert_data_columns = filtered_alert_data.columns[:-1]\n",
    "\n",
    "# Set the number of rows and columns \n",
    "num_rows = len(Manipulated_Alert_Data_columns)\n",
    "num_cols = 1\n",
    "fig, axes = plt.subplots(num_rows, num_cols, figsize=(10, 3*num_rows))\n",
    "\n",
    "# Plotting for each column in the same figure\n",
    "for i, (col_manipulated, col_filtered) in enumerate(zip(Manipulated_Alert_Data_columns, filtered_alert_data_columns)):\n",
    "    \n",
    "    axes[i].plot(Manipulated_Alert_Data[col_manipulated], color='blue', label='Manipulated Data')\n",
    "    axes[i].plot(filtered_alert_data[col_filtered], color='orange', label='Filtered Data')\n",
    "    \n",
    "    axes[i].set_title(f'{col_manipulated} vs {col_filtered}')\n",
    "    axes[i].set_xlabel('Time')\n",
    "    axes[i].set_ylabel('Signal Amplitude')\n",
    "    \n",
    "    axes[i].grid(True)\n",
    "    axes[i].legend()\n",
    "\n",
    "plt.tight_layout()\n",
    "plt.show()"
   ]
  },
  {
   "cell_type": "markdown",
   "id": "e6ff1144",
   "metadata": {},
   "source": [
    "### Filtered Drowsy Data Visualization"
   ]
  },
  {
   "cell_type": "code",
   "execution_count": null,
   "id": "3a840c21",
   "metadata": {},
   "outputs": [],
   "source": [
    "Manipulated_drowsy_data_columns = Manipulated_drowsy_data.columns[:-1]\n",
    "filtered_drowsy_data_columns = filtered_drowsy_data.columns[:-1]\n",
    "\n",
    "# Set the number of rows and columns \n",
    "num_rows = len(Manipulated_drowsy_data_columns)\n",
    "num_cols = 2  \n",
    "fig, axes = plt.subplots(num_rows, num_cols, figsize=(15, 3*num_rows))\n",
    "\n",
    "# Plotting for each column in separate figures\n",
    "for i, (col_manipulated, col_filtered) in enumerate(zip(Manipulated_drowsy_data_columns, filtered_drowsy_data_columns)):\n",
    "\n",
    "    # Plot Manipulated Data\n",
    "    axes[i, 0].plot(Manipulated_drowsy_data[col_manipulated], color='red', label='Manipulated Data')\n",
    "    axes[i, 0].set_title(f'{col_manipulated}')\n",
    "    axes[i, 0].set_xlabel('Time')\n",
    "    axes[i, 0].set_ylabel('Signal Amplitude')\n",
    "    axes[i, 0].legend()\n",
    "    axes[i, 0].grid(True) \n",
    "\n",
    "    # Plot Filtered Data\n",
    "    axes[i, 1].plot(filtered_drowsy_data[col_filtered], color='black', label='Filtered Data')\n",
    "    axes[i, 1].set_title(f'{col_filtered}')\n",
    "    axes[i, 1].set_xlabel('Time')\n",
    "    axes[i, 1].set_ylabel('Signal Amplitude')\n",
    "    axes[i, 1].legend()\n",
    "    axes[i, 1].grid(True)\n",
    "\n",
    "plt.tight_layout()\n",
    "plt.show()"
   ]
  },
  {
   "cell_type": "code",
   "execution_count": null,
   "id": "1113266a",
   "metadata": {},
   "outputs": [],
   "source": [
    "# Extract column names\n",
    "Manipulated_drowsy_data_columns = Manipulated_drowsy_data.columns[:-1]\n",
    "filtered_drowsy_data_columns = filtered_drowsy_data.columns[:-1]\n",
    "\n",
    "# Set the number of rows and columns\n",
    "num_rows = len(Manipulated_drowsy_data_columns)\n",
    "num_cols = 1\n",
    "fig, axes = plt.subplots(num_rows, num_cols, figsize=(10, 3*num_rows))\n",
    "\n",
    "# Plotting for each column in the same figure\n",
    "for i, (col_manipulated, col_filtered) in enumerate(zip(Manipulated_drowsy_data_columns, filtered_drowsy_data_columns)):\n",
    "    \n",
    "    axes[i].plot(Manipulated_drowsy_data[col_manipulated], color='red', label='Manipulated Data')\n",
    "    axes[i].plot(filtered_drowsy_data[col_filtered], color='black', label='Filtered Data')  \n",
    "    \n",
    "    axes[i].set_title(f'{col_manipulated} vs {col_filtered}')\n",
    "    axes[i].set_xlabel('Time')\n",
    "    axes[i].set_ylabel('Signal Amplitude')\n",
    "    \n",
    "    axes[i].grid(True)\n",
    "    axes[i].legend()\n",
    "\n",
    "plt.tight_layout()\n",
    "plt.show()\n"
   ]
  },
  {
   "cell_type": "markdown",
   "id": "4a5bae4b",
   "metadata": {},
   "source": [
    "# Shuffle Dataset"
   ]
  },
  {
   "cell_type": "code",
   "execution_count": null,
   "id": "51a212db",
   "metadata": {},
   "outputs": [],
   "source": [
    "from sklearn.utils import shuffle\n",
    "\n",
    "# Shuffle the combined dataset\n",
    "shuffled_data = shuffle(filtered_data, random_state=42)\n",
    "\n",
    "# Display the resulting shuffled DataFrame\n",
    "print(shuffled_data.head())"
   ]
  },
  {
   "cell_type": "markdown",
   "id": "861f3782",
   "metadata": {},
   "source": [
    "# Split the data into training and testing sets"
   ]
  },
  {
   "cell_type": "code",
   "execution_count": null,
   "id": "09d95ca3",
   "metadata": {},
   "outputs": [],
   "source": [
    "data = shuffled_data\n",
    "\n",
    "X = data.iloc[:, :-1] \n",
    "y = data.iloc[:, -1]  \n",
    "\n",
    "# Split the data into training and testing sets\n",
    "\n",
    "from sklearn.model_selection import train_test_split\n",
    "X_train, X_test, y_train, y_test = train_test_split(X, y, test_size=0.2, random_state=42)"
   ]
  },
  {
   "cell_type": "code",
   "execution_count": null,
   "id": "64a1ab1f",
   "metadata": {},
   "outputs": [],
   "source": [
    "X"
   ]
  },
  {
   "cell_type": "code",
   "execution_count": null,
   "id": "ca7c3350",
   "metadata": {},
   "outputs": [],
   "source": [
    "y"
   ]
  },
  {
   "cell_type": "code",
   "execution_count": null,
   "id": "c3403dc6",
   "metadata": {},
   "outputs": [],
   "source": [
    "X_train"
   ]
  },
  {
   "cell_type": "code",
   "execution_count": null,
   "id": "73a44818",
   "metadata": {},
   "outputs": [],
   "source": [
    "X_test"
   ]
  },
  {
   "cell_type": "code",
   "execution_count": null,
   "id": "32b137a1",
   "metadata": {},
   "outputs": [],
   "source": [
    "y_train"
   ]
  },
  {
   "cell_type": "code",
   "execution_count": null,
   "id": "96b25405",
   "metadata": {},
   "outputs": [],
   "source": [
    "y_test"
   ]
  },
  {
   "cell_type": "markdown",
   "id": "e2702517",
   "metadata": {},
   "source": [
    "# Shapley Approximation (shap)"
   ]
  },
  {
   "cell_type": "markdown",
   "id": "71c95e59",
   "metadata": {},
   "source": [
    "https://github.com/shap/shap"
   ]
  },
  {
   "cell_type": "code",
   "execution_count": null,
   "id": "ab544ab7",
   "metadata": {},
   "outputs": [],
   "source": [
    "#Training and Testing Split\n",
    "X_train, X_test, y_train, y_test = train_test_split(X, y, test_size=0.2, random_state=42)"
   ]
  },
  {
   "cell_type": "code",
   "execution_count": null,
   "id": "a8ac67e3",
   "metadata": {},
   "outputs": [],
   "source": [
    "import shap\n",
    "import xgboost as xgb"
   ]
  },
  {
   "cell_type": "code",
   "execution_count": null,
   "id": "3d8b7667",
   "metadata": {},
   "outputs": [],
   "source": [
    "params = {\n",
    "    \"tree_method\": \"gpu_hist\",\n",
    "    \"n_estimators\": 5000,\n",
    "}"
   ]
  },
  {
   "cell_type": "code",
   "execution_count": null,
   "id": "834a1d8a",
   "metadata": {},
   "outputs": [],
   "source": [
    "model = xgb.XGBClassifier(**params)\n",
    "model.fit(X_train, y_train)"
   ]
  },
  {
   "cell_type": "code",
   "execution_count": null,
   "id": "b3762361",
   "metadata": {},
   "outputs": [],
   "source": [
    "# Explain predictions using SHAP\n",
    "explainer = shap.Explainer(model)\n",
    "shap_values = explainer.shap_values(X_test)"
   ]
  },
  {
   "cell_type": "markdown",
   "id": "a15df4b3",
   "metadata": {},
   "source": [
    "# Visualizations - Shapley Approximation (shap) "
   ]
  },
  {
   "cell_type": "code",
   "execution_count": null,
   "id": "6ea4a6ab",
   "metadata": {},
   "outputs": [],
   "source": [
    "# Calculate feature importance\n",
    "ft_importance = pd.DataFrame({\"Feature Importance\": np.abs(shap_values).mean(0)}, index=X_train.columns)\n",
    "X_cols = ft_importance.query('`Feature Importance` > 0').sort_values(by=\"Feature Importance\", ascending=False)\n",
    "\n",
    "# Display\n",
    "X_cols.style.background_gradient(cmap='viridis', vmin=.001, vmax=.6).format({\"Feature Importance\": \"{:.3f}\"})"
   ]
  },
  {
   "cell_type": "markdown",
   "id": "ebbf1b5e",
   "metadata": {},
   "source": [
    "### SHAP Summary Plot"
   ]
  },
  {
   "cell_type": "code",
   "execution_count": null,
   "id": "d70eb94a",
   "metadata": {},
   "outputs": [],
   "source": [
    "# Plot SHAP summary plot\n",
    "shap.summary_plot(shap_values, X_test, show=False)\n",
    "plt.title(\"SHAP Summary Plot for XGBoost Model\")\n",
    "plt.show()"
   ]
  },
  {
   "cell_type": "markdown",
   "id": "f5ad2948",
   "metadata": {},
   "source": [
    "### SHAP Bar plot"
   ]
  },
  {
   "cell_type": "code",
   "execution_count": null,
   "id": "a8362dc4",
   "metadata": {},
   "outputs": [],
   "source": [
    "fig, ax = plt.subplots(figsize=(10, 6))\n",
    "\n",
    "\n",
    "bars = ax.barh(X_cols.index, X_cols['Feature Importance'], color='skyblue', edgecolor='black')\n",
    "ax.grid(axis='both', linestyle='--', alpha=0.7)\n",
    "ax.set_xlabel('Feature Importance', fontsize=12)\n",
    "ax.set_ylabel('Features', fontsize=12)\n",
    "ax.set_title('Feature Importance - SHAP Values', fontsize=14)\n",
    "ax.invert_yaxis()\n",
    "\n",
    "\n",
    "for bar in bars:\n",
    "    ax.text(bar.get_width(), bar.get_y() + bar.get_height()/2, \n",
    "            '{:.2f}'.format(bar.get_width()), \n",
    "            va='center', ha='left', fontsize=10)\n",
    "\n",
    "\n",
    "plt.tight_layout()\n",
    "plt.show()"
   ]
  },
  {
   "cell_type": "markdown",
   "id": "b7f79193",
   "metadata": {},
   "source": [
    "### SHAP Scatter plot"
   ]
  },
  {
   "cell_type": "code",
   "execution_count": null,
   "id": "df4f1793",
   "metadata": {},
   "outputs": [],
   "source": [
    "# Scatter plot of feature importance\n",
    "plt.figure(figsize=(10, 6))\n",
    "plt.scatter(X_cols['Feature Importance'], X_cols.index, color='coral')\n",
    "plt.xlabel('Feature Importance')\n",
    "plt.ylabel('Features')\n",
    "plt.title('Feature Importance - SHAP Values')\n",
    "plt.grid(True, linestyle='--', alpha=0.7)\n",
    "plt.show()"
   ]
  },
  {
   "cell_type": "markdown",
   "id": "e0fbf8af",
   "metadata": {},
   "source": [
    "### SHAP Pie Chart"
   ]
  },
  {
   "cell_type": "code",
   "execution_count": null,
   "id": "22957d81",
   "metadata": {
    "scrolled": false
   },
   "outputs": [],
   "source": [
    "colors = ['#ff9999','#66b3ff','#99ff99','#ffcc99']\n",
    "\n",
    "plt.figure(figsize=(10, 8))\n",
    "\n",
    "\n",
    "plt.pie(X_cols['Feature Importance'], \n",
    "        labels=X_cols.index, \n",
    "        autopct='%1.1f%%', \n",
    "        startangle=140, \n",
    "        colors=colors,      \n",
    "        wedgeprops={'edgecolor': 'black'},  \n",
    "        textprops={'fontsize': 12},  \n",
    "        pctdistance=0.85,     \n",
    "        labeldistance=1.05)   \n",
    "\n",
    "\n",
    "plt.legend(X_cols.index, loc=\"best\")\n",
    "plt.title('Feature Importance based on SHAP Values', fontsize=16)\n",
    "plt.axis('equal')\n",
    "plt.show()"
   ]
  },
  {
   "cell_type": "markdown",
   "id": "73d81e20",
   "metadata": {},
   "source": [
    "# Feature Selection using SHAP Values - Top 5 Features"
   ]
  },
  {
   "cell_type": "code",
   "execution_count": null,
   "id": "1dfee190",
   "metadata": {},
   "outputs": [],
   "source": [
    "# Calculate feature importance using mean absolute SHAP values\n",
    "ft_importance = pd.DataFrame({\"Feature Importance\": np.abs(shap_values).mean(0)}, index=X_train.columns)\n",
    "top_features = ft_importance.sort_values(by=\"Feature Importance\", ascending=False).index[:5]\n",
    "\n",
    "X_train = X_train[top_features]\n",
    "X_test = X_test[top_features]"
   ]
  },
  {
   "cell_type": "code",
   "execution_count": null,
   "id": "261cf758",
   "metadata": {
    "scrolled": true
   },
   "outputs": [],
   "source": [
    "X_train"
   ]
  },
  {
   "cell_type": "code",
   "execution_count": null,
   "id": "3b22dcb8",
   "metadata": {},
   "outputs": [],
   "source": [
    "y_train.shape"
   ]
  },
  {
   "cell_type": "code",
   "execution_count": null,
   "id": "24f29d74",
   "metadata": {
    "scrolled": true
   },
   "outputs": [],
   "source": [
    "X_test"
   ]
  },
  {
   "cell_type": "code",
   "execution_count": null,
   "id": "bcdd618f",
   "metadata": {},
   "outputs": [],
   "source": [
    "y_test.shape"
   ]
  },
  {
   "cell_type": "markdown",
   "id": "7d9b3a01",
   "metadata": {},
   "source": [
    "<div style=\"background-color: #cce5ff; padding: 10px; border: 1px solid #0066cc;\">\n",
    "    <h2 style=\"color: #0066cc; font-weight: bold;\">Deep Learning Architecture - GRU</h2>\n",
    "    \n",
    "</div>\n"
   ]
  },
  {
   "cell_type": "markdown",
   "id": "7c92ddfc",
   "metadata": {},
   "source": [
    "# Importing Libraries - Architecture"
   ]
  },
  {
   "cell_type": "code",
   "execution_count": null,
   "id": "c5f6fce3",
   "metadata": {},
   "outputs": [],
   "source": [
    "import time\n",
    "import tensorflow as tf\n",
    "import matplotlib.pyplot as plt\n",
    "from keras.optimizers import Adam\n",
    "from tensorflow.keras.layers import GRU\n",
    "from tensorflow.keras.optimizers import Adam\n",
    "from tensorflow.keras.models import Sequential\n",
    "from sklearn.model_selection import train_test_split\n",
    "from tensorflow.keras.callbacks import LearningRateScheduler\n",
    "from tensorflow.keras.layers import Dense, Dropout, BatchNormalization, LeakyReLU"
   ]
  },
  {
   "cell_type": "markdown",
   "id": "dc076fef",
   "metadata": {},
   "source": [
    "### Reshaping X_train for LSTM"
   ]
  },
  {
   "cell_type": "code",
   "execution_count": null,
   "id": "47b8cc34",
   "metadata": {},
   "outputs": [],
   "source": [
    "X_train_array = X_train.values\n",
    "X_train_reshaped = X_train_array.reshape(X_train_array.shape[0], X_train_array.shape[1], 1)\n",
    "input_shape = (X_train_reshaped.shape[1], X_train_reshaped.shape[2])  "
   ]
  },
  {
   "cell_type": "code",
   "execution_count": null,
   "id": "d7e921d0",
   "metadata": {},
   "outputs": [],
   "source": [
    "input_shape"
   ]
  },
  {
   "cell_type": "markdown",
   "id": "0b262f18",
   "metadata": {},
   "source": [
    "# 1. Network Initialization"
   ]
  },
  {
   "cell_type": "code",
   "execution_count": null,
   "id": "80a9eccd",
   "metadata": {},
   "outputs": [],
   "source": [
    "batch_size = 700  \n",
    "epochs = 500  \n",
    "learning_rate = 0.001"
   ]
  },
  {
   "cell_type": "markdown",
   "id": "e7fac21c",
   "metadata": {},
   "source": [
    "# 2. Define Architecture"
   ]
  },
  {
   "cell_type": "code",
   "execution_count": null,
   "id": "a86494ea",
   "metadata": {},
   "outputs": [],
   "source": [
    "gru_model = Sequential([\n",
    "    \n",
    "    GRU(512, input_shape=input_shape, activation='relu', return_sequences=True),\n",
    "    Dropout(0.1),\n",
    "    GRU(256, activation='relu'),\n",
    "    Dropout(0.1),\n",
    "    Dense(1, activation='sigmoid')\n",
    "\n",
    "])"
   ]
  },
  {
   "cell_type": "code",
   "execution_count": null,
   "id": "506b8f43",
   "metadata": {},
   "outputs": [],
   "source": [
    "gru_model.summary()"
   ]
  },
  {
   "cell_type": "markdown",
   "id": "eb635684",
   "metadata": {},
   "source": [
    "# 3. Model Compilation"
   ]
  },
  {
   "cell_type": "code",
   "execution_count": null,
   "id": "3664aa44",
   "metadata": {},
   "outputs": [],
   "source": [
    "gru_model.compile(optimizer=Adam(learning_rate=learning_rate), loss='binary_crossentropy', metrics=['accuracy'])"
   ]
  },
  {
   "cell_type": "markdown",
   "id": "7f0a8cb7",
   "metadata": {},
   "source": [
    "<div style=\"background-color: #cce5ff; padding: 10px; border: 1px solid #0066cc;\">\n",
    "    <h2 style=\"color: #0066cc; font-weight: bold;\">Integrating Callbacks</h2>\n",
    "    \n",
    "</div>\n"
   ]
  },
  {
   "cell_type": "markdown",
   "id": "a4a040c5",
   "metadata": {},
   "source": [
    "## EarlyStopping Callback"
   ]
  },
  {
   "cell_type": "code",
   "execution_count": null,
   "id": "63e39a2b",
   "metadata": {},
   "outputs": [],
   "source": [
    "from keras.callbacks import EarlyStopping"
   ]
  },
  {
   "cell_type": "code",
   "execution_count": null,
   "id": "c651e30a",
   "metadata": {},
   "outputs": [],
   "source": [
    "early_stopping = EarlyStopping(monitor='val_loss', patience=30, restore_best_weights=True)"
   ]
  },
  {
   "cell_type": "markdown",
   "id": "8586e2ed",
   "metadata": {},
   "source": [
    "## Model Checkpoints Callback"
   ]
  },
  {
   "cell_type": "code",
   "execution_count": null,
   "id": "432ed8be",
   "metadata": {},
   "outputs": [],
   "source": [
    "import os\n",
    "from keras.models import load_model\n",
    "from keras.callbacks import ModelCheckpoint"
   ]
  },
  {
   "cell_type": "code",
   "execution_count": null,
   "id": "113ed278",
   "metadata": {},
   "outputs": [],
   "source": [
    "checkpoint_path = '/Model Checkpoints/GRU_Model_Checkpoint.h5'"
   ]
  },
  {
   "cell_type": "markdown",
   "id": "b437e726",
   "metadata": {},
   "source": [
    "### Check if the checkpoint file exists"
   ]
  },
  {
   "cell_type": "code",
   "execution_count": null,
   "id": "17ec092e",
   "metadata": {},
   "outputs": [],
   "source": [
    "if os.path.exists(checkpoint_path):\n",
    "    print(\"Loading model from checkpoint...\")\n",
    "    model = load_model(checkpoint_path)\n",
    "else:\n",
    "    print(\"Checkpoint not found. Initializing new model...\")\n",
    "    # Initialize your model architecture here\n",
    "    model = create_model()"
   ]
  },
  {
   "cell_type": "markdown",
   "id": "1be5a465",
   "metadata": {},
   "source": [
    "### Create the checkpoint callback"
   ]
  },
  {
   "cell_type": "code",
   "execution_count": null,
   "id": "54c5d77c",
   "metadata": {},
   "outputs": [],
   "source": [
    "checkpoint = ModelCheckpoint(\n",
    "    filepath=checkpoint_path, \n",
    "    monitor='val_loss', \n",
    "    verbose=1, \n",
    "    save_best_only=True, \n",
    "    mode='min'\n",
    ")"
   ]
  },
  {
   "cell_type": "markdown",
   "id": "f4fe5fb9",
   "metadata": {},
   "source": [
    "# 4. Fit Network"
   ]
  },
  {
   "cell_type": "code",
   "execution_count": null,
   "id": "b209aa25",
   "metadata": {},
   "outputs": [],
   "source": [
    "start_time = time.time()\n",
    "\n",
    "history = gru_model.fit(X_train_reshaped, y_train,\n",
    "                         batch_size=batch_size,\n",
    "                         epochs=epochs,\n",
    "                         validation_split=0.1,\n",
    "                         callbacks=[checkpoint, early_stopping], \n",
    "                         verbose=1)\n",
    "\n",
    "end_time = time.time()\n",
    "\n",
    "training_time = end_time - start_time\n",
    "print(\"Training Time: \", training_time, \"seconds\")"
   ]
  },
  {
   "cell_type": "markdown",
   "id": "233e5813",
   "metadata": {},
   "source": [
    "# 5. Model Evaluation"
   ]
  },
  {
   "cell_type": "markdown",
   "id": "fac60871",
   "metadata": {},
   "source": [
    "# Importing Libraries - Evaluation"
   ]
  },
  {
   "cell_type": "code",
   "execution_count": null,
   "id": "6e546835",
   "metadata": {},
   "outputs": [],
   "source": [
    "import seaborn as sns\n",
    "from sklearn.metrics import roc_curve, auc\n",
    "from sklearn.metrics import confusion_matrix\n",
    "from sklearn.metrics import classification_report\n",
    "from sklearn.metrics import accuracy_score, precision_score, recall_score, f1_score, roc_auc_score"
   ]
  },
  {
   "cell_type": "markdown",
   "id": "5bd8e2a4",
   "metadata": {},
   "source": [
    "# Plotting Loss and Accuracy Curve"
   ]
  },
  {
   "cell_type": "markdown",
   "id": "decc0953",
   "metadata": {},
   "source": [
    "### Loss Curve"
   ]
  },
  {
   "cell_type": "code",
   "execution_count": null,
   "id": "de1067f7",
   "metadata": {},
   "outputs": [],
   "source": [
    "plt.figure(figsize=[8,6])\n",
    "\n",
    "plt.plot(history.history['loss'], 'r', linewidth=3.0)\n",
    "plt.plot(history.history['val_loss'], 'b', linewidth=3.0)\n",
    "\n",
    "plt.xlabel('Epochs', fontsize=16)\n",
    "plt.ylabel('Loss', fontsize=16)\n",
    "\n",
    "plt.legend(['Training Loss', 'Validation Loss'], fontsize=18)\n",
    "plt.title('Loss Curve of LSTM Neural Network', fontsize=16)\n",
    "\n",
    "plt.grid(True)\n",
    "plt.show()"
   ]
  },
  {
   "cell_type": "markdown",
   "id": "13d1eeae",
   "metadata": {},
   "source": [
    "### Accuracy Curve"
   ]
  },
  {
   "cell_type": "code",
   "execution_count": null,
   "id": "d8aa65d1",
   "metadata": {},
   "outputs": [],
   "source": [
    "plt.figure(figsize=[8,6])\n",
    "\n",
    "plt.plot(history.history['accuracy'], 'r', linewidth=3.0)\n",
    "plt.plot(history.history['val_accuracy'], 'b', linewidth=3.0)\n",
    "\n",
    "plt.xlabel('Epochs', fontsize=16)\n",
    "plt.ylabel('Accuracy', fontsize=16)\n",
    "\n",
    "plt.legend(['Training Accuracy', 'Validation Accuracy'], fontsize=18)\n",
    "plt.title('Accuracy Curve of LSTM Neural Network', fontsize=16)\n",
    "\n",
    "plt.grid(True)\n",
    "plt.show()"
   ]
  },
  {
   "cell_type": "markdown",
   "id": "c79f88bc",
   "metadata": {},
   "source": [
    "### Reshaping X_test for LSTM Model Evaluation"
   ]
  },
  {
   "cell_type": "code",
   "execution_count": null,
   "id": "928d3420",
   "metadata": {},
   "outputs": [],
   "source": [
    "X_test_array = X_test.values\n",
    "X_test_reshaped = X_test_array.reshape(X_test_array.shape[0], X_test_array.shape[1], 1)"
   ]
  },
  {
   "cell_type": "code",
   "execution_count": null,
   "id": "67cfa332",
   "metadata": {},
   "outputs": [],
   "source": [
    "X_test_reshaped"
   ]
  },
  {
   "cell_type": "markdown",
   "id": "5dc04b9e",
   "metadata": {},
   "source": [
    "###  Make predictions on test data"
   ]
  },
  {
   "cell_type": "code",
   "execution_count": null,
   "id": "092a3186",
   "metadata": {},
   "outputs": [],
   "source": [
    "y_pred_prob = gru_model.predict(X_test_reshaped)\n",
    "y_pred = (y_pred_prob > 0.5).astype(int).flatten()  # Convert probabilities to classes"
   ]
  },
  {
   "cell_type": "markdown",
   "id": "e73cfada",
   "metadata": {},
   "source": [
    "# Classification Report"
   ]
  },
  {
   "cell_type": "code",
   "execution_count": null,
   "id": "50511da1",
   "metadata": {},
   "outputs": [],
   "source": [
    "test_loss, test_accuracy = gru_model.evaluate(X_test_reshaped, y_test, verbose=0)\n",
    "print(f'Test accuracy: {test_accuracy:.2f}, Test loss: {test_loss:.2f}')"
   ]
  },
  {
   "cell_type": "code",
   "execution_count": null,
   "id": "6aa60e39",
   "metadata": {},
   "outputs": [],
   "source": [
    "classification_report = classification_report(y_test, y_pred)\n",
    "print(classification_report)"
   ]
  },
  {
   "cell_type": "markdown",
   "id": "b8585389",
   "metadata": {},
   "source": [
    "# Confusion Matrix"
   ]
  },
  {
   "cell_type": "code",
   "execution_count": null,
   "id": "7dce2fde",
   "metadata": {},
   "outputs": [],
   "source": [
    "class_labels = [\"Alert\", \"Drowsy\"]\n",
    "\n",
    "conf_matrix = confusion_matrix(y_test, y_pred)\n",
    "accuracy = accuracy_score(y_test, y_pred) * 100\n",
    "\n",
    "# Plot confusion matrix\n",
    "plt.figure(figsize=(8, 6))\n",
    "sns.heatmap(conf_matrix, annot=True, fmt='d', cmap='Blues', cbar=True, xticklabels=class_labels, yticklabels=class_labels, linewidths=.5)\n",
    "\n",
    "plt.title(f'Confusion Matrix (Accuracy: {accuracy:.2f}%)', fontsize=16)\n",
    "\n",
    "plt.xlabel('Predicted Label', fontsize=14)\n",
    "plt.ylabel('True Label', fontsize=14)\n",
    "\n",
    "plt.xticks(rotation=0, fontsize=12)  \n",
    "plt.yticks(rotation=0, fontsize=12)  \n",
    "\n",
    "plt.show()"
   ]
  },
  {
   "cell_type": "markdown",
   "id": "0f343fa0",
   "metadata": {},
   "source": [
    "# Evaluation Metrics"
   ]
  },
  {
   "cell_type": "code",
   "execution_count": null,
   "id": "2de39a2f",
   "metadata": {},
   "outputs": [],
   "source": [
    "# Calculate accuracy, precision, recall, F1-score, AUC-ROC\n",
    "\n",
    "accuracy = accuracy_score(y_test, y_pred)\n",
    "precision = precision_score(y_test, y_pred)\n",
    "recall = recall_score(y_test, y_pred)\n",
    "f1 = f1_score(y_test, y_pred)\n",
    "auc_roc = roc_auc_score(y_test, y_pred_prob)\n",
    "\n",
    "print(\"Accuracy:\", accuracy)\n",
    "print(\"Precision:\", precision)\n",
    "print(\"Recall:\", recall)\n",
    "print(\"F1-score:\", f1)\n",
    "print(\"AUC-ROC:\", auc_roc)"
   ]
  },
  {
   "cell_type": "markdown",
   "id": "af0c07a2",
   "metadata": {},
   "source": [
    "# Receiver Operating Characteristic (ROC) Curve"
   ]
  },
  {
   "cell_type": "code",
   "execution_count": null,
   "id": "40f0baa0",
   "metadata": {},
   "outputs": [],
   "source": [
    "roc_data = {}\n",
    "\n",
    "fpr, tpr, thresholds = roc_curve(y_test, y_pred_prob)\n",
    "roc_auc = auc(fpr, tpr)\n",
    "roc_data['LSTM Model'] = {'fpr': fpr, 'tpr': tpr, 'roc_auc': roc_auc}\n",
    "\n",
    "# Plotting ROC Curves \n",
    "plt.figure(figsize=(10, 8))\n",
    "for name, data in roc_data.items():\n",
    "    plt.plot(data['fpr'], data['tpr'], lw=2, label=f'{name} (AUC = {data[\"roc_auc\"]:.2f})')\n",
    "\n",
    "plt.plot([0, 1], [0, 1], linestyle='--', color='gray', lw=2, label='Random Guessing')\n",
    "plt.xlim([0.0, 1.0])\n",
    "plt.ylim([0.0, 1.05])\n",
    "plt.xlabel('False Positive Rate', fontsize=14)\n",
    "plt.ylabel('True Positive Rate', fontsize=14)\n",
    "plt.title('Receiver Operating Characteristic (ROC) Curve', fontsize=16)\n",
    "plt.legend(loc='lower right', fontsize=12)\n",
    "plt.grid(True)\n",
    "plt.show()"
   ]
  },
  {
   "cell_type": "markdown",
   "id": "1e13a43a",
   "metadata": {},
   "source": [
    "# Saving the model and training history "
   ]
  },
  {
   "cell_type": "code",
   "execution_count": null,
   "id": "6203847b",
   "metadata": {},
   "outputs": [],
   "source": [
    "gru_model.save('EEG_Driver_Drowsiness_GRU_Architecture.h5')\n",
    "np.save('EEG_Driver_Drowsiness_GRU_history.npy', history.history)"
   ]
  },
  {
   "cell_type": "code",
   "execution_count": null,
   "id": "8b6fab00",
   "metadata": {},
   "outputs": [],
   "source": []
  },
  {
   "cell_type": "code",
   "execution_count": null,
   "id": "05fe25e2",
   "metadata": {},
   "outputs": [],
   "source": []
  },
  {
   "cell_type": "code",
   "execution_count": null,
   "id": "ba7597d7",
   "metadata": {},
   "outputs": [],
   "source": []
  }
 ],
 "metadata": {
  "kernelspec": {
   "display_name": "Python 3 (ipykernel)",
   "language": "python",
   "name": "python3"
  },
  "language_info": {
   "codemirror_mode": {
    "name": "ipython",
    "version": 3
   },
   "file_extension": ".py",
   "mimetype": "text/x-python",
   "name": "python",
   "nbconvert_exporter": "python",
   "pygments_lexer": "ipython3",
   "version": "3.9.15"
  }
 },
 "nbformat": 4,
 "nbformat_minor": 5
}
