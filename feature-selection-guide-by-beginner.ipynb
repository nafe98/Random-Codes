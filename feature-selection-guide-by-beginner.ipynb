{
 "cells": [
  {
   "cell_type": "code",
   "execution_count": 1,
   "metadata": {
    "_cell_guid": "b1076dfc-b9ad-4769-8c92-a6c4dae69d19",
    "_kg_hide-input": true,
    "_kg_hide-output": true,
    "_uuid": "8f2839f25d086af736a60e9eeb907d3b93b6e0e5",
    "execution": {
     "iopub.execute_input": "2021-01-06T14:11:51.718576Z",
     "iopub.status.busy": "2021-01-06T14:11:51.717676Z",
     "iopub.status.idle": "2021-01-06T14:11:51.747612Z",
     "shell.execute_reply": "2021-01-06T14:11:51.748342Z"
    },
    "papermill": {
     "duration": 0.07658,
     "end_time": "2021-01-06T14:11:51.748542",
     "exception": false,
     "start_time": "2021-01-06T14:11:51.671962",
     "status": "completed"
    },
    "tags": []
   },
   "outputs": [
    {
     "name": "stdout",
     "output_type": "stream",
     "text": [
      "/kaggle/input/hottochoosetest/How-to-Choose-Feature-Selection-Methods-For-Machine-Learning.png\n",
      "/kaggle/input/hr-analytics-job-change-of-data-scientists/sample_submission.csv\n",
      "/kaggle/input/hr-analytics-job-change-of-data-scientists/aug_test.csv\n",
      "/kaggle/input/hr-analytics-job-change-of-data-scientists/aug_train.csv\n",
      "/kaggle/input/startup/50_Startups.csv\n"
     ]
    }
   ],
   "source": [
    "import os\n",
    "for dirname, _, filenames in os.walk('/kaggle/input'):\n",
    "    for filename in filenames:\n",
    "        print(os.path.join(dirname, filename))"
   ]
  },
  {
   "cell_type": "code",
   "execution_count": 2,
   "metadata": {
    "_kg_hide-input": true,
    "_kg_hide-output": true,
    "execution": {
     "iopub.execute_input": "2021-01-06T14:11:51.833189Z",
     "iopub.status.busy": "2021-01-06T14:11:51.832249Z",
     "iopub.status.idle": "2021-01-06T14:11:53.024399Z",
     "shell.execute_reply": "2021-01-06T14:11:53.025018Z"
    },
    "papermill": {
     "duration": 1.238149,
     "end_time": "2021-01-06T14:11:53.025218",
     "exception": false,
     "start_time": "2021-01-06T14:11:51.787069",
     "status": "completed"
    },
    "tags": []
   },
   "outputs": [],
   "source": [
    "import pandas as pd\n",
    "import numpy as np\n",
    "import matplotlib.pyplot as plt\n",
    "import seaborn as sns\n",
    "import warnings\n",
    "import random\n",
    "\n",
    "warnings.filterwarnings('ignore')\n",
    "sns.set()\n",
    "\n",
    "pd.set_option('display.max_columns', None)\n",
    "pd.set_option('display.width', None)\n",
    "pd.set_option('display.max_colwidth', None)"
   ]
  },
  {
   "cell_type": "markdown",
   "metadata": {
    "papermill": {
     "duration": 0.037128,
     "end_time": "2021-01-06T14:11:53.101416",
     "exception": false,
     "start_time": "2021-01-06T14:11:53.064288",
     "status": "completed"
    },
    "tags": []
   },
   "source": [
    "# Introduction"
   ]
  },
  {
   "cell_type": "markdown",
   "metadata": {
    "papermill": {
     "duration": 0.037331,
     "end_time": "2021-01-06T14:11:53.176304",
     "exception": false,
     "start_time": "2021-01-06T14:11:53.138973",
     "status": "completed"
    },
    "tags": []
   },
   "source": [
    "**Motivation**: When we have a large number of predictors it might not all of them that are useful for our algorithm to learn their relationship with target. Moreover, having a large number of predictors can lead to overfit and take much more time to converge. Thus, it would be good if we could discard the bad predictors, the ones that are lack of explanatory power, and leave model only useful ones.<br>\n",
    "\n",
    "To have a clear picture, consider the following example dataset."
   ]
  },
  {
   "cell_type": "code",
   "execution_count": 3,
   "metadata": {
    "_kg_hide-input": true,
    "execution": {
     "iopub.execute_input": "2021-01-06T14:11:53.255863Z",
     "iopub.status.busy": "2021-01-06T14:11:53.254778Z",
     "iopub.status.idle": "2021-01-06T14:11:53.300216Z",
     "shell.execute_reply": "2021-01-06T14:11:53.300782Z"
    },
    "papermill": {
     "duration": 0.087113,
     "end_time": "2021-01-06T14:11:53.300976",
     "exception": false,
     "start_time": "2021-01-06T14:11:53.213863",
     "status": "completed"
    },
    "tags": []
   },
   "outputs": [
    {
     "data": {
      "text/html": [
       "<div>\n",
       "<style scoped>\n",
       "    .dataframe tbody tr th:only-of-type {\n",
       "        vertical-align: middle;\n",
       "    }\n",
       "\n",
       "    .dataframe tbody tr th {\n",
       "        vertical-align: top;\n",
       "    }\n",
       "\n",
       "    .dataframe thead th {\n",
       "        text-align: right;\n",
       "    }\n",
       "</style>\n",
       "<table border=\"1\" class=\"dataframe\">\n",
       "  <thead>\n",
       "    <tr style=\"text-align: right;\">\n",
       "      <th></th>\n",
       "      <th>Predictor_1</th>\n",
       "      <th>Predictor_2</th>\n",
       "      <th>Target</th>\n",
       "    </tr>\n",
       "  </thead>\n",
       "  <tbody>\n",
       "    <tr>\n",
       "      <th>0</th>\n",
       "      <td>3.383190</td>\n",
       "      <td>13.160289</td>\n",
       "      <td>427.373998</td>\n",
       "    </tr>\n",
       "    <tr>\n",
       "      <th>1</th>\n",
       "      <td>6.028117</td>\n",
       "      <td>19.660346</td>\n",
       "      <td>538.681889</td>\n",
       "    </tr>\n",
       "    <tr>\n",
       "      <th>2</th>\n",
       "      <td>16.179873</td>\n",
       "      <td>17.570741</td>\n",
       "      <td>2519.422579</td>\n",
       "    </tr>\n",
       "    <tr>\n",
       "      <th>3</th>\n",
       "      <td>18.316871</td>\n",
       "      <td>19.576037</td>\n",
       "      <td>3293.497025</td>\n",
       "    </tr>\n",
       "    <tr>\n",
       "      <th>4</th>\n",
       "      <td>7.936826</td>\n",
       "      <td>14.088846</td>\n",
       "      <td>598.571191</td>\n",
       "    </tr>\n",
       "    <tr>\n",
       "      <th>...</th>\n",
       "      <td>...</td>\n",
       "      <td>...</td>\n",
       "      <td>...</td>\n",
       "    </tr>\n",
       "    <tr>\n",
       "      <th>95</th>\n",
       "      <td>6.666474</td>\n",
       "      <td>19.433170</td>\n",
       "      <td>580.525407</td>\n",
       "    </tr>\n",
       "    <tr>\n",
       "      <th>96</th>\n",
       "      <td>15.476010</td>\n",
       "      <td>2.522063</td>\n",
       "      <td>2201.934186</td>\n",
       "    </tr>\n",
       "    <tr>\n",
       "      <th>97</th>\n",
       "      <td>18.231277</td>\n",
       "      <td>17.313722</td>\n",
       "      <td>3207.573403</td>\n",
       "    </tr>\n",
       "    <tr>\n",
       "      <th>98</th>\n",
       "      <td>9.654637</td>\n",
       "      <td>6.490393</td>\n",
       "      <td>742.991400</td>\n",
       "    </tr>\n",
       "    <tr>\n",
       "      <th>99</th>\n",
       "      <td>19.203485</td>\n",
       "      <td>15.020758</td>\n",
       "      <td>3609.030998</td>\n",
       "    </tr>\n",
       "  </tbody>\n",
       "</table>\n",
       "<p>100 rows × 3 columns</p>\n",
       "</div>"
      ],
      "text/plain": [
       "    Predictor_1  Predictor_2       Target\n",
       "0      3.383190    13.160289   427.373998\n",
       "1      6.028117    19.660346   538.681889\n",
       "2     16.179873    17.570741  2519.422579\n",
       "3     18.316871    19.576037  3293.497025\n",
       "4      7.936826    14.088846   598.571191\n",
       "..          ...          ...          ...\n",
       "95     6.666474    19.433170   580.525407\n",
       "96    15.476010     2.522063  2201.934186\n",
       "97    18.231277    17.313722  3207.573403\n",
       "98     9.654637     6.490393   742.991400\n",
       "99    19.203485    15.020758  3609.030998\n",
       "\n",
       "[100 rows x 3 columns]"
      ]
     },
     "execution_count": 3,
     "metadata": {},
     "output_type": "execute_result"
    }
   ],
   "source": [
    "example_1 = pd.DataFrame()\n",
    "\n",
    "def my_func(x):\n",
    "    return (5*x**3+10+np.random.uniform(low=0.1, high=5000))/10\n",
    "\n",
    "example_1['Predictor_1'] = np.random.uniform(low=1, high=20, size=100)\n",
    "example_1['Predictor_2'] = np.random.uniform(low=1, high=20, size=100)\n",
    "example_1['Target'] = example_1['Predictor_1'].apply(my_func)\n",
    "\n",
    "example_1"
   ]
  },
  {
   "cell_type": "markdown",
   "metadata": {
    "papermill": {
     "duration": 0.038543,
     "end_time": "2021-01-06T14:11:53.377838",
     "exception": false,
     "start_time": "2021-01-06T14:11:53.339295",
     "status": "completed"
    },
    "tags": []
   },
   "source": [
    "I defined the example_1 DataFrame which have 2 continuous predictors('Predictor_1', 'Predictor_1') and one continuous target('Target').\n",
    "We can clearly see their relationship in the scatterplot below. "
   ]
  },
  {
   "cell_type": "code",
   "execution_count": 4,
   "metadata": {
    "_kg_hide-input": true,
    "execution": {
     "iopub.execute_input": "2021-01-06T14:11:53.458066Z",
     "iopub.status.busy": "2021-01-06T14:11:53.457358Z",
     "iopub.status.idle": "2021-01-06T14:11:54.150019Z",
     "shell.execute_reply": "2021-01-06T14:11:54.149401Z"
    },
    "papermill": {
     "duration": 0.734321,
     "end_time": "2021-01-06T14:11:54.150158",
     "exception": false,
     "start_time": "2021-01-06T14:11:53.415837",
     "status": "completed"
    },
    "tags": []
   },
   "outputs": [
    {
     "data": {
      "image/png": "[encoded data removed]",
      "text/plain": [
       "<Figure size 936x360 with 2 Axes>"
      ]
     },
     "metadata": {},
     "output_type": "display_data"
    }
   ],
   "source": [
    "fig, ax = plt.subplots(1,2, sharey=True)\n",
    "fig.set_size_inches(13,5)\n",
    "sns.scatterplot(data=example_1, x='Predictor_1', y='Target', ax=ax[0])\n",
    "sns.scatterplot(data=example_1, x='Predictor_2', y='Target', ax=ax[1])\n",
    "plt.show()"
   ]
  },
  {
   "cell_type": "markdown",
   "metadata": {
    "papermill": {
     "duration": 0.039403,
     "end_time": "2021-01-06T14:11:54.230001",
     "exception": false,
     "start_time": "2021-01-06T14:11:54.190598",
     "status": "completed"
    },
    "tags": []
   },
   "source": [
    "When we see the relationships, the first thought is that 'Predictor_2' is useless in guessing the relationship between predictors and 'Target'. That said even we know 'Predictor_2' it doesn't seem to be helpful.  The question is, should we discard it?. <br>\n",
    "\n",
    "\n",
    "The reason why we feel in that way is we visually see that 'Predictor_1' and 'Target' are highly correlated in someway. But not for 'Predictor_2', it seems to be a mess, random, and not related to'Target'. <br>\n",
    "\n",
    "Let's see another example."
   ]
  },
  {
   "cell_type": "code",
   "execution_count": 5,
   "metadata": {
    "_kg_hide-input": true,
    "execution": {
     "iopub.execute_input": "2021-01-06T14:11:54.313798Z",
     "iopub.status.busy": "2021-01-06T14:11:54.312945Z",
     "iopub.status.idle": "2021-01-06T14:11:54.340982Z",
     "shell.execute_reply": "2021-01-06T14:11:54.341489Z"
    },
    "papermill": {
     "duration": 0.071495,
     "end_time": "2021-01-06T14:11:54.341667",
     "exception": false,
     "start_time": "2021-01-06T14:11:54.270172",
     "status": "completed"
    },
    "tags": []
   },
   "outputs": [
    {
     "data": {
      "text/html": [
       "<div>\n",
       "<style scoped>\n",
       "    .dataframe tbody tr th:only-of-type {\n",
       "        vertical-align: middle;\n",
       "    }\n",
       "\n",
       "    .dataframe tbody tr th {\n",
       "        vertical-align: top;\n",
       "    }\n",
       "\n",
       "    .dataframe thead th {\n",
       "        text-align: right;\n",
       "    }\n",
       "</style>\n",
       "<table border=\"1\" class=\"dataframe\">\n",
       "  <thead>\n",
       "    <tr style=\"text-align: right;\">\n",
       "      <th></th>\n",
       "      <th>Gender</th>\n",
       "      <th>Graduated</th>\n",
       "      <th>Salary</th>\n",
       "    </tr>\n",
       "  </thead>\n",
       "  <tbody>\n",
       "    <tr>\n",
       "      <th>0</th>\n",
       "      <td>Female</td>\n",
       "      <td>No</td>\n",
       "      <td>843.115996</td>\n",
       "    </tr>\n",
       "    <tr>\n",
       "      <th>1</th>\n",
       "      <td>Female</td>\n",
       "      <td>Yes</td>\n",
       "      <td>1120.394596</td>\n",
       "    </tr>\n",
       "    <tr>\n",
       "      <th>2</th>\n",
       "      <td>Female</td>\n",
       "      <td>Yes</td>\n",
       "      <td>1066.266874</td>\n",
       "    </tr>\n",
       "    <tr>\n",
       "      <th>3</th>\n",
       "      <td>Female</td>\n",
       "      <td>Yes</td>\n",
       "      <td>1138.437681</td>\n",
       "    </tr>\n",
       "    <tr>\n",
       "      <th>4</th>\n",
       "      <td>Male</td>\n",
       "      <td>No</td>\n",
       "      <td>961.898460</td>\n",
       "    </tr>\n",
       "    <tr>\n",
       "      <th>...</th>\n",
       "      <td>...</td>\n",
       "      <td>...</td>\n",
       "      <td>...</td>\n",
       "    </tr>\n",
       "    <tr>\n",
       "      <th>95</th>\n",
       "      <td>Male</td>\n",
       "      <td>No</td>\n",
       "      <td>915.277639</td>\n",
       "    </tr>\n",
       "    <tr>\n",
       "      <th>96</th>\n",
       "      <td>Male</td>\n",
       "      <td>Yes</td>\n",
       "      <td>1060.132300</td>\n",
       "    </tr>\n",
       "    <tr>\n",
       "      <th>97</th>\n",
       "      <td>Male</td>\n",
       "      <td>Yes</td>\n",
       "      <td>1093.175149</td>\n",
       "    </tr>\n",
       "    <tr>\n",
       "      <th>98</th>\n",
       "      <td>Male</td>\n",
       "      <td>Yes</td>\n",
       "      <td>1161.422448</td>\n",
       "    </tr>\n",
       "    <tr>\n",
       "      <th>99</th>\n",
       "      <td>Female</td>\n",
       "      <td>No</td>\n",
       "      <td>960.425789</td>\n",
       "    </tr>\n",
       "  </tbody>\n",
       "</table>\n",
       "<p>100 rows × 3 columns</p>\n",
       "</div>"
      ],
      "text/plain": [
       "    Gender Graduated       Salary\n",
       "0   Female        No   843.115996\n",
       "1   Female       Yes  1120.394596\n",
       "2   Female       Yes  1066.266874\n",
       "3   Female       Yes  1138.437681\n",
       "4     Male        No   961.898460\n",
       "..     ...       ...          ...\n",
       "95    Male        No   915.277639\n",
       "96    Male       Yes  1060.132300\n",
       "97    Male       Yes  1093.175149\n",
       "98    Male       Yes  1161.422448\n",
       "99  Female        No   960.425789\n",
       "\n",
       "[100 rows x 3 columns]"
      ]
     },
     "execution_count": 5,
     "metadata": {},
     "output_type": "execute_result"
    }
   ],
   "source": [
    "from scipy.stats import norm\n",
    "example_2 = pd.DataFrame()\n",
    "\n",
    "example_2['Gender'] = random.choices(['Male','Female'], k=100)\n",
    "example_2['Graduated'] = random.choices(['Yes','No'], k=100)\n",
    "example_2['Salary'] = norm.rvs(loc=1000,scale=50,size=100)\n",
    "example_2['Salary'] =example_2.apply(lambda x:x[2]+100 if x[1]=='Yes' else x[2]-100, axis=1)\n",
    "\n",
    "example_2"
   ]
  },
  {
   "cell_type": "code",
   "execution_count": 6,
   "metadata": {
    "_kg_hide-input": true,
    "execution": {
     "iopub.execute_input": "2021-01-06T14:11:54.426061Z",
     "iopub.status.busy": "2021-01-06T14:11:54.425365Z",
     "iopub.status.idle": "2021-01-06T14:11:54.716908Z",
     "shell.execute_reply": "2021-01-06T14:11:54.716113Z"
    },
    "papermill": {
     "duration": 0.33517,
     "end_time": "2021-01-06T14:11:54.717038",
     "exception": false,
     "start_time": "2021-01-06T14:11:54.381868",
     "status": "completed"
    },
    "tags": []
   },
   "outputs": [
    {
     "data": {
      "image/png": "[encoded data removed]",
      "text/plain": [
       "<Figure size 936x360 with 2 Axes>"
      ]
     },
     "metadata": {},
     "output_type": "display_data"
    }
   ],
   "source": [
    "fig, ax = plt.subplots(1,2, sharey=True)\n",
    "fig.set_size_inches(13, 5)\n",
    "sns.boxplot(data=example_2, x='Gender', y='Salary', ax=ax[0])\n",
    "sns.boxplot(data=example_2, x='Graduated', y='Salary', ax=ax[1])\n",
    "plt.show()"
   ]
  },
  {
   "cell_type": "markdown",
   "metadata": {
    "papermill": {
     "duration": 0.040779,
     "end_time": "2021-01-06T14:11:54.798459",
     "exception": false,
     "start_time": "2021-01-06T14:11:54.757680",
     "status": "completed"
    },
    "tags": []
   },
   "source": [
    "In this case, the first thought is that 'Gender' makes no different in 'Salary'. That said, it's no matter that one is male or female, his/her salary is almost the same. But not for 'Graduated', we clearly see that if one is graduated, his/her salary is obviously much higher than who isn't. The question is, since 'Gender' make no differences, should we discard it?"
   ]
  },
  {
   "cell_type": "markdown",
   "metadata": {
    "papermill": {
     "duration": 0.041239,
     "end_time": "2021-01-06T14:11:54.880375",
     "exception": false,
     "start_time": "2021-01-06T14:11:54.839136",
     "status": "completed"
    },
    "tags": []
   },
   "source": [
    "If we carefully consider every single relationship between each predictor and target, we will definitely have our own guesses. <br>\n",
    "But **\"first thought or guessing\"** are bad. It's not scientific. In this notebook, I'll try to illustrate some common methods that are more reliable, scientific than that.\n"
   ]
  },
  {
   "cell_type": "markdown",
   "metadata": {
    "papermill": {
     "duration": 0.040595,
     "end_time": "2021-01-06T14:11:54.963796",
     "exception": false,
     "start_time": "2021-01-06T14:11:54.923201",
     "status": "completed"
    },
    "tags": []
   },
   "source": [
    "---"
   ]
  },
  {
   "cell_type": "markdown",
   "metadata": {
    "papermill": {
     "duration": 0.043693,
     "end_time": "2021-01-06T14:11:55.049323",
     "exception": false,
     "start_time": "2021-01-06T14:11:55.005630",
     "status": "completed"
    },
    "tags": []
   },
   "source": [
    "# Feature selection <br>\n",
    "is the process of reducing the number of input variables when developing a predictive model. The goal of feature selection in machine learning is to find the best set of features that allows one to build useful models <br>\n",
    "The techniques for feature selection in machine learning can be broadly classified into the following categories:<br>\n",
    "1. **Filter methods** : These methods are more reliable methods I said earlier. They select subsets of features based on their relationship with the target using statistical test. Filter methods pick feature subset by not including any machine-learning algorithm. \n",
    "<!-- ![Alt Text](image path \"title\") -->\n",
    "![Alt Text](https://res.cloudinary.com/dyd911kmh/image/upload/f_auto,q_auto:best/v1537552825/Image3_fqsh79.png \"Optional Title\")\n",
    "\n",
    "2. **Wrapper methods** : Different from the first ones, rather than using statistical test, these methods take advantages of machine-learning algorithms since many of them internally identify which predictors are good for performance. Wrapper method uses one machine learning algorithm and its performance to evaluate features' importance. This method searches for a feature which is best-suited for the machine learning algorithm and aims to improve the performance.\n",
    "<!-- ![Alt Text](image path \"title\") -->\n",
    "![Alt Text](https://res.cloudinary.com/dyd911kmh/image/upload/f_auto,q_auto:best/v1537549832/Image2_ajaeo8.png \"Optional Title\")\n",
    "\n",
    "\n",
    "3. **Embedded methods** : Embedded methods are iterative in a sense that takes care of each iteration of the model training process and carefully extract those features which contribute the most to the training for a particular iteration. Regularization methods are the most commonly used embedded methods which penalize a feature given a coefficient threshold.\n",
    "\n",
    "\n"
   ]
  },
  {
   "cell_type": "markdown",
   "metadata": {
    "papermill": {
     "duration": 0.04088,
     "end_time": "2021-01-06T14:11:55.131203",
     "exception": false,
     "start_time": "2021-01-06T14:11:55.090323",
     "status": "completed"
    },
    "tags": []
   },
   "source": [
    "---"
   ]
  },
  {
   "cell_type": "markdown",
   "metadata": {
    "papermill": {
     "duration": 0.040444,
     "end_time": "2021-01-06T14:11:55.213016",
     "exception": false,
     "start_time": "2021-01-06T14:11:55.172572",
     "status": "completed"
    },
    "tags": []
   },
   "source": [
    "# 1) Filter methods <br>\n",
    "Let's first state the common data types:\n",
    "- **Numerical Variables**: Integer, Floating point\n",
    "\n",
    "\n",
    "- **Categorical Variables**\n",
    "    - Boolean, Binary\n",
    "    - Ordinal : Categories with implied order\n",
    "    - Norminal : Named categories\n",
    "\n",
    "**___SUMMARY OF FILTER METHODS** ___<br>\n",
    "\n",
    "The following cases are all possible cases you might encounter when trying to build some predictive model.\n",
    "\n",
    "## 1.1) Numerical Input, Numerical Output\n",
    "\n",
    "- Pearson’s correlation coefficient (linear) -> [sklearn.feature_selection.f_regression](https://scikit-learn.org/stable/modules/generated/sklearn.feature_selection.f_regression.html \"sklearn doc\")<br>\n",
    "- Spearman’s rank coefficient (nonlinear)  -> [scipy.stats.spearmanr](https://docs.scipy.org/doc/scipy/reference/generated/scipy.stats.spearmanr.html)\n",
    "\n",
    "## 1.2) Numerical Input, Categorical Output\n",
    "\n",
    "- ANOVA correlation coefficient (linear) -> [sklearn.feature_selection.f_classif](https://scikit-learn.org/stable/modules/generated/sklearn.feature_selection.f_classif.html \"Compute the ANOVA F-value for the provided sample.\")<br>\n",
    "- Kendall’s rank coefficient (nonlinear) -> [scipy.stats.kendalltau](https://docs.scipy.org/doc/scipy/reference/generated/scipy.stats.kendalltau.html)<br>\n",
    "\n",
    "Note: Kendall does assume that the categorical variable is ordinal. <br>\n",
    "\n",
    "\n",
    "## 1.3)Categorical Input, Categorical Output\n",
    "\n",
    "- Chi-Squared test -> [sklearn.feature_selection.chi2](https://scikit-learn.org/stable/modules/generated/sklearn.feature_selection.chi2.html)\n",
    "- Mutual Information, Information gain -> [sklearn.feature_selection.mutual_info_classif](https://scikit-learn.org/stable/modules/generated/sklearn.feature_selection.mutual_info_classif.html) for a discrete target variable,  [sklearn.feature_selection.mutual_info_regression](https://scikit-learn.org/stable/modules/generated/sklearn.feature_selection.mutual_info_regression.html) for a continuous target variable. <br>\n",
    "\n",
    "## 1.4) Categorical Input, Numerical Output\n",
    "This is a regression problem with categorical input variables.\n",
    "This is a strange example of a regression problem (e.g. you would not encounter it often). <br>"
   ]
  },
  {
   "cell_type": "markdown",
   "metadata": {
    "papermill": {
     "duration": 0.041991,
     "end_time": "2021-01-06T14:11:55.296337",
     "exception": false,
     "start_time": "2021-01-06T14:11:55.254346",
     "status": "completed"
    },
    "tags": []
   },
   "source": [
    "___"
   ]
  },
  {
   "cell_type": "markdown",
   "metadata": {
    "papermill": {
     "duration": 0.040754,
     "end_time": "2021-01-06T14:11:55.378132",
     "exception": false,
     "start_time": "2021-01-06T14:11:55.337378",
     "status": "completed"
    },
    "tags": []
   },
   "source": [
    "In this section, I'll show some examples for each case using 2 dataset."
   ]
  },
  {
   "cell_type": "markdown",
   "metadata": {
    "papermill": {
     "duration": 0.04045,
     "end_time": "2021-01-06T14:11:55.459315",
     "exception": false,
     "start_time": "2021-01-06T14:11:55.418865",
     "status": "completed"
    },
    "tags": []
   },
   "source": [
    "### \"\"HR-Analytics\" Dataset used for classification problem. <br>\n",
    "- y_class : target variable of classification problem\n",
    "- X_category_class : categorical predictors of classification problem\n",
    "- X_numeric_class : numerical predictors of classification problem\n",
    "\n",
    "Note: for X_category_class, I'll use just 4 variables *(\"company_size\", \"company_type\", \"last_new_job\", and \"training_hours\")* just for simplicity."
   ]
  },
  {
   "cell_type": "code",
   "execution_count": 7,
   "metadata": {
    "_kg_hide-input": false,
    "execution": {
     "iopub.execute_input": "2021-01-06T14:11:55.548710Z",
     "iopub.status.busy": "2021-01-06T14:11:55.547864Z",
     "iopub.status.idle": "2021-01-06T14:11:55.651422Z",
     "shell.execute_reply": "2021-01-06T14:11:55.650813Z"
    },
    "papermill": {
     "duration": 0.151201,
     "end_time": "2021-01-06T14:11:55.651552",
     "exception": false,
     "start_time": "2021-01-06T14:11:55.500351",
     "status": "completed"
    },
    "tags": []
   },
   "outputs": [
    {
     "data": {
      "text/html": [
       "<div>\n",
       "<style scoped>\n",
       "    .dataframe tbody tr th:only-of-type {\n",
       "        vertical-align: middle;\n",
       "    }\n",
       "\n",
       "    .dataframe tbody tr th {\n",
       "        vertical-align: top;\n",
       "    }\n",
       "\n",
       "    .dataframe thead th {\n",
       "        text-align: right;\n",
       "    }\n",
       "</style>\n",
       "<table border=\"1\" class=\"dataframe\">\n",
       "  <thead>\n",
       "    <tr style=\"text-align: right;\">\n",
       "      <th></th>\n",
       "      <th>enrollee_id</th>\n",
       "      <th>city</th>\n",
       "      <th>city_development_index</th>\n",
       "      <th>gender</th>\n",
       "      <th>relevent_experience</th>\n",
       "      <th>enrolled_university</th>\n",
       "      <th>education_level</th>\n",
       "      <th>major_discipline</th>\n",
       "      <th>experience</th>\n",
       "      <th>company_size</th>\n",
       "      <th>company_type</th>\n",
       "      <th>last_new_job</th>\n",
       "      <th>training_hours</th>\n",
       "      <th>target</th>\n",
       "    </tr>\n",
       "  </thead>\n",
       "  <tbody>\n",
       "    <tr>\n",
       "      <th>0</th>\n",
       "      <td>8949</td>\n",
       "      <td>city_103</td>\n",
       "      <td>0.920</td>\n",
       "      <td>Male</td>\n",
       "      <td>Has relevent experience</td>\n",
       "      <td>no_enrollment</td>\n",
       "      <td>Graduate</td>\n",
       "      <td>STEM</td>\n",
       "      <td>&gt;20</td>\n",
       "      <td>NaN</td>\n",
       "      <td>NaN</td>\n",
       "      <td>1</td>\n",
       "      <td>36</td>\n",
       "      <td>1.0</td>\n",
       "    </tr>\n",
       "    <tr>\n",
       "      <th>1</th>\n",
       "      <td>29725</td>\n",
       "      <td>city_40</td>\n",
       "      <td>0.776</td>\n",
       "      <td>Male</td>\n",
       "      <td>No relevent experience</td>\n",
       "      <td>no_enrollment</td>\n",
       "      <td>Graduate</td>\n",
       "      <td>STEM</td>\n",
       "      <td>15</td>\n",
       "      <td>50-99</td>\n",
       "      <td>Pvt Ltd</td>\n",
       "      <td>&gt;4</td>\n",
       "      <td>47</td>\n",
       "      <td>0.0</td>\n",
       "    </tr>\n",
       "    <tr>\n",
       "      <th>2</th>\n",
       "      <td>11561</td>\n",
       "      <td>city_21</td>\n",
       "      <td>0.624</td>\n",
       "      <td>NaN</td>\n",
       "      <td>No relevent experience</td>\n",
       "      <td>Full time course</td>\n",
       "      <td>Graduate</td>\n",
       "      <td>STEM</td>\n",
       "      <td>5</td>\n",
       "      <td>NaN</td>\n",
       "      <td>NaN</td>\n",
       "      <td>never</td>\n",
       "      <td>83</td>\n",
       "      <td>0.0</td>\n",
       "    </tr>\n",
       "  </tbody>\n",
       "</table>\n",
       "</div>"
      ],
      "text/plain": [
       "   enrollee_id      city  city_development_index gender  \\\n",
       "0         8949  city_103                   0.920   Male   \n",
       "1        29725   city_40                   0.776   Male   \n",
       "2        11561   city_21                   0.624    NaN   \n",
       "\n",
       "       relevent_experience enrolled_university education_level  \\\n",
       "0  Has relevent experience       no_enrollment        Graduate   \n",
       "1   No relevent experience       no_enrollment        Graduate   \n",
       "2   No relevent experience    Full time course        Graduate   \n",
       "\n",
       "  major_discipline experience company_size company_type last_new_job  \\\n",
       "0             STEM        >20          NaN          NaN            1   \n",
       "1             STEM         15        50-99      Pvt Ltd           >4   \n",
       "2             STEM          5          NaN          NaN        never   \n",
       "\n",
       "   training_hours  target  \n",
       "0              36     1.0  \n",
       "1              47     0.0  \n",
       "2              83     0.0  "
      ]
     },
     "execution_count": 7,
     "metadata": {},
     "output_type": "execute_result"
    }
   ],
   "source": [
    "data_classification = pd.read_csv('/kaggle/input/hr-analytics-job-change-of-data-scientists/aug_train.csv')\n",
    "data_classification.head(3)"
   ]
  },
  {
   "cell_type": "markdown",
   "metadata": {
    "papermill": {
     "duration": 0.043151,
     "end_time": "2021-01-06T14:11:55.738660",
     "exception": false,
     "start_time": "2021-01-06T14:11:55.695509",
     "status": "completed"
    },
    "tags": []
   },
   "source": [
    "Preprocess a little bit."
   ]
  },
  {
   "cell_type": "code",
   "execution_count": 8,
   "metadata": {
    "_kg_hide-input": false,
    "execution": {
     "iopub.execute_input": "2021-01-06T14:11:55.834250Z",
     "iopub.status.busy": "2021-01-06T14:11:55.833076Z",
     "iopub.status.idle": "2021-01-06T14:11:55.899987Z",
     "shell.execute_reply": "2021-01-06T14:11:55.899273Z"
    },
    "papermill": {
     "duration": 0.118607,
     "end_time": "2021-01-06T14:11:55.900123",
     "exception": false,
     "start_time": "2021-01-06T14:11:55.781516",
     "status": "completed"
    },
    "tags": []
   },
   "outputs": [],
   "source": [
    "category = data_classification.select_dtypes(include='object')\n",
    "numeric = data_classification.select_dtypes(exclude='object')\n",
    "\n",
    "# Let's preprocess real quick.\n",
    "\n",
    "# Deal with missing values: introduce new class, \"No\", for missing value.\n",
    "category_notNull = category.replace(np.nan, \"No\")\n",
    "\n",
    "# recheck for missing values\n",
    "assert category_notNull.isnull().any().any() == False\n",
    "assert numeric.isnull().any().any() == False\n",
    "\n",
    "# Declare predictor(X) and dependent variable(y) for classificaiton problem (suffix '_class').\n",
    "y_class = numeric['target']\n",
    "X_category_class = category_notNull.copy().iloc[:,1:6]\n",
    "X_numeric_class = numeric.drop('target',axis=1).copy()"
   ]
  },
  {
   "cell_type": "markdown",
   "metadata": {
    "papermill": {
     "duration": 0.042032,
     "end_time": "2021-01-06T14:11:55.985347",
     "exception": false,
     "start_time": "2021-01-06T14:11:55.943315",
     "status": "completed"
    },
    "tags": []
   },
   "source": [
    "### \"50-Startups Profit\" Dataset used for regression problem. <br>\n",
    "- y_reg : target variable of regression prblem\n",
    "- X_category_reg : categorical predictors of regression prblem\n",
    "- X_numeric_reg : numerical predictors of regression prblem\n"
   ]
  },
  {
   "cell_type": "code",
   "execution_count": 9,
   "metadata": {
    "execution": {
     "iopub.execute_input": "2021-01-06T14:11:56.088257Z",
     "iopub.status.busy": "2021-01-06T14:11:56.087011Z",
     "iopub.status.idle": "2021-01-06T14:11:56.111470Z",
     "shell.execute_reply": "2021-01-06T14:11:56.112806Z"
    },
    "papermill": {
     "duration": 0.085994,
     "end_time": "2021-01-06T14:11:56.113128",
     "exception": false,
     "start_time": "2021-01-06T14:11:56.027134",
     "status": "completed"
    },
    "tags": []
   },
   "outputs": [
    {
     "data": {
      "text/html": [
       "<div>\n",
       "<style scoped>\n",
       "    .dataframe tbody tr th:only-of-type {\n",
       "        vertical-align: middle;\n",
       "    }\n",
       "\n",
       "    .dataframe tbody tr th {\n",
       "        vertical-align: top;\n",
       "    }\n",
       "\n",
       "    .dataframe thead th {\n",
       "        text-align: right;\n",
       "    }\n",
       "</style>\n",
       "<table border=\"1\" class=\"dataframe\">\n",
       "  <thead>\n",
       "    <tr style=\"text-align: right;\">\n",
       "      <th></th>\n",
       "      <th>R&amp;D Spend</th>\n",
       "      <th>Administration</th>\n",
       "      <th>Marketing Spend</th>\n",
       "      <th>State</th>\n",
       "      <th>Profit</th>\n",
       "    </tr>\n",
       "  </thead>\n",
       "  <tbody>\n",
       "    <tr>\n",
       "      <th>0</th>\n",
       "      <td>165349.20</td>\n",
       "      <td>136897.80</td>\n",
       "      <td>471784.10</td>\n",
       "      <td>New York</td>\n",
       "      <td>192261.83</td>\n",
       "    </tr>\n",
       "    <tr>\n",
       "      <th>1</th>\n",
       "      <td>162597.70</td>\n",
       "      <td>151377.59</td>\n",
       "      <td>443898.53</td>\n",
       "      <td>California</td>\n",
       "      <td>191792.06</td>\n",
       "    </tr>\n",
       "    <tr>\n",
       "      <th>2</th>\n",
       "      <td>153441.51</td>\n",
       "      <td>101145.55</td>\n",
       "      <td>407934.54</td>\n",
       "      <td>Florida</td>\n",
       "      <td>191050.39</td>\n",
       "    </tr>\n",
       "  </tbody>\n",
       "</table>\n",
       "</div>"
      ],
      "text/plain": [
       "   R&D Spend  Administration  Marketing Spend       State     Profit\n",
       "0  165349.20       136897.80        471784.10    New York  192261.83\n",
       "1  162597.70       151377.59        443898.53  California  191792.06\n",
       "2  153441.51       101145.55        407934.54     Florida  191050.39"
      ]
     },
     "execution_count": 9,
     "metadata": {},
     "output_type": "execute_result"
    }
   ],
   "source": [
    "data_regression = pd.read_csv('/kaggle/input/startup/50_Startups.csv')\n",
    "data_regression.head(3)"
   ]
  },
  {
   "cell_type": "markdown",
   "metadata": {
    "papermill": {
     "duration": 0.048674,
     "end_time": "2021-01-06T14:11:56.228889",
     "exception": false,
     "start_time": "2021-01-06T14:11:56.180215",
     "status": "completed"
    },
    "tags": []
   },
   "source": [
    "Preprocess a little bit."
   ]
  },
  {
   "cell_type": "code",
   "execution_count": 10,
   "metadata": {
    "_kg_hide-input": false,
    "execution": {
     "iopub.execute_input": "2021-01-06T14:11:56.319352Z",
     "iopub.status.busy": "2021-01-06T14:11:56.318642Z",
     "iopub.status.idle": "2021-01-06T14:11:56.326668Z",
     "shell.execute_reply": "2021-01-06T14:11:56.327232Z"
    },
    "papermill": {
     "duration": 0.055245,
     "end_time": "2021-01-06T14:11:56.327396",
     "exception": false,
     "start_time": "2021-01-06T14:11:56.272151",
     "status": "completed"
    },
    "tags": []
   },
   "outputs": [],
   "source": [
    "# Declare predictor(X) and dependent variable(y) for regression problem (suffix '_reg')\n",
    "y_reg = data_regression['Profit']\n",
    "X_category_reg = data_regression.iloc[:,-2]\n",
    "X_numeric_reg = data_regression.iloc[:,:-2]\n",
    "\n",
    "# Check for missing values\n",
    "assert X_category_reg.isnull().any().any() == False\n",
    "assert X_numeric_reg.isnull().any().any() == False"
   ]
  },
  {
   "cell_type": "markdown",
   "metadata": {
    "papermill": {
     "duration": 0.041831,
     "end_time": "2021-01-06T14:11:56.412203",
     "exception": false,
     "start_time": "2021-01-06T14:11:56.370372",
     "status": "completed"
    },
    "tags": []
   },
   "source": [
    "## 1.1) Numerical Input, Numerical Output"
   ]
  },
  {
   "cell_type": "markdown",
   "metadata": {
    "papermill": {
     "duration": 0.041842,
     "end_time": "2021-01-06T14:11:56.496521",
     "exception": false,
     "start_time": "2021-01-06T14:11:56.454679",
     "status": "completed"
    },
    "tags": []
   },
   "source": [
    "For regression problem, we should first check for a correlation between numerical variables and target.\n",
    "Good variables are highly correlated with the target. Furthermore, variables should be correlated with the target but should be uncorrelated among themselves.\n",
    "\n",
    "If two variables are correlated, we can predict one from the other. Therefore, if two features are correlated, the model only really needs one of them, as the second one does not add additional information."
   ]
  },
  {
   "cell_type": "code",
   "execution_count": 11,
   "metadata": {
    "execution": {
     "iopub.execute_input": "2021-01-06T14:11:56.585372Z",
     "iopub.status.busy": "2021-01-06T14:11:56.584744Z",
     "iopub.status.idle": "2021-01-06T14:11:56.764677Z",
     "shell.execute_reply": "2021-01-06T14:11:56.765239Z"
    },
    "papermill": {
     "duration": 0.226444,
     "end_time": "2021-01-06T14:11:56.765420",
     "exception": false,
     "start_time": "2021-01-06T14:11:56.538976",
     "status": "completed"
    },
    "tags": []
   },
   "outputs": [
    {
     "data": {
      "text/html": [
       "<style  type=\"text/css\" >\n",
       "#T_227eb7aa_5029_11eb_9804_0242ac130202row0_col0,#T_227eb7aa_5029_11eb_9804_0242ac130202row1_col1,#T_227eb7aa_5029_11eb_9804_0242ac130202row2_col2,#T_227eb7aa_5029_11eb_9804_0242ac130202row3_col3{\n",
       "            background-color:  #008000;\n",
       "            color:  #f1f1f1;\n",
       "        }#T_227eb7aa_5029_11eb_9804_0242ac130202row0_col1{\n",
       "            background-color:  #a9dea9;\n",
       "            color:  #000000;\n",
       "        }#T_227eb7aa_5029_11eb_9804_0242ac130202row0_col2{\n",
       "            background-color:  #3da23d;\n",
       "            color:  #000000;\n",
       "        }#T_227eb7aa_5029_11eb_9804_0242ac130202row0_col3{\n",
       "            background-color:  #078407;\n",
       "            color:  #f1f1f1;\n",
       "        }#T_227eb7aa_5029_11eb_9804_0242ac130202row1_col0,#T_227eb7aa_5029_11eb_9804_0242ac130202row1_col2,#T_227eb7aa_5029_11eb_9804_0242ac130202row1_col3,#T_227eb7aa_5029_11eb_9804_0242ac130202row2_col1{\n",
       "            background-color:  #e5ffe5;\n",
       "            color:  #000000;\n",
       "        }#T_227eb7aa_5029_11eb_9804_0242ac130202row2_col0{\n",
       "            background-color:  #54ae54;\n",
       "            color:  #000000;\n",
       "        }#T_227eb7aa_5029_11eb_9804_0242ac130202row2_col3{\n",
       "            background-color:  #48a848;\n",
       "            color:  #000000;\n",
       "        }#T_227eb7aa_5029_11eb_9804_0242ac130202row3_col0{\n",
       "            background-color:  #088408;\n",
       "            color:  #f1f1f1;\n",
       "        }#T_227eb7aa_5029_11eb_9804_0242ac130202row3_col1{\n",
       "            background-color:  #b2e3b2;\n",
       "            color:  #000000;\n",
       "        }#T_227eb7aa_5029_11eb_9804_0242ac130202row3_col2{\n",
       "            background-color:  #389f38;\n",
       "            color:  #000000;\n",
       "        }</style><table id=\"T_227eb7aa_5029_11eb_9804_0242ac130202\" ><thead>    <tr>        <th class=\"blank level0\" ></th>        <th class=\"col_heading level0 col0\" >R&D Spend</th>        <th class=\"col_heading level0 col1\" >Administration</th>        <th class=\"col_heading level0 col2\" >Marketing Spend</th>        <th class=\"col_heading level0 col3\" >Profit</th>    </tr></thead><tbody>\n",
       "                <tr>\n",
       "                        <th id=\"T_227eb7aa_5029_11eb_9804_0242ac130202level0_row0\" class=\"row_heading level0 row0\" >R&D Spend</th>\n",
       "                        <td id=\"T_227eb7aa_5029_11eb_9804_0242ac130202row0_col0\" class=\"data row0 col0\" >1.000000</td>\n",
       "                        <td id=\"T_227eb7aa_5029_11eb_9804_0242ac130202row0_col1\" class=\"data row0 col1\" >0.241955</td>\n",
       "                        <td id=\"T_227eb7aa_5029_11eb_9804_0242ac130202row0_col2\" class=\"data row0 col2\" >0.724248</td>\n",
       "                        <td id=\"T_227eb7aa_5029_11eb_9804_0242ac130202row0_col3\" class=\"data row0 col3\" >0.972900</td>\n",
       "            </tr>\n",
       "            <tr>\n",
       "                        <th id=\"T_227eb7aa_5029_11eb_9804_0242ac130202level0_row1\" class=\"row_heading level0 row1\" >Administration</th>\n",
       "                        <td id=\"T_227eb7aa_5029_11eb_9804_0242ac130202row1_col0\" class=\"data row1 col0\" >0.241955</td>\n",
       "                        <td id=\"T_227eb7aa_5029_11eb_9804_0242ac130202row1_col1\" class=\"data row1 col1\" >1.000000</td>\n",
       "                        <td id=\"T_227eb7aa_5029_11eb_9804_0242ac130202row1_col2\" class=\"data row1 col2\" >-0.032154</td>\n",
       "                        <td id=\"T_227eb7aa_5029_11eb_9804_0242ac130202row1_col3\" class=\"data row1 col3\" >0.200717</td>\n",
       "            </tr>\n",
       "            <tr>\n",
       "                        <th id=\"T_227eb7aa_5029_11eb_9804_0242ac130202level0_row2\" class=\"row_heading level0 row2\" >Marketing Spend</th>\n",
       "                        <td id=\"T_227eb7aa_5029_11eb_9804_0242ac130202row2_col0\" class=\"data row2 col0\" >0.724248</td>\n",
       "                        <td id=\"T_227eb7aa_5029_11eb_9804_0242ac130202row2_col1\" class=\"data row2 col1\" >-0.032154</td>\n",
       "                        <td id=\"T_227eb7aa_5029_11eb_9804_0242ac130202row2_col2\" class=\"data row2 col2\" >1.000000</td>\n",
       "                        <td id=\"T_227eb7aa_5029_11eb_9804_0242ac130202row2_col3\" class=\"data row2 col3\" >0.747766</td>\n",
       "            </tr>\n",
       "            <tr>\n",
       "                        <th id=\"T_227eb7aa_5029_11eb_9804_0242ac130202level0_row3\" class=\"row_heading level0 row3\" >Profit</th>\n",
       "                        <td id=\"T_227eb7aa_5029_11eb_9804_0242ac130202row3_col0\" class=\"data row3 col0\" >0.972900</td>\n",
       "                        <td id=\"T_227eb7aa_5029_11eb_9804_0242ac130202row3_col1\" class=\"data row3 col1\" >0.200717</td>\n",
       "                        <td id=\"T_227eb7aa_5029_11eb_9804_0242ac130202row3_col2\" class=\"data row3 col2\" >0.747766</td>\n",
       "                        <td id=\"T_227eb7aa_5029_11eb_9804_0242ac130202row3_col3\" class=\"data row3 col3\" >1.000000</td>\n",
       "            </tr>\n",
       "    </tbody></table>"
      ],
      "text/plain": [
       "<pandas.io.formats.style.Styler at 0x7f9be6d68d50>"
      ]
     },
     "execution_count": 11,
     "metadata": {},
     "output_type": "execute_result"
    }
   ],
   "source": [
    "pd.concat([X_numeric_reg, y_reg],axis=1).corr().style.background_gradient(sns.light_palette('green', as_cmap=True))"
   ]
  },
  {
   "cell_type": "markdown",
   "metadata": {
    "papermill": {
     "duration": 0.04438,
     "end_time": "2021-01-06T14:11:56.857729",
     "exception": false,
     "start_time": "2021-01-06T14:11:56.813349",
     "status": "completed"
    },
    "tags": []
   },
   "source": [
    "We see that \"R&D Spend\" is highly correlated to our target (\"Profit\") and can be a good variable. But if it's due by chance? We should do a statistical test to be confident to say that."
   ]
  },
  {
   "cell_type": "markdown",
   "metadata": {
    "papermill": {
     "duration": 0.042935,
     "end_time": "2021-01-06T14:11:56.944150",
     "exception": false,
     "start_time": "2021-01-06T14:11:56.901215",
     "status": "completed"
    },
    "tags": []
   },
   "source": [
    "- Pearson’s correlation coefficient (linear) -> [sklearn.feature_selection.f_regression](https://scikit-learn.org/stable/modules/generated/sklearn.feature_selection.f_regression.html \"sklearn doc\")<br>\n",
    "- Spearman’s rank coefficient (nonlinear)  -> [scipy.stats.spearmanr](https://docs.scipy.org/doc/scipy/reference/generated/scipy.stats.spearmanr.html) <br>"
   ]
  },
  {
   "cell_type": "code",
   "execution_count": 12,
   "metadata": {
    "execution": {
     "iopub.execute_input": "2021-01-06T14:11:57.048335Z",
     "iopub.status.busy": "2021-01-06T14:11:57.043031Z",
     "iopub.status.idle": "2021-01-06T14:11:57.072925Z",
     "shell.execute_reply": "2021-01-06T14:11:57.072311Z"
    },
    "papermill": {
     "duration": 0.083567,
     "end_time": "2021-01-06T14:11:57.073056",
     "exception": false,
     "start_time": "2021-01-06T14:11:56.989489",
     "status": "completed"
    },
    "tags": []
   },
   "outputs": [
    {
     "data": {
      "text/html": [
       "<div>\n",
       "<style scoped>\n",
       "    .dataframe tbody tr th:only-of-type {\n",
       "        vertical-align: middle;\n",
       "    }\n",
       "\n",
       "    .dataframe tbody tr th {\n",
       "        vertical-align: top;\n",
       "    }\n",
       "\n",
       "    .dataframe thead th {\n",
       "        text-align: right;\n",
       "    }\n",
       "</style>\n",
       "<table border=\"1\" class=\"dataframe\">\n",
       "  <thead>\n",
       "    <tr style=\"text-align: right;\">\n",
       "      <th></th>\n",
       "      <th>pearsonr</th>\n",
       "      <th>F-score</th>\n",
       "      <th>p-value</th>\n",
       "    </tr>\n",
       "  </thead>\n",
       "  <tbody>\n",
       "    <tr>\n",
       "      <th>R&amp;D Spend</th>\n",
       "      <td>0.972900</td>\n",
       "      <td>849.788904</td>\n",
       "      <td>3.500322e-32</td>\n",
       "    </tr>\n",
       "    <tr>\n",
       "      <th>Administration</th>\n",
       "      <td>0.200717</td>\n",
       "      <td>2.014960</td>\n",
       "      <td>1.622174e-01</td>\n",
       "    </tr>\n",
       "    <tr>\n",
       "      <th>Marketing Spend</th>\n",
       "      <td>0.747766</td>\n",
       "      <td>60.881454</td>\n",
       "      <td>4.381073e-10</td>\n",
       "    </tr>\n",
       "  </tbody>\n",
       "</table>\n",
       "</div>"
      ],
      "text/plain": [
       "                 pearsonr     F-score       p-value\n",
       "R&D Spend        0.972900  849.788904  3.500322e-32\n",
       "Administration   0.200717    2.014960  1.622174e-01\n",
       "Marketing Spend  0.747766   60.881454  4.381073e-10"
      ]
     },
     "execution_count": 12,
     "metadata": {},
     "output_type": "execute_result"
    }
   ],
   "source": [
    "from scipy.stats import f, spearmanr, pearsonr\n",
    "\n",
    "def f_test(X, y, target, mode):\n",
    "    \n",
    "    # Do F-test using Pearson correlation\n",
    "    if mode.lower() == 'pearsonr':\n",
    "        \n",
    "        temp = []\n",
    "        for col in X.columns:\n",
    "            corr, _ = pearsonr(X[col].values, y)\n",
    "            temp.append(corr)\n",
    "\n",
    "        df = pd.DataFrame(temp, columns=['pearsonr'], index=X.columns)\n",
    "    \n",
    "    \n",
    "    # Do F-test using Pearson's rank correlation\n",
    "    elif mode.lower() == 'spearmanr':\n",
    "        \n",
    "        corr, _ = spearmanr(X, y_reg)\n",
    "        df = pd.DataFrame(corr[:-1,-1], columns=['spearman'], index=X.columns)\n",
    "        \n",
    "    else:\n",
    "        return\n",
    "    \n",
    "    \n",
    "    degree_of_freedom = len(y)-2\n",
    "    df['F-score'] = df.iloc[:,0].apply(lambda x: x**2/(1-x**2)*degree_of_freedom)\n",
    "    df['p-value'] = f.sf(df['F-score'], 1, degree_of_freedom)\n",
    "    return df\n",
    "\n",
    "f_test(X_numeric_reg, y_reg, target='Profit', mode='pearsonr')"
   ]
  },
  {
   "cell_type": "markdown",
   "metadata": {
    "papermill": {
     "duration": 0.043579,
     "end_time": "2021-01-06T14:11:57.161574",
     "exception": false,
     "start_time": "2021-01-06T14:11:57.117995",
     "status": "completed"
    },
    "tags": []
   },
   "source": [
    "Or more simply, you can use [sklearn.feature_selection.f_regression](https://scikit-learn.org/stable/modules/generated/sklearn.feature_selection.f_regression.html) which is done exactly the same thing: compute correlation and do F-test."
   ]
  },
  {
   "cell_type": "code",
   "execution_count": 13,
   "metadata": {
    "execution": {
     "iopub.execute_input": "2021-01-06T14:11:57.257584Z",
     "iopub.status.busy": "2021-01-06T14:11:57.256629Z",
     "iopub.status.idle": "2021-01-06T14:11:57.746306Z",
     "shell.execute_reply": "2021-01-06T14:11:57.745727Z"
    },
    "papermill": {
     "duration": 0.540799,
     "end_time": "2021-01-06T14:11:57.746457",
     "exception": false,
     "start_time": "2021-01-06T14:11:57.205658",
     "status": "completed"
    },
    "tags": []
   },
   "outputs": [
    {
     "data": {
      "text/html": [
       "<div>\n",
       "<style scoped>\n",
       "    .dataframe tbody tr th:only-of-type {\n",
       "        vertical-align: middle;\n",
       "    }\n",
       "\n",
       "    .dataframe tbody tr th {\n",
       "        vertical-align: top;\n",
       "    }\n",
       "\n",
       "    .dataframe thead th {\n",
       "        text-align: right;\n",
       "    }\n",
       "</style>\n",
       "<table border=\"1\" class=\"dataframe\">\n",
       "  <thead>\n",
       "    <tr style=\"text-align: right;\">\n",
       "      <th></th>\n",
       "      <th>F-score</th>\n",
       "      <th>p-value</th>\n",
       "    </tr>\n",
       "    <tr>\n",
       "      <th>feature</th>\n",
       "      <th></th>\n",
       "      <th></th>\n",
       "    </tr>\n",
       "  </thead>\n",
       "  <tbody>\n",
       "    <tr>\n",
       "      <th>R&amp;D Spend</th>\n",
       "      <td>849.788904</td>\n",
       "      <td>3.500322e-32</td>\n",
       "    </tr>\n",
       "    <tr>\n",
       "      <th>Administration</th>\n",
       "      <td>2.014960</td>\n",
       "      <td>1.622174e-01</td>\n",
       "    </tr>\n",
       "    <tr>\n",
       "      <th>Marketing Spend</th>\n",
       "      <td>60.881454</td>\n",
       "      <td>4.381073e-10</td>\n",
       "    </tr>\n",
       "  </tbody>\n",
       "</table>\n",
       "</div>"
      ],
      "text/plain": [
       "                    F-score       p-value\n",
       "feature                                  \n",
       "R&D Spend        849.788904  3.500322e-32\n",
       "Administration     2.014960  1.622174e-01\n",
       "Marketing Spend   60.881454  4.381073e-10"
      ]
     },
     "execution_count": 13,
     "metadata": {},
     "output_type": "execute_result"
    }
   ],
   "source": [
    "from sklearn.feature_selection import f_regression\n",
    "\n",
    "F_score, p_value = f_regression(X_numeric_reg, y_reg)\n",
    "df = pd.DataFrame(list(zip(X_numeric_reg.columns, F_score, p_value)), \n",
    "                  columns=['feature', 'F-score', 'p-value'])\n",
    "df.set_index('feature')"
   ]
  },
  {
   "cell_type": "markdown",
   "metadata": {
    "papermill": {
     "duration": 0.044435,
     "end_time": "2021-01-06T14:11:57.837391",
     "exception": false,
     "start_time": "2021-01-06T14:11:57.792956",
     "status": "completed"
    },
    "tags": []
   },
   "source": [
    "We see that \"R&D Spend\" is highly linearly correlated with our target variable(\"Profit\"). Let's plot the graph to ensure that."
   ]
  },
  {
   "cell_type": "code",
   "execution_count": 14,
   "metadata": {
    "_kg_hide-input": true,
    "execution": {
     "iopub.execute_input": "2021-01-06T14:11:57.945506Z",
     "iopub.status.busy": "2021-01-06T14:11:57.944393Z",
     "iopub.status.idle": "2021-01-06T14:11:58.749540Z",
     "shell.execute_reply": "2021-01-06T14:11:58.750154Z"
    },
    "papermill": {
     "duration": 0.867945,
     "end_time": "2021-01-06T14:11:58.750379",
     "exception": false,
     "start_time": "2021-01-06T14:11:57.882434",
     "status": "completed"
    },
    "tags": []
   },
   "outputs": [
    {
     "data": {
      "image/png": "[encoded data removed]",
      "text/plain": [
       "<Figure size 1440x360 with 3 Axes>"
      ]
     },
     "metadata": {},
     "output_type": "display_data"
    }
   ],
   "source": [
    "fig, ax = plt.subplots(1,3, sharey=True)\n",
    "fig.set_size_inches(20,5)\n",
    "\n",
    "ax[0].scatter(X_numeric_reg['R&D Spend'], y_reg)\n",
    "ax[0].set_xlabel('R&D Spend')\n",
    "ax[0].set_ylabel('Profit')\n",
    "ax[1].scatter(X_numeric_reg['Marketing Spend'], y_reg)\n",
    "ax[1].set_xlabel('Marketing Spend')\n",
    "ax[2].scatter(X_numeric_reg['Administration'], y_reg)\n",
    "ax[2].set_xlabel('Administration')\n",
    "\n",
    "plt.show()"
   ]
  },
  {
   "cell_type": "markdown",
   "metadata": {
    "papermill": {
     "duration": 0.046044,
     "end_time": "2021-01-06T14:11:58.843672",
     "exception": false,
     "start_time": "2021-01-06T14:11:58.797628",
     "status": "completed"
    },
    "tags": []
   },
   "source": [
    "Correlation and F-score of 'R&D Spend' and 'Marketing Spend' are very high relative to the others. Moreover, their p-value are very small (<0.01). Thus, we can conclude that those 2 features are much more important than 'Adminstration'."
   ]
  },
  {
   "cell_type": "markdown",
   "metadata": {
    "papermill": {
     "duration": 0.045868,
     "end_time": "2021-01-06T14:11:58.935853",
     "exception": false,
     "start_time": "2021-01-06T14:11:58.889985",
     "status": "completed"
    },
    "tags": []
   },
   "source": [
    "### Next, I'll try non-linear transformation of 'R&D Spend' and see what will happen. <br>\n",
    "I will transform 'R&D Spend' using this non-linear function: \n",
    "\n",
    "$$f(x) = ln(x+1)$$\n",
    "\n",
    "Now, we introduce non-linear relationship between non-linearly transformed R&D Spend(namely 'Non-linear R&D') and 'Profit'."
   ]
  },
  {
   "cell_type": "code",
   "execution_count": 15,
   "metadata": {
    "execution": {
     "iopub.execute_input": "2021-01-06T14:11:59.033857Z",
     "iopub.status.busy": "2021-01-06T14:11:59.032858Z",
     "iopub.status.idle": "2021-01-06T14:11:59.330189Z",
     "shell.execute_reply": "2021-01-06T14:11:59.330810Z"
    },
    "papermill": {
     "duration": 0.347557,
     "end_time": "2021-01-06T14:11:59.330989",
     "exception": false,
     "start_time": "2021-01-06T14:11:58.983432",
     "status": "completed"
    },
    "tags": []
   },
   "outputs": [
    {
     "data": {
      "image/png": "[encoded data removed]",
      "text/plain": [
       "<Figure size 720x360 with 1 Axes>"
      ]
     },
     "metadata": {},
     "output_type": "display_data"
    }
   ],
   "source": [
    "# Non-linearly transform\n",
    "X_numeric_reg_copy = X_numeric_reg.copy()\n",
    "X_numeric_reg_copy['Non-linear R&D'] = X_numeric_reg_copy['R&D Spend'].apply(lambda x:np.log(x+1))\n",
    "\n",
    "plt.figure(figsize=(10,5))\n",
    "plt.scatter(X_numeric_reg_copy['Non-linear R&D'], y_reg)\n",
    "plt.xlabel('Non-linear R&D')\n",
    "plt.ylabel('Profit')\n",
    "plt.show()"
   ]
  },
  {
   "cell_type": "code",
   "execution_count": 16,
   "metadata": {
    "execution": {
     "iopub.execute_input": "2021-01-06T14:11:59.428991Z",
     "iopub.status.busy": "2021-01-06T14:11:59.428298Z",
     "iopub.status.idle": "2021-01-06T14:11:59.444162Z",
     "shell.execute_reply": "2021-01-06T14:11:59.443545Z"
    },
    "papermill": {
     "duration": 0.066233,
     "end_time": "2021-01-06T14:11:59.444300",
     "exception": false,
     "start_time": "2021-01-06T14:11:59.378067",
     "status": "completed"
    },
    "tags": []
   },
   "outputs": [
    {
     "data": {
      "text/html": [
       "<div>\n",
       "<style scoped>\n",
       "    .dataframe tbody tr th:only-of-type {\n",
       "        vertical-align: middle;\n",
       "    }\n",
       "\n",
       "    .dataframe tbody tr th {\n",
       "        vertical-align: top;\n",
       "    }\n",
       "\n",
       "    .dataframe thead th {\n",
       "        text-align: right;\n",
       "    }\n",
       "</style>\n",
       "<table border=\"1\" class=\"dataframe\">\n",
       "  <thead>\n",
       "    <tr style=\"text-align: right;\">\n",
       "      <th></th>\n",
       "      <th>pearsonr</th>\n",
       "      <th>F-score</th>\n",
       "      <th>p-value</th>\n",
       "    </tr>\n",
       "  </thead>\n",
       "  <tbody>\n",
       "    <tr>\n",
       "      <th>R&amp;D Spend</th>\n",
       "      <td>0.972900</td>\n",
       "      <td>849.788904</td>\n",
       "      <td>3.500322e-32</td>\n",
       "    </tr>\n",
       "    <tr>\n",
       "      <th>Administration</th>\n",
       "      <td>0.200717</td>\n",
       "      <td>2.014960</td>\n",
       "      <td>1.622174e-01</td>\n",
       "    </tr>\n",
       "    <tr>\n",
       "      <th>Marketing Spend</th>\n",
       "      <td>0.747766</td>\n",
       "      <td>60.881454</td>\n",
       "      <td>4.381073e-10</td>\n",
       "    </tr>\n",
       "    <tr>\n",
       "      <th>Non-linear R&amp;D</th>\n",
       "      <td>0.718622</td>\n",
       "      <td>51.259294</td>\n",
       "      <td>4.188324e-09</td>\n",
       "    </tr>\n",
       "  </tbody>\n",
       "</table>\n",
       "</div>"
      ],
      "text/plain": [
       "                 pearsonr     F-score       p-value\n",
       "R&D Spend        0.972900  849.788904  3.500322e-32\n",
       "Administration   0.200717    2.014960  1.622174e-01\n",
       "Marketing Spend  0.747766   60.881454  4.381073e-10\n",
       "Non-linear R&D   0.718622   51.259294  4.188324e-09"
      ]
     },
     "execution_count": 16,
     "metadata": {},
     "output_type": "execute_result"
    }
   ],
   "source": [
    "f_test(X_numeric_reg_copy, y_reg, target='Profit', mode='pearsonr')"
   ]
  },
  {
   "cell_type": "markdown",
   "metadata": {
    "papermill": {
     "duration": 0.047269,
     "end_time": "2021-01-06T14:11:59.540116",
     "exception": false,
     "start_time": "2021-01-06T14:11:59.492847",
     "status": "completed"
    },
    "tags": []
   },
   "source": [
    "We see that after we non-linearly transform 'R&D Spend' into 'Non-linear R&D'. Its F-score decreases very quickly and its p-value also increases. It's because \"Pearson\" correlation is a statistic that measures **linear correlation** between two variables X and Y."
   ]
  },
  {
   "cell_type": "markdown",
   "metadata": {
    "papermill": {
     "duration": 0.047058,
     "end_time": "2021-01-06T14:11:59.634965",
     "exception": false,
     "start_time": "2021-01-06T14:11:59.587907",
     "status": "completed"
    },
    "tags": []
   },
   "source": [
    "### Spearman's rank correlation coefficient <br>\n",
    "is a nonparametric measure of rank correlation (statistical dependence between the rankings of two variables). It assesses how well the relationship between two variables can be described in a **monotonic function**.\n",
    "\n",
    "While Pearson's correlation assesses linear relationships, Spearman's correlation assesses monotonic relationships (whether linear or not)."
   ]
  },
  {
   "cell_type": "code",
   "execution_count": 17,
   "metadata": {
    "execution": {
     "iopub.execute_input": "2021-01-06T14:11:59.737853Z",
     "iopub.status.busy": "2021-01-06T14:11:59.737046Z",
     "iopub.status.idle": "2021-01-06T14:11:59.755362Z",
     "shell.execute_reply": "2021-01-06T14:11:59.754820Z"
    },
    "papermill": {
     "duration": 0.072483,
     "end_time": "2021-01-06T14:11:59.755488",
     "exception": false,
     "start_time": "2021-01-06T14:11:59.683005",
     "status": "completed"
    },
    "tags": []
   },
   "outputs": [
    {
     "data": {
      "text/html": [
       "<div>\n",
       "<style scoped>\n",
       "    .dataframe tbody tr th:only-of-type {\n",
       "        vertical-align: middle;\n",
       "    }\n",
       "\n",
       "    .dataframe tbody tr th {\n",
       "        vertical-align: top;\n",
       "    }\n",
       "\n",
       "    .dataframe thead th {\n",
       "        text-align: right;\n",
       "    }\n",
       "</style>\n",
       "<table border=\"1\" class=\"dataframe\">\n",
       "  <thead>\n",
       "    <tr style=\"text-align: right;\">\n",
       "      <th></th>\n",
       "      <th>spearman</th>\n",
       "      <th>F-score</th>\n",
       "      <th>p-value</th>\n",
       "    </tr>\n",
       "  </thead>\n",
       "  <tbody>\n",
       "    <tr>\n",
       "      <th>R&amp;D Spend</th>\n",
       "      <td>0.989844</td>\n",
       "      <td>2327.125145</td>\n",
       "      <td>2.492446e-42</td>\n",
       "    </tr>\n",
       "    <tr>\n",
       "      <th>Administration</th>\n",
       "      <td>0.168595</td>\n",
       "      <td>1.404288</td>\n",
       "      <td>2.418409e-01</td>\n",
       "    </tr>\n",
       "    <tr>\n",
       "      <th>Marketing Spend</th>\n",
       "      <td>0.721366</td>\n",
       "      <td>52.076855</td>\n",
       "      <td>3.427709e-09</td>\n",
       "    </tr>\n",
       "    <tr>\n",
       "      <th>Non-linear R&amp;D</th>\n",
       "      <td>0.989844</td>\n",
       "      <td>2327.125145</td>\n",
       "      <td>2.492446e-42</td>\n",
       "    </tr>\n",
       "  </tbody>\n",
       "</table>\n",
       "</div>"
      ],
      "text/plain": [
       "                 spearman      F-score       p-value\n",
       "R&D Spend        0.989844  2327.125145  2.492446e-42\n",
       "Administration   0.168595     1.404288  2.418409e-01\n",
       "Marketing Spend  0.721366    52.076855  3.427709e-09\n",
       "Non-linear R&D   0.989844  2327.125145  2.492446e-42"
      ]
     },
     "execution_count": 17,
     "metadata": {},
     "output_type": "execute_result"
    }
   ],
   "source": [
    "f_test(X_numeric_reg_copy, y_reg, target='Profit', mode='spearmanr')"
   ]
  },
  {
   "cell_type": "markdown",
   "metadata": {
    "papermill": {
     "duration": 0.049408,
     "end_time": "2021-01-06T14:11:59.853312",
     "exception": false,
     "start_time": "2021-01-06T14:11:59.803904",
     "status": "completed"
    },
    "tags": []
   },
   "source": [
    "Now we see that spearman's rank gives \"R&D Spend\" and \"Non-linear R&D\" exact same coefficient."
   ]
  },
  {
   "cell_type": "markdown",
   "metadata": {
    "papermill": {
     "duration": 0.047644,
     "end_time": "2021-01-06T14:11:59.949664",
     "exception": false,
     "start_time": "2021-01-06T14:11:59.902020",
     "status": "completed"
    },
    "tags": []
   },
   "source": [
    "___"
   ]
  },
  {
   "cell_type": "markdown",
   "metadata": {
    "papermill": {
     "duration": 0.047623,
     "end_time": "2021-01-06T14:12:00.046250",
     "exception": false,
     "start_time": "2021-01-06T14:11:59.998627",
     "status": "completed"
    },
    "tags": []
   },
   "source": [
    "## 1.2) Numerical Input, Categorical Output\n",
    "\n",
    "- ANOVA correlation coefficient (linear) -> [sklearn.feature_selection.f_classif](https://scikit-learn.org/stable/modules/generated/sklearn.feature_selection.f_classif.html \"Compute the ANOVA F-value for the provided sample.\")<br>\n",
    "- Kendall’s rank coefficient (nonlinear) -> [scipy.stats.kendalltau](https://docs.scipy.org/doc/scipy/reference/generated/scipy.stats.kendalltau.html)<br>\n",
    "\n",
    "Note: Kendall does assume that the categorical variable is ordinal. <br>"
   ]
  },
  {
   "cell_type": "code",
   "execution_count": 18,
   "metadata": {
    "execution": {
     "iopub.execute_input": "2021-01-06T14:12:00.152525Z",
     "iopub.status.busy": "2021-01-06T14:12:00.151819Z",
     "iopub.status.idle": "2021-01-06T14:12:00.166863Z",
     "shell.execute_reply": "2021-01-06T14:12:00.166210Z"
    },
    "papermill": {
     "duration": 0.072659,
     "end_time": "2021-01-06T14:12:00.167000",
     "exception": false,
     "start_time": "2021-01-06T14:12:00.094341",
     "status": "completed"
    },
    "tags": []
   },
   "outputs": [
    {
     "data": {
      "text/html": [
       "<div>\n",
       "<style scoped>\n",
       "    .dataframe tbody tr th:only-of-type {\n",
       "        vertical-align: middle;\n",
       "    }\n",
       "\n",
       "    .dataframe tbody tr th {\n",
       "        vertical-align: top;\n",
       "    }\n",
       "\n",
       "    .dataframe thead th {\n",
       "        text-align: right;\n",
       "    }\n",
       "</style>\n",
       "<table border=\"1\" class=\"dataframe\">\n",
       "  <thead>\n",
       "    <tr style=\"text-align: right;\">\n",
       "      <th></th>\n",
       "      <th>F-score</th>\n",
       "      <th>p-value</th>\n",
       "    </tr>\n",
       "  </thead>\n",
       "  <tbody>\n",
       "    <tr>\n",
       "      <th>enrollee_id</th>\n",
       "      <td>47.004194</td>\n",
       "      <td>7.299229e-12</td>\n",
       "    </tr>\n",
       "    <tr>\n",
       "      <th>city_development_index</th>\n",
       "      <td>2531.716218</td>\n",
       "      <td>0.000000e+00</td>\n",
       "    </tr>\n",
       "    <tr>\n",
       "      <th>training_hours</th>\n",
       "      <td>8.922761</td>\n",
       "      <td>2.819949e-03</td>\n",
       "    </tr>\n",
       "  </tbody>\n",
       "</table>\n",
       "</div>"
      ],
      "text/plain": [
       "                            F-score       p-value\n",
       "enrollee_id               47.004194  7.299229e-12\n",
       "city_development_index  2531.716218  0.000000e+00\n",
       "training_hours             8.922761  2.819949e-03"
      ]
     },
     "execution_count": 18,
     "metadata": {},
     "output_type": "execute_result"
    }
   ],
   "source": [
    "from sklearn.feature_selection import f_classif\n",
    "from sklearn.preprocessing import StandardScaler\n",
    "\n",
    "F_score, p_value = f_classif(X_numeric_class, y_class)\n",
    "\n",
    "df = pd.DataFrame([F_score,p_value], index=['F-score','p-value'], columns=X_numeric_class.columns).T\n",
    "df"
   ]
  },
  {
   "cell_type": "markdown",
   "metadata": {
    "papermill": {
     "duration": 0.049892,
     "end_time": "2021-01-06T14:12:00.267969",
     "exception": false,
     "start_time": "2021-01-06T14:12:00.218077",
     "status": "completed"
    },
    "tags": []
   },
   "source": [
    "## 1.3)Categorical Input, Categorical Output\n",
    "\n",
    "- Chi-Squared test -> [sklearn.feature_selection.chi2](https://scikit-learn.org/stable/modules/generated/sklearn.feature_selection.chi2.html)\n",
    "- Mutual Information, Information gain -> [sklearn.feature_selection.mutual_info_classif](https://scikit-learn.org/stable/modules/generated/sklearn.feature_selection.mutual_info_classif.html) for a discrete target variable,  [sklearn.feature_selection.mutual_info_regression](https://scikit-learn.org/stable/modules/generated/sklearn.feature_selection.mutual_info_regression.html) for a continuous target variable."
   ]
  },
  {
   "cell_type": "markdown",
   "metadata": {
    "papermill": {
     "duration": 0.048718,
     "end_time": "2021-01-06T14:12:00.367888",
     "exception": false,
     "start_time": "2021-01-06T14:12:00.319170",
     "status": "completed"
    },
    "tags": []
   },
   "source": [
    "### Chi-square test <br>\n",
    "If you don't familiar with Chi-square testing, this [link](https://www.youtube.com/watch?v=VskmMgXmkMQ) have a great, brief explanation for you!"
   ]
  },
  {
   "cell_type": "code",
   "execution_count": 19,
   "metadata": {
    "execution": {
     "iopub.execute_input": "2021-01-06T14:12:00.468833Z",
     "iopub.status.busy": "2021-01-06T14:12:00.468173Z",
     "iopub.status.idle": "2021-01-06T14:12:00.515048Z",
     "shell.execute_reply": "2021-01-06T14:12:00.515770Z"
    },
    "papermill": {
     "duration": 0.099469,
     "end_time": "2021-01-06T14:12:00.516069",
     "exception": false,
     "start_time": "2021-01-06T14:12:00.416600",
     "status": "completed"
    },
    "tags": []
   },
   "outputs": [],
   "source": [
    "from sklearn.feature_selection import chi2\n",
    "\n",
    "X_category_dummies = pd.get_dummies(X_category_class)\n",
    "\n",
    "score, pval = chi2(X_category_dummies, y_class)\n",
    "feature_importance_chi2 = pd.Series(score, index=X_category_dummies.columns)"
   ]
  },
  {
   "cell_type": "code",
   "execution_count": 20,
   "metadata": {
    "execution": {
     "iopub.execute_input": "2021-01-06T14:12:00.629371Z",
     "iopub.status.busy": "2021-01-06T14:12:00.627917Z",
     "iopub.status.idle": "2021-01-06T14:12:01.052980Z",
     "shell.execute_reply": "2021-01-06T14:12:01.052299Z"
    },
    "papermill": {
     "duration": 0.48639,
     "end_time": "2021-01-06T14:12:01.053145",
     "exception": false,
     "start_time": "2021-01-06T14:12:00.566755",
     "status": "completed"
    },
    "tags": []
   },
   "outputs": [
    {
     "data": {
      "image/png": "[encoded data removed]",
      "text/plain": [
       "<Figure size 1080x432 with 1 Axes>"
      ]
     },
     "metadata": {},
     "output_type": "display_data"
    }
   ],
   "source": [
    "fig,ax = plt.subplots()\n",
    "fig.set_size_inches(15,6)\n",
    "ax.barh(feature_importance_chi2.sort_values().index, feature_importance_chi2.sort_values().values)\n",
    "plt.xticks(rotation=90)\n",
    "plt.title('Chi-square Test')\n",
    "plt.show()"
   ]
  },
  {
   "cell_type": "markdown",
   "metadata": {
    "papermill": {
     "duration": 0.051115,
     "end_time": "2021-01-06T14:12:01.156373",
     "exception": false,
     "start_time": "2021-01-06T14:12:01.105258",
     "status": "completed"
    },
    "tags": []
   },
   "source": [
    "### Information gain <br>"
   ]
  },
  {
   "cell_type": "code",
   "execution_count": 21,
   "metadata": {
    "execution": {
     "iopub.execute_input": "2021-01-06T14:12:01.267829Z",
     "iopub.status.busy": "2021-01-06T14:12:01.266900Z",
     "iopub.status.idle": "2021-01-06T14:12:06.242571Z",
     "shell.execute_reply": "2021-01-06T14:12:06.241965Z"
    },
    "papermill": {
     "duration": 5.034217,
     "end_time": "2021-01-06T14:12:06.242728",
     "exception": false,
     "start_time": "2021-01-06T14:12:01.208511",
     "status": "completed"
    },
    "tags": []
   },
   "outputs": [],
   "source": [
    "from sklearn.feature_selection import mutual_info_classif\n",
    "\n",
    "importance = mutual_info_classif(X_category_dummies, y_class)\n",
    "\n",
    "feature_importance_Ig = pd.Series(importance, index=X_category_dummies.columns)"
   ]
  },
  {
   "cell_type": "code",
   "execution_count": 22,
   "metadata": {
    "execution": {
     "iopub.execute_input": "2021-01-06T14:12:06.373477Z",
     "iopub.status.busy": "2021-01-06T14:12:06.366599Z",
     "iopub.status.idle": "2021-01-06T14:12:06.783740Z",
     "shell.execute_reply": "2021-01-06T14:12:06.784351Z"
    },
    "papermill": {
     "duration": 0.484363,
     "end_time": "2021-01-06T14:12:06.784529",
     "exception": false,
     "start_time": "2021-01-06T14:12:06.300166",
     "status": "completed"
    },
    "tags": []
   },
   "outputs": [
    {
     "data": {
      "image/png": "[encoded data removed]",
      "text/plain": [
       "<Figure size 1080x432 with 1 Axes>"
      ]
     },
     "metadata": {},
     "output_type": "display_data"
    }
   ],
   "source": [
    "fig,ax = plt.subplots()\n",
    "fig.set_size_inches(15,6)\n",
    "ax.barh(feature_importance_Ig.sort_values().index, feature_importance_Ig.sort_values().values)\n",
    "plt.xticks(rotation=90)\n",
    "plt.title('Information Gain for each feature')\n",
    "plt.show()"
   ]
  },
  {
   "cell_type": "markdown",
   "metadata": {
    "papermill": {
     "duration": 0.054897,
     "end_time": "2021-01-06T14:12:06.894365",
     "exception": false,
     "start_time": "2021-01-06T14:12:06.839468",
     "status": "completed"
    },
    "tags": []
   },
   "source": [
    "---"
   ]
  },
  {
   "cell_type": "markdown",
   "metadata": {
    "papermill": {
     "duration": 0.053349,
     "end_time": "2021-01-06T14:12:07.002285",
     "exception": false,
     "start_time": "2021-01-06T14:12:06.948936",
     "status": "completed"
    },
    "tags": []
   },
   "source": [
    "# 2) Wrapper methods"
   ]
  },
  {
   "cell_type": "markdown",
   "metadata": {
    "papermill": {
     "duration": 0.079236,
     "end_time": "2021-01-06T14:12:07.144435",
     "exception": false,
     "start_time": "2021-01-06T14:12:07.065199",
     "status": "completed"
    },
    "tags": []
   },
   "source": [
    "## 2.1) Forward selection\n",
    "The procedure starts with an empty set of features(reduced set). The best of the original features is determined and added to the reduced set. At each subsequent iteration, the best of the remaining original attributes is added to the that set.\n",
    "\n",
    "## 2.2) Backward elimination\n",
    "The procedure starts with the full set of features. At each step, it removes the worst attribute remaining in the set.\n",
    "\n",
    "## 2.3) Recursive feature elimination (RFE)<br>\n",
    "is a feature selection method that recursively fits a model and removes the weakest feature until the specified number of features is reached. Features are ranked by the model’s coef\\_ or feature\\_importances\\_ attributes, and by recursively eliminating a small number of features per loop, RFE attempts to eliminate dependencies and collinearity that may exist in the model. The choice of model does not matter too much as long as it is skillful and consistent."
   ]
  },
  {
   "cell_type": "markdown",
   "metadata": {
    "papermill": {
     "duration": 0.053081,
     "end_time": "2021-01-06T14:12:07.271834",
     "exception": false,
     "start_time": "2021-01-06T14:12:07.218753",
     "status": "completed"
    },
    "tags": []
   },
   "source": [
    "sklearn.feature_selection.RFE  \n",
    "    - .ranking_ attribute that gives a rank of each feature \n",
    "    - .support_ attribute that is mark True for selected features and False otherwise."
   ]
  },
  {
   "cell_type": "code",
   "execution_count": 23,
   "metadata": {
    "execution": {
     "iopub.execute_input": "2021-01-06T14:12:07.390739Z",
     "iopub.status.busy": "2021-01-06T14:12:07.389880Z",
     "iopub.status.idle": "2021-01-06T14:12:07.459057Z",
     "shell.execute_reply": "2021-01-06T14:12:07.458381Z"
    },
    "papermill": {
     "duration": 0.132694,
     "end_time": "2021-01-06T14:12:07.459192",
     "exception": false,
     "start_time": "2021-01-06T14:12:07.326498",
     "status": "completed"
    },
    "tags": []
   },
   "outputs": [],
   "source": [
    "from sklearn.feature_selection import RFE\n",
    "from sklearn.linear_model import LogisticRegression\n",
    "from sklearn.ensemble import RandomForestRegressor, RandomForestClassifier\n",
    "\n",
    "def do_RFE(X_category, X_numeric, y, n, estimator):\n",
    "    \n",
    "    X = pd.concat([X_category, X_numeric], axis=1)\n",
    "\n",
    "    rfe = RFE(estimator, n_features_to_select=n).fit(X, y)\n",
    "    \n",
    "    return sorted([(x,y) for (y,x) in list(zip(X.columns,rfe.ranking_))]), X.columns[rfe.support_]"
   ]
  },
  {
   "cell_type": "code",
   "execution_count": 24,
   "metadata": {
    "execution": {
     "iopub.execute_input": "2021-01-06T14:12:07.577943Z",
     "iopub.status.busy": "2021-01-06T14:12:07.576824Z",
     "iopub.status.idle": "2021-01-06T14:12:09.351370Z",
     "shell.execute_reply": "2021-01-06T14:12:09.352511Z"
    },
    "papermill": {
     "duration": 1.839628,
     "end_time": "2021-01-06T14:12:09.352744",
     "exception": false,
     "start_time": "2021-01-06T14:12:07.513116",
     "status": "completed"
    },
    "tags": []
   },
   "outputs": [
    {
     "data": {
      "text/plain": [
       "Index(['gender_Male', 'gender_No', 'gender_Other',\n",
       "       'relevent_experience_Has relevent experience',\n",
       "       'relevent_experience_No relevent experience',\n",
       "       'enrolled_university_Full time course',\n",
       "       'enrolled_university_Part time course',\n",
       "       'enrolled_university_no_enrollment', 'education_level_Graduate',\n",
       "       'education_level_High School', 'education_level_Masters',\n",
       "       'education_level_No', 'education_level_Primary School',\n",
       "       'major_discipline_Arts', 'major_discipline_Business Degree',\n",
       "       'major_discipline_Humanities', 'major_discipline_No',\n",
       "       'major_discipline_Other', 'major_discipline_STEM',\n",
       "       'city_development_index'],\n",
       "      dtype='object')"
      ]
     },
     "execution_count": 24,
     "metadata": {},
     "output_type": "execute_result"
    }
   ],
   "source": [
    "# \"HR analytics\" dataset classification problem\n",
    "rank, selected_features = do_RFE(pd.get_dummies(X_category_class), X_numeric_class, y_class, 20, LogisticRegression())\n",
    "selected_features"
   ]
  },
  {
   "cell_type": "code",
   "execution_count": 25,
   "metadata": {
    "execution": {
     "iopub.execute_input": "2021-01-06T14:12:09.520075Z",
     "iopub.status.busy": "2021-01-06T14:12:09.515085Z",
     "iopub.status.idle": "2021-01-06T14:12:10.650984Z",
     "shell.execute_reply": "2021-01-06T14:12:10.651584Z"
    },
    "papermill": {
     "duration": 1.228295,
     "end_time": "2021-01-06T14:12:10.651775",
     "exception": false,
     "start_time": "2021-01-06T14:12:09.423480",
     "status": "completed"
    },
    "tags": []
   },
   "outputs": [
    {
     "data": {
      "text/plain": [
       "[(1, 'R&D Spend'),\n",
       " (2, 'Marketing Spend'),\n",
       " (3, 'Administration'),\n",
       " (4, 'New York'),\n",
       " (5, 'California'),\n",
       " (6, 'Florida')]"
      ]
     },
     "execution_count": 25,
     "metadata": {},
     "output_type": "execute_result"
    }
   ],
   "source": [
    "# \"50-Startups\" dataset regression problem\n",
    "rank, selected_features = do_RFE(pd.get_dummies(X_category_reg), X_numeric_reg, y_reg, 1, RandomForestRegressor())\n",
    "rank"
   ]
  },
  {
   "cell_type": "markdown",
   "metadata": {
    "papermill": {
     "duration": 0.057078,
     "end_time": "2021-01-06T14:12:10.764500",
     "exception": false,
     "start_time": "2021-01-06T14:12:10.707422",
     "status": "completed"
    },
    "tags": []
   },
   "source": [
    "\n",
    "---"
   ]
  },
  {
   "cell_type": "markdown",
   "metadata": {
    "papermill": {
     "duration": 0.057614,
     "end_time": "2021-01-06T14:12:10.882547",
     "exception": false,
     "start_time": "2021-01-06T14:12:10.824933",
     "status": "completed"
    },
    "tags": []
   },
   "source": [
    "# 3) Embedded methods\n",
    "\n",
    "\n",
    "\n",
    "## 3.1) Regularization <br>\n",
    "\n",
    "In Linear Regression, the predicted values($\\hat{y}$) are calculated by $\\hat{y} = XW_1+W_0$ \n",
    "where $X$ is data matrix, $W_1$ is a weight vector($W_1 = [w_1,w_2,w_3,...w_p]$), $W_0$ is a bias.\n",
    "We obtain $W_1$ and $W_0$ by trying to minimize sum of square residuals to find the best fit line. i.e. minimizing \n",
    "$$\\sum_{i=1}^{n}(\\underbrace{y_i-\\hat{y_i}}_{residual})^{2}$$\n",
    "\n",
    "### L1-Regularization\n",
    "\n",
    "LASSO(Least Absolute Shrinkage and Selection operator)\n",
    "minimzes $$\\sum_{i=1}^{n}(y_i-\\hat{y_i})^2 + \\alpha\\sum_{j=1}^{p}|w_j|$$\n",
    "The second term is called penalization term. It's there to prevent overfitting. In the fitting process, LASSO automatically sets some coefficients to zero. Generally, these are the weak predictor(s). This is a form of built-in(embedded) feature-selection. The variables with non-zero coefficients were the ones selected.\n",
    "Since all the coefficients will be multiplied by the same number ($\\alpha$),it's important that all the predictors are on the same scale. Otherwise, some variables will be unfairly penalized more than others. "
   ]
  },
  {
   "cell_type": "code",
   "execution_count": 26,
   "metadata": {
    "execution": {
     "iopub.execute_input": "2021-01-06T14:12:10.997684Z",
     "iopub.status.busy": "2021-01-06T14:12:10.996941Z",
     "iopub.status.idle": "2021-01-06T14:12:11.007031Z",
     "shell.execute_reply": "2021-01-06T14:12:11.007601Z"
    },
    "papermill": {
     "duration": 0.069258,
     "end_time": "2021-01-06T14:12:11.007829",
     "exception": false,
     "start_time": "2021-01-06T14:12:10.938571",
     "status": "completed"
    },
    "tags": []
   },
   "outputs": [],
   "source": [
    "from sklearn.linear_model import Ridge, Lasso, LogisticRegression\n",
    "from sklearn.preprocessing import StandardScaler\n",
    "\n",
    "def get_embedded_report(X_numeric, X_category, y, estimator):\n",
    "    \n",
    "    # First normalize our predictors\n",
    "    X_numeric_scaled = StandardScaler().fit_transform(X_numeric)\n",
    "    y_scaled     = StandardScaler().fit_transform(y.values.reshape(-1,1))\n",
    "\n",
    "    # Save the columns name into variable named 'features'\n",
    "    X_category_dummies = pd.get_dummies(X_category)\n",
    "    features = list(X_numeric_reg.columns) + list(X_category_dummies.columns)\n",
    "\n",
    "    # Fit the regressor\n",
    "    X = np.concatenate([X_numeric_scaled, X_category_dummies.values], axis=1)\n",
    "\n",
    "    model = estimator.fit(X, y_scaled)\n",
    "    try:\n",
    "        c = model.coef_\n",
    "    except:\n",
    "        c = model.feature_importances_\n",
    "    finally:\n",
    "        return c, features"
   ]
  },
  {
   "cell_type": "code",
   "execution_count": 27,
   "metadata": {
    "execution": {
     "iopub.execute_input": "2021-01-06T14:12:11.123379Z",
     "iopub.status.busy": "2021-01-06T14:12:11.122713Z",
     "iopub.status.idle": "2021-01-06T14:12:11.140714Z",
     "shell.execute_reply": "2021-01-06T14:12:11.141349Z"
    },
    "papermill": {
     "duration": 0.077879,
     "end_time": "2021-01-06T14:12:11.141561",
     "exception": false,
     "start_time": "2021-01-06T14:12:11.063682",
     "status": "completed"
    },
    "tags": []
   },
   "outputs": [
    {
     "data": {
      "text/plain": [
       "[('R&D Spend', 0.849256095682484),\n",
       " ('Administration', -0.0),\n",
       " ('Marketing Spend', 0.032693579958810816),\n",
       " ('California', -0.0),\n",
       " ('Florida', 0.0),\n",
       " ('New York', -0.0)]"
      ]
     },
     "execution_count": 27,
     "metadata": {},
     "output_type": "execute_result"
    }
   ],
   "source": [
    "# Using L1-regularization\n",
    "coef, features = get_embedded_report(X_numeric_reg, X_category_reg, y_reg, Lasso(alpha=0.1))\n",
    "list(zip(features,coef))"
   ]
  },
  {
   "cell_type": "code",
   "execution_count": 28,
   "metadata": {
    "execution": {
     "iopub.execute_input": "2021-01-06T14:12:11.257177Z",
     "iopub.status.busy": "2021-01-06T14:12:11.256454Z",
     "iopub.status.idle": "2021-01-06T14:12:11.290621Z",
     "shell.execute_reply": "2021-01-06T14:12:11.291447Z"
    },
    "papermill": {
     "duration": 0.093864,
     "end_time": "2021-01-06T14:12:11.291635",
     "exception": false,
     "start_time": "2021-01-06T14:12:11.197771",
     "status": "completed"
    },
    "tags": []
   },
   "outputs": [
    {
     "data": {
      "text/plain": [
       "[('R&D Spend', 0.8780288777147082),\n",
       " ('Administration', -0.008085007680925026),\n",
       " ('Marketing Spend', 0.10909503223068648),\n",
       " ('California', -0.0024425845607658667),\n",
       " ('Florida', 0.001444242340860628),\n",
       " ('New York', 0.00099834221990486)]"
      ]
     },
     "execution_count": 28,
     "metadata": {},
     "output_type": "execute_result"
    }
   ],
   "source": [
    "# Using L2-regularization\n",
    "coef, features = get_embedded_report(X_numeric_reg, X_category_reg, y_reg, Ridge())\n",
    "list(zip(features,coef[0]))"
   ]
  },
  {
   "cell_type": "code",
   "execution_count": 29,
   "metadata": {
    "execution": {
     "iopub.execute_input": "2021-01-06T14:12:11.412328Z",
     "iopub.status.busy": "2021-01-06T14:12:11.411554Z",
     "iopub.status.idle": "2021-01-06T14:12:11.426206Z",
     "shell.execute_reply": "2021-01-06T14:12:11.425632Z"
    },
    "papermill": {
     "duration": 0.074786,
     "end_time": "2021-01-06T14:12:11.426347",
     "exception": false,
     "start_time": "2021-01-06T14:12:11.351561",
     "status": "completed"
    },
    "tags": []
   },
   "outputs": [
    {
     "data": {
      "text/plain": [
       "[('R&D Spend', 0.9712067573139606),\n",
       " ('Administration', 0.001647612234784569),\n",
       " ('Marketing Spend', 0.021591623580476164),\n",
       " ('California', 0.0008685200514716327),\n",
       " ('Florida', 0.0046305909408538674),\n",
       " ('New York', 5.489587845315638e-05)]"
      ]
     },
     "execution_count": 29,
     "metadata": {},
     "output_type": "execute_result"
    }
   ],
   "source": [
    "# Using feature_importances_'s DecisionTree\n",
    "from sklearn.tree import DecisionTreeRegressor\n",
    "\n",
    "coef, features = get_embedded_report(X_numeric_reg, X_category_reg, y_reg, DecisionTreeRegressor())\n",
    "list(zip(features,coef))"
   ]
  },
  {
   "cell_type": "markdown",
   "metadata": {
    "papermill": {
     "duration": 0.05574,
     "end_time": "2021-01-06T14:12:11.538162",
     "exception": false,
     "start_time": "2021-01-06T14:12:11.482422",
     "status": "completed"
    },
    "tags": []
   },
   "source": [
    "---\n",
    "## There're more useful tools in sklearn.feature_selection\n",
    "- SelectPercentile(score_func ex: f_classif, percentile: int) : Select features according to a percentile of the highest scores.\n",
    "- SelectKBest(score_func, k: int,\"all\") : Select features according to the k highest scores.\n",
    "- VarianceThreshold(threshold: Float) : Feature selector that removes all low-variance features.\n",
    "\n",
    "***Thank you for checking this notebook!! If there're mistakes, please let me know. <br> Feel free to give any advices in the comment section :)***"
   ]
  },
  {
   "cell_type": "markdown",
   "metadata": {
    "papermill": {
     "duration": 0.05568,
     "end_time": "2021-01-06T14:12:11.649564",
     "exception": false,
     "start_time": "2021-01-06T14:12:11.593884",
     "status": "completed"
    },
    "tags": []
   },
   "source": [
    "---"
   ]
  },
  {
   "cell_type": "markdown",
   "metadata": {
    "papermill": {
     "duration": 0.056116,
     "end_time": "2021-01-06T14:12:11.762933",
     "exception": false,
     "start_time": "2021-01-06T14:12:11.706817",
     "status": "completed"
    },
    "tags": []
   },
   "source": [
    "# Reference\n",
    "- https://www.analyticsvidhya.com/blog/2020/10/feature-selection-techniques-in-machine-learning/ <br>\n",
    "- https://machinelearningmastery.com/feature-selection-with-real-and-categorical-data/ <br>\n",
    "- https://www.datacamp.com/community/tutorials/feature-selection-python <br>\n"
   ]
  }
 ],
 "metadata": {
  "kernelspec": {
   "display_name": "Python 3 (ipykernel)",
   "language": "python",
   "name": "python3"
  },
  "language_info": {
   "codemirror_mode": {
    "name": "ipython",
    "version": 3
   },
   "file_extension": ".py",
   "mimetype": "text/x-python",
   "name": "python",
   "nbconvert_exporter": "python",
   "pygments_lexer": "ipython3",
   "version": "3.8.12"
  },
  "papermill": {
   "duration": 25.794038,
   "end_time": "2021-01-06T14:12:11.929651",
   "environment_variables": {},
   "exception": null,
   "input_path": "__notebook__.ipynb",
   "output_path": "__notebook__.ipynb",
   "parameters": {},
   "start_time": "2021-01-06T14:11:46.135613",
   "version": "2.1.0"
  }
 },
 "nbformat": 4,
 "nbformat_minor": 4
}
