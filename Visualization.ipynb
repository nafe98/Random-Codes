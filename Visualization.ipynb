{
 "cells": [
  {
   "cell_type": "markdown",
   "id": "a5db84eb",
   "metadata": {},
   "source": [
    "# About Dataset"
   ]
  },
  {
   "cell_type": "markdown",
   "id": "531dc606",
   "metadata": {},
   "source": [
    "The dataset contains EEG signals from 11 subjects with labels of alert and drowsy. It can be opened with Matlab. We extracted the data for our own research purpose from another public dataset:\n",
    "\n",
    "Cao, Z., et al., Multi-channel EEG recordings during a sustained-attention driving task. Scientific data, 2019. 6(1): p. 1-8.\n",
    "\n",
    "If you find the dataset useful, please give credits to their works.\n",
    "\n",
    "The details on how the data were extracted are described in our paper:\n",
    "\n",
    "\"Jian Cui, Zirui Lan, Yisi Liu, Ruilin Li, Fan Li, Olga Sourina, Wolfgang Müller-Wittig, A Compact and Interpretable Convolutional Neural Network for Cross-Subject Driver Drowsiness Detection from Single-Channel EEG, Methods, 2021, ISSN 1046-2023, https://doi.org/10.1016/j.ymeth.2021.04.017.\"\n",
    "\n",
    "The codes of the paper above are accessible from:\n",
    "\n",
    "https://github.com/cuijiancorbin/A-Compact-and-Interpretable-Convolutional-Neural-Network-for-Single-Channel-EEG\n",
    "\n",
    "The data file contains 3 variables and they are EEGsample, substate and subindex.\n",
    "\n",
    "\"EEGsample\" contains 2022 EEG samples of size 20x384 from 11 subjects. Each sample is a 3s EEG data with 128Hz from 30 EEG channels.\n",
    "\"subindex\" is an array of 2022x1. It contains the subject indexes from 1-11 corresponding to each EEG sample.\n",
    "\"substate\" is an array of 2022x1. It contains the labels of the samples. 0 corresponds to the alert state and 1 correspond to the drowsy state.\n",
    "\n",
    "The unbalanced version of this dataset is accessible from:\n",
    "https://figshare.com/articles/dataset/EEG_driver_drowsiness_dataset_unbalanced_/16586957"
   ]
  },
  {
   "cell_type": "markdown",
   "id": "9038b805",
   "metadata": {},
   "source": [
    "# Importing Libraires "
   ]
  },
  {
   "cell_type": "code",
   "execution_count": null,
   "id": "1c6ce5b9",
   "metadata": {},
   "outputs": [],
   "source": [
    "import scipy.io\n",
    "import numpy as np\n",
    "import pandas as pd\n",
    "from scipy.io import loadmat\n",
    "from tabulate import tabulate\n",
    "import matplotlib.pyplot as plt"
   ]
  },
  {
   "cell_type": "markdown",
   "id": "a1be599b",
   "metadata": {},
   "source": [
    "# Loading Dataset"
   ]
  },
  {
   "cell_type": "code",
   "execution_count": null,
   "id": "19e0ac1d",
   "metadata": {},
   "outputs": [],
   "source": [
    "file_path = 'EEG driver drowsiness dataset.mat'\n",
    "mat_data = scipy.io.loadmat(file_path)"
   ]
  },
  {
   "cell_type": "code",
   "execution_count": null,
   "id": "3ef7b0f6",
   "metadata": {
    "scrolled": true
   },
   "outputs": [],
   "source": [
    "print(mat_data)"
   ]
  },
  {
   "cell_type": "markdown",
   "id": "378970c9",
   "metadata": {},
   "source": [
    "# Exploratory Data Analysis"
   ]
  },
  {
   "cell_type": "code",
   "execution_count": null,
   "id": "8df176e3",
   "metadata": {},
   "outputs": [],
   "source": [
    "# Inspecting the keys and structure of the loaded data\n",
    "mat_data.keys(), {key: type(mat_data[key]) for key in mat_data.keys()}"
   ]
  },
  {
   "cell_type": "markdown",
   "id": "f408c2eb",
   "metadata": {},
   "source": [
    "<div style=\"background-color: #cce5ff; padding: 10px; border: 1px solid #0066cc;\">\n",
    "    <h2 style=\"color: #0066cc; font-weight: bold;\">Assigning Variables</h2>\n",
    "    \n",
    "</div>\n"
   ]
  },
  {
   "cell_type": "code",
   "execution_count": null,
   "id": "ea574634",
   "metadata": {
    "scrolled": true
   },
   "outputs": [],
   "source": [
    "eeg_samples = mat_data['EEGsample']\n",
    "subindex = mat_data['subindex']\n",
    "substates = mat_data['substate']"
   ]
  },
  {
   "cell_type": "markdown",
   "id": "e01f0ce2",
   "metadata": {},
   "source": [
    "### Calculate the duration of each sample in seconds"
   ]
  },
  {
   "cell_type": "markdown",
   "id": "19ad30a7",
   "metadata": {},
   "source": [
    "EEGsample\" contains 2022 EEG samples of size 20x384 from 11 subjects. Each sample is a 3s EEG data with 128Hz from 30 EEG channels. \"subindex\" is an array of 2022x1. It contains the subject indexes from 1-11 corresponding to each EEG sample. \"substate\" is an array of 2022x1. It contains the labels of the samples. 0 corresponds to the alert state and 1 correspond to the drowsy state."
   ]
  },
  {
   "cell_type": "code",
   "execution_count": null,
   "id": "61f89326",
   "metadata": {},
   "outputs": [],
   "source": [
    "# Calculate the duration of each sample in seconds\n",
    "sampling_rate = 128  # Hz\n",
    "\n",
    "num_samples, num_channels, num_time_points = eeg_samples.shape\n",
    "sample_duration = num_time_points / sampling_rate"
   ]
  },
  {
   "cell_type": "markdown",
   "id": "53a57cd0",
   "metadata": {},
   "source": [
    "### Check for missing values"
   ]
  },
  {
   "cell_type": "code",
   "execution_count": null,
   "id": "b3ae59c7",
   "metadata": {},
   "outputs": [],
   "source": [
    "missing_values = np.isnan(eeg_samples).sum()\n",
    "if missing_values == 0:\n",
    "    print(\"No missing values in the EEG data.\")\n",
    "else:\n",
    "    print(\"Number of missing values:\", missing_values)"
   ]
  },
  {
   "cell_type": "code",
   "execution_count": null,
   "id": "32739917",
   "metadata": {},
   "outputs": [],
   "source": [
    "print(\"Number of subjects:\", len(np.unique(subindex)))\n",
    "print(\"EEGsample shape:\", eeg_samples.shape)\n",
    "print(\"Number of Samples:\", num_samples)\n",
    "print(\"Number of Channels:\", num_channels)\n",
    "print(\"Number of Time Points:\", num_time_points)\n",
    "print(\"Sample Duration (seconds):\", sample_duration)\n",
    "\n",
    "unique_labels, label_counts = np.unique(substates, return_counts=True)\n",
    "print(\"Unique labels:\", unique_labels)\n",
    "print(\"Label counts:\", label_counts)"
   ]
  },
  {
   "cell_type": "markdown",
   "id": "0b23edfa",
   "metadata": {},
   "source": [
    "#### The initial exploration of the EEG dataset reveals the following details:\n",
    "\n",
    "#### EEG Samples (EEGsample):\n",
    "\n",
    "  * The dataset contains 2022 EEG samples.\n",
    "  * Each EEG sample is from 30 channels.\n",
    "  * Each channel has 384 data points, corresponding to a 3-second EEG recording at a sampling rate of 128Hz.\n",
    "\n",
    "#### Subject States (substate):\n",
    "\n",
    "  * There are two unique states: 0 representing the alert state and 1 representing the drowsy state.\n",
    "  * Each state has 1011 samples, indicating a balanced dataset with respect to the two states.\n",
    "\n",
    "#### Subject Indexes (subindex):\n",
    "\n",
    "  * There are 11 unique subjects in the dataset (labeled 1 to 11).\n",
    "  * The distribution of samples across subjects varies, ranging from a minimum of 102 samples to a maximum of 314 samples per subject."
   ]
  },
  {
   "cell_type": "markdown",
   "id": "9ef7c61f",
   "metadata": {},
   "source": [
    "## State-specific Analysis: 'Alert' and 'Drowsy'"
   ]
  },
  {
   "cell_type": "code",
   "execution_count": null,
   "id": "fe1ccc78",
   "metadata": {},
   "outputs": [],
   "source": [
    "substates_flat = substates.flatten()"
   ]
  },
  {
   "cell_type": "code",
   "execution_count": null,
   "id": "ac80254c",
   "metadata": {},
   "outputs": [],
   "source": [
    "# Calculating means and standard deviations for each channel in both states\n",
    "\n",
    "#Alert States\n",
    "mean_alert = np.mean(eeg_samples[substates_flat == 0], axis=(0, 2))\n",
    "std_alert = np.std(eeg_samples[substates_flat == 0], axis=(0, 2))\n",
    "\n",
    "#Drowsy States\n",
    "mean_drowsy = np.mean(eeg_samples[substates_flat == 1], axis=(0, 2))\n",
    "std_drowsy = np.std(eeg_samples[substates_flat == 1], axis=(0, 2))"
   ]
  },
  {
   "cell_type": "code",
   "execution_count": null,
   "id": "5f9566f2",
   "metadata": {},
   "outputs": [],
   "source": [
    "# Creating a DataFrame for easy viewing\n",
    "stats_df = pd.DataFrame({\n",
    "    'Channel': range(1, 31),\n",
    "    'Mean_Alert': mean_alert,\n",
    "    'Std_Alert': std_alert,\n",
    "    'Mean_Drowsy': mean_drowsy,\n",
    "    'Std_Drowsy': std_drowsy\n",
    "})"
   ]
  },
  {
   "cell_type": "code",
   "execution_count": null,
   "id": "a53ec2a3",
   "metadata": {},
   "outputs": [],
   "source": [
    "stats_df  "
   ]
  },
  {
   "cell_type": "markdown",
   "id": "0ccce4f3",
   "metadata": {},
   "source": [
    "## EEG Channel Statistics Across Subjects and Timepoints"
   ]
  },
  {
   "cell_type": "code",
   "execution_count": null,
   "id": "eb42742b",
   "metadata": {},
   "outputs": [],
   "source": [
    "# Compute basic statistics for each EEG channel\n",
    "mean_values = np.mean(eeg_samples, axis=(0, 2))  # Compute mean along subjects and timepoints\n",
    "std_values = np.std(eeg_samples, axis=(0, 2))    # Compute standard deviation along subjects and timepoints\n",
    "min_values = np.min(eeg_samples, axis=(0, 2))    # Compute minimum along subjects and timepoints\n",
    "max_values = np.max(eeg_samples, axis=(0, 2))    # Compute maximum along subjects and timepoints\n",
    "\n",
    "# Create a list of dictionaries for each channel's statistics\n",
    "channel_stats = [\n",
    "    {\n",
    "        \"Channel\": channel_index + 1,\n",
    "        \"Mean\": f\"{mean_values[channel_index]:.4f}\",\n",
    "        \"Std Dev\": f\"{std_values[channel_index]:.4f}\",\n",
    "        \"Min\": f\"{min_values[channel_index]:.4f}\",\n",
    "        \"Max\": f\"{max_values[channel_index]:.4f}\"\n",
    "    }\n",
    "    for channel_index in range(num_channels)\n",
    "]"
   ]
  },
  {
   "cell_type": "code",
   "execution_count": null,
   "id": "081e3c4a",
   "metadata": {},
   "outputs": [],
   "source": [
    "# Printing the table\n",
    "print(\"Basic Statistics for EEG Channels\")\n",
    "print(tabulate(channel_stats, headers=\"keys\", tablefmt=\"grid\"))"
   ]
  },
  {
   "cell_type": "markdown",
   "id": "9895b4b0",
   "metadata": {},
   "source": [
    "# Data Visualization"
   ]
  },
  {
   "cell_type": "markdown",
   "id": "b9bf1fa4",
   "metadata": {},
   "source": [
    "## Distribution of Subindex and Substate Values"
   ]
  },
  {
   "cell_type": "code",
   "execution_count": null,
   "id": "6f5895a3",
   "metadata": {},
   "outputs": [],
   "source": [
    "# Get unique values and their counts for subindex and substate\n",
    "unique_subindex, counts_subindex = np.unique(mat_data['subindex'], return_counts=True)\n",
    "unique_substate, counts_substate = np.unique(mat_data['substate'], return_counts=True)"
   ]
  },
  {
   "cell_type": "code",
   "execution_count": null,
   "id": "02ee0771",
   "metadata": {},
   "outputs": [],
   "source": [
    "# Set up subplots\n",
    "fig, axes = plt.subplots(1, 2, figsize=(12, 5))\n",
    "\n",
    "# Plot histogram for subindex\n",
    "axes[0].bar(unique_subindex, counts_subindex, align='center', alpha=0.7, color='skyblue', edgecolor='black')\n",
    "axes[0].set_title('Frequency of Subindex Values')\n",
    "axes[0].set_xlabel('Subindex Values')\n",
    "axes[0].set_ylabel('Frequency')\n",
    "axes[0].grid(True, linestyle='--', alpha=0.7)\n",
    "\n",
    "# Add count annotations on top of the bars for subindex\n",
    "for x, y in zip(unique_subindex, counts_subindex):\n",
    "    axes[0].text(x, y + 0.1, str(y), ha='center', va='bottom')\n",
    "\n",
    "\n",
    "    \n",
    "\n",
    "# Plot histogram for substate\n",
    "axes[1].bar(unique_substate, counts_substate, align='center', alpha=0.7, color='lightcoral', edgecolor='black')\n",
    "axes[1].set_title('Frequency of Substate Values')\n",
    "axes[1].set_xlabel('Substate Values')\n",
    "axes[1].set_ylabel('Frequency')\n",
    "axes[1].grid(True, linestyle='--', alpha=0.7)\n",
    "\n",
    "# Add count annotations on top of the bars for substate\n",
    "for x, y in zip(unique_substate, counts_substate):\n",
    "    axes[1].text(x, y + 0.1, str(y), ha='center', va='bottom')\n",
    "\n",
    "\n",
    "\n",
    "\n",
    "# Adjust layout for better spacing\n",
    "plt.tight_layout()\n",
    "\n",
    "# Show the plots\n",
    "plt.show()"
   ]
  },
  {
   "cell_type": "markdown",
   "id": "f3075229",
   "metadata": {},
   "source": [
    "## Analysis of Substate Distribution Across Subindices"
   ]
  },
  {
   "cell_type": "code",
   "execution_count": null,
   "id": "03d7d8ef",
   "metadata": {},
   "outputs": [],
   "source": [
    "# Group by subindex and count occurrences of 0 and 1 in substate\n",
    "subindex_values, substate_counts = np.unique(mat_data['subindex'], return_counts=True)\n",
    "substate_0_counts = []\n",
    "substate_1_counts = []"
   ]
  },
  {
   "cell_type": "code",
   "execution_count": null,
   "id": "a67700cd",
   "metadata": {},
   "outputs": [],
   "source": [
    "for subindex_value in subindex_values:\n",
    "    substate_values_for_subindex = mat_data['substate'][mat_data['subindex'] == subindex_value]\n",
    "    substate_0_counts.append(np.sum(substate_values_for_subindex == 0))\n",
    "    substate_1_counts.append(np.sum(substate_values_for_subindex == 1))\n",
    "\n",
    "# Set up the bar chart\n",
    "fig, ax = plt.subplots(figsize=(10, 6))\n",
    "\n",
    "bar_width = 0.35\n",
    "bar_positions_0 = np.arange(len(subindex_values))\n",
    "bar_positions_1 = bar_positions_0 + bar_width\n",
    "\n",
    "ax.bar(bar_positions_0, substate_0_counts, width=bar_width, label='Substate 0', alpha=0.7, color='skyblue', edgecolor='black')\n",
    "ax.bar(bar_positions_1, substate_1_counts, width=bar_width, label='Substate 1', alpha=0.7, color='lightcoral', edgecolor='black')\n",
    "\n",
    "# Add count annotations on top of each bar\n",
    "for x, y in zip(bar_positions_0, substate_0_counts):\n",
    "    ax.text(x, y + 0.1, str(y), ha='center', va='bottom')\n",
    "\n",
    "for x, y in zip(bar_positions_1, substate_1_counts):\n",
    "    ax.text(x, y + 0.1, str(y), ha='center', va='bottom')\n",
    "\n",
    "ax.set_xticks(bar_positions_0 + bar_width / 2)\n",
    "ax.set_xticklabels(subindex_values)\n",
    "ax.set_xlabel('Subindex Values')\n",
    "ax.set_ylabel('Frequency')\n",
    "ax.set_title('Frequency of Substate Values for Each Subindex')\n",
    "ax.legend()\n",
    "ax.grid(True, linestyle='--', alpha=0.7)\n",
    "\n",
    "plt.show()"
   ]
  },
  {
   "cell_type": "markdown",
   "id": "9a1144af",
   "metadata": {},
   "source": [
    "# Visualization of EEG waveforms"
   ]
  },
  {
   "cell_type": "markdown",
   "id": "bde3e897",
   "metadata": {},
   "source": [
    "## EEG Waveforms Comparison : Separate Subplots for Each Channel"
   ]
  },
  {
   "cell_type": "markdown",
   "id": "79f4a586",
   "metadata": {},
   "source": [
    "This code generates a set of subplots to visually compare EEG waveforms between Alert and Drowsy states across all EEG channels. Each subplot represents a specific channel, displaying the mean EEG signal over time for both Alert and Drowsy states. "
   ]
  },
  {
   "cell_type": "code",
   "execution_count": null,
   "id": "7a6a59d3",
   "metadata": {},
   "outputs": [],
   "source": [
    "# Selecting all channels for visualization\n",
    "all_channels = list(range(1, 31))"
   ]
  },
  {
   "cell_type": "code",
   "execution_count": null,
   "id": "5a210ce0",
   "metadata": {},
   "outputs": [],
   "source": [
    "# Creating plots\n",
    "fig, axes = plt.subplots(nrows=len(all_channels), ncols=2, figsize=(15, 5 * len(all_channels)))\n",
    "fig.suptitle('EEG Waveforms Comparison: Alert vs Drowsy States (Individual Channel Plots)', fontsize=16)\n",
    "\n",
    "# Plotting for each channel\n",
    "for i, channel in enumerate(all_channels):\n",
    "    # Alert state\n",
    "    axes[i, 0].plot(eeg_samples[substates_flat == 0][:, channel - 1, :].mean(axis=0))\n",
    "    axes[i, 0].set_title(f'Channel {channel} - Alert State')\n",
    "    axes[i, 0].set_xlabel('Time Points')\n",
    "    axes[i, 0].set_ylabel('EEG Signal')\n",
    "    axes[i, 0].grid(True)  # Add grid lines\n",
    "\n",
    "    # Drowsy state\n",
    "    axes[i, 1].plot(eeg_samples[substates_flat == 1][:, channel - 1, :].mean(axis=0))\n",
    "    axes[i, 1].set_title(f'Channel {channel} - Drowsy State')\n",
    "    axes[i, 1].set_xlabel('Time Points')\n",
    "    axes[i, 1].grid(True)  # Add grid lines\n",
    "\n",
    "plt.tight_layout(rect=[0, 0.03, 1, 0.95])\n",
    "\n",
    "plt.show()"
   ]
  },
  {
   "cell_type": "markdown",
   "id": "e6806bc2",
   "metadata": {},
   "source": [
    "## EEG Waveforms Comparison : Combined Plots for All Channels"
   ]
  },
  {
   "cell_type": "markdown",
   "id": "a49becfe",
   "metadata": {},
   "source": [
    "This code generates a set of subplots to compare combined EEG waveforms for Alert and Drowsy states across all EEG channels. Each subplot represents a specific channel, displaying the mean EEG signal over time for both Alert and Drowsy states. "
   ]
  },
  {
   "cell_type": "code",
   "execution_count": null,
   "id": "b195b63c",
   "metadata": {},
   "outputs": [],
   "source": [
    "# Creating plots\n",
    "fig, axes = plt.subplots(nrows=len(all_channels), ncols=1, figsize=(10, 3 * len(all_channels)))\n",
    "fig.suptitle('EEG Waveforms Comparison: Alert vs Drowsy States (Combined Channel Plots)', fontsize=16)\n",
    "\n",
    "# Plotting for each channel\n",
    "for i, channel in enumerate(all_channels):\n",
    "    # Alert state\n",
    "    alert_mean = eeg_samples[substates_flat == 0][:, channel - 1, :].mean(axis=0)\n",
    "    axes[i].plot(alert_mean, label='Alert', alpha=0.7)\n",
    "\n",
    "    # Drowsy state\n",
    "    drowsy_mean = eeg_samples[substates_flat == 1][:, channel - 1, :].mean(axis=0)\n",
    "    axes[i].plot(drowsy_mean, label='Drowsy', alpha=0.7)\n",
    "\n",
    "    axes[i].set_title(f'Channel {channel}')\n",
    "    axes[i].set_xlabel('Time Points')\n",
    "    axes[i].set_ylabel('EEG Signal')\n",
    "    axes[i].legend()\n",
    "\n",
    "    # Add grid\n",
    "    axes[i].grid(True)\n",
    "\n",
    "plt.tight_layout(rect=[0, 0.03, 1, 0.95])\n",
    "\n",
    "plt.show()"
   ]
  },
  {
   "cell_type": "markdown",
   "id": "07ce1192",
   "metadata": {},
   "source": [
    "## EEG Data Visualization for Multiple Subjects and Channels"
   ]
  },
  {
   "cell_type": "markdown",
   "id": "f245395c",
   "metadata": {},
   "source": [
    "This code is designed to visually represent EEG data for multiple subjects and channels. For each subject, a dedicated figure is generated, and within each figure, there are individual subplots for each EEG channel. These subplots illustrate the EEG signal's amplitude over time for the respective channel."
   ]
  },
  {
   "cell_type": "code",
   "execution_count": null,
   "id": "dada7eb8",
   "metadata": {},
   "outputs": [],
   "source": [
    "num_subjects = 11 \n",
    "num_channels = 30 "
   ]
  },
  {
   "cell_type": "code",
   "execution_count": null,
   "id": "bf0babd9",
   "metadata": {},
   "outputs": [],
   "source": [
    "for subject in range(num_subjects):\n",
    "    \n",
    "    # Create a figure for each subject\n",
    "    fig, axes = plt.subplots(nrows=num_channels, ncols=1, figsize=(10, 3 * num_channels))\n",
    "    fig.suptitle(f'EEG Data for Subject {subject + 1}', fontsize=16)\n",
    "\n",
    "    for channel in range(num_channels):\n",
    "        # Extract data for the current channel and subject\n",
    "        channel_data = eeg_samples[subject, channel, :]\n",
    "\n",
    "        # Plotting\n",
    "        axes[channel].plot(channel_data, label=f'Channel {channel + 1}')\n",
    "        axes[channel].set_title(f'Channel {channel + 1}')\n",
    "        axes[channel].set_xlabel('Time Points')\n",
    "        axes[channel].set_ylabel('EEG Signal')\n",
    "        axes[channel].legend()\n",
    "        axes[channel].grid(True)\n",
    "\n",
    "    plt.tight_layout()\n",
    "    \n",
    "    plt.show()"
   ]
  },
  {
   "cell_type": "markdown",
   "id": "3f532763",
   "metadata": {},
   "source": [
    "# Dimensionality Reduction"
   ]
  },
  {
   "cell_type": "markdown",
   "id": "eba9bfef",
   "metadata": {},
   "source": [
    "# EEG Signal Averaging-Based Channel Reduction"
   ]
  },
  {
   "cell_type": "markdown",
   "id": "a87add3e",
   "metadata": {},
   "source": [
    "<div style=\"background-color: #cce5ff; padding: 10px; border: 1px solid #0066cc;\">\n",
    "    <h2 style=\"color: #0066cc; font-weight: bold;\">Assigning Variables</h2>\n",
    "    \n",
    "</div>\n"
   ]
  },
  {
   "cell_type": "code",
   "execution_count": null,
   "id": "a193a7bc",
   "metadata": {},
   "outputs": [],
   "source": [
    "eeg_samples = mat_data['EEGsample']\n",
    "subindex = mat_data['subindex']\n",
    "substates = mat_data['substate']"
   ]
  },
  {
   "cell_type": "markdown",
   "id": "d0744bd4",
   "metadata": {},
   "source": [
    "# Data Manipulation and applying Average"
   ]
  },
  {
   "cell_type": "code",
   "execution_count": null,
   "id": "96edc07f",
   "metadata": {},
   "outputs": [],
   "source": [
    "processed_samples = []\n",
    "\n",
    "for sample in eeg_samples:\n",
    "    \n",
    "    # Transpose the sample\n",
    "    transposed = sample.T\n",
    "\n",
    "    # Reduce channels (Averaging Method)\n",
    "    reduced = np.mean(transposed, axis=1)\n",
    "\n",
    "    # Flatten the sample and add to the list\n",
    "    processed_samples.append(reduced.flatten())\n",
    "\n",
    "# Convert the list to a Pandas DataFrame\n",
    "Averaging = pd.DataFrame(processed_samples)"
   ]
  },
  {
   "cell_type": "code",
   "execution_count": null,
   "id": "84741e88",
   "metadata": {},
   "outputs": [],
   "source": [
    "Averaging"
   ]
  },
  {
   "cell_type": "code",
   "execution_count": null,
   "id": "dc8ca15c",
   "metadata": {},
   "outputs": [],
   "source": []
  },
  {
   "cell_type": "code",
   "execution_count": null,
   "id": "5f8f909b",
   "metadata": {},
   "outputs": [],
   "source": [
    "df_substates_flat = pd.DataFrame(substates, columns=['substate'])\n",
    "\n",
    "\n",
    "new_data = pd.concat([Averaging, df_substates_flat], axis=1)\n",
    "\n",
    "\n",
    "print(new_data.head())"
   ]
  },
  {
   "cell_type": "code",
   "execution_count": null,
   "id": "1ebf127e",
   "metadata": {},
   "outputs": [],
   "source": [
    "# Assuming 'substate' is the column containing the labels\n",
    "label_0 = new_data[new_data['substate'] == 0].iloc[0]\n",
    "label_1 = new_data[new_data['substate'] == 1].iloc[0]\n",
    "\n",
    "# Plotting substate 0\n",
    "plt.figure(figsize=(12, 6))\n",
    "plt.subplot(2, 1, 1)  # 2 rows, 1 column, plot 1\n",
    "plt.plot(label_0[:-1], label='EEG Signal - Substate 0', color='blue')\n",
    "plt.title(\"EEG Sample Plot - Substate 0 (Alert)\")\n",
    "plt.xlabel(\"Feature Index\")\n",
    "plt.ylabel(\"EEG Signal\")\n",
    "plt.grid(True, linestyle='--', alpha=0.7)\n",
    "\n",
    "# Plotting substate 1\n",
    "plt.subplot(2, 1, 2)  # 2 rows, 1 column, plot 2\n",
    "plt.plot(label_1[:-1], label='EEG Signal - Substate 1', color='orange')\n",
    "plt.title(\"EEG Sample Plot - Substate 1 (Drowsy)\")\n",
    "plt.xlabel(\"Feature Index\")\n",
    "plt.ylabel(\"EEG Signal\")\n",
    "plt.grid(True, linestyle='--', alpha=0.7)\n",
    "\n",
    "plt.tight_layout()  # To prevent overlapping of subplot titles and axis labels\n",
    "plt.legend()\n",
    "plt.show()"
   ]
  },
  {
   "cell_type": "code",
   "execution_count": null,
   "id": "8acbc74c",
   "metadata": {},
   "outputs": [],
   "source": []
  },
  {
   "cell_type": "code",
   "execution_count": null,
   "id": "13cd0fa5",
   "metadata": {},
   "outputs": [],
   "source": []
  },
  {
   "cell_type": "markdown",
   "id": "898f3fda",
   "metadata": {},
   "source": [
    "# Vanilla Machine Learning Models"
   ]
  },
  {
   "cell_type": "markdown",
   "id": "9298d29a",
   "metadata": {},
   "source": [
    "## Importing Libraries"
   ]
  },
  {
   "cell_type": "code",
   "execution_count": null,
   "id": "14ede834",
   "metadata": {},
   "outputs": [],
   "source": [
    "from sklearn.svm import SVC\n",
    "from xgboost import XGBClassifier\n",
    "from sklearn.ensemble import RandomForestClassifier\n",
    "from sklearn.neighbors import KNeighborsClassifier\n",
    "\n",
    "\n",
    "from sklearn.metrics import accuracy_score\n",
    "from sklearn.model_selection import train_test_split"
   ]
  },
  {
   "cell_type": "markdown",
   "id": "f8f4e55e",
   "metadata": {},
   "source": [
    "## Training and Testing Split"
   ]
  },
  {
   "cell_type": "code",
   "execution_count": null,
   "id": "de938d40",
   "metadata": {},
   "outputs": [],
   "source": [
    "X = Averaging \n",
    "y = substates_flat \n",
    "\n",
    "X_train, X_test, y_train, y_test = train_test_split(X, y, test_size=0.2, random_state=42)"
   ]
  },
  {
   "cell_type": "markdown",
   "id": "9c388115",
   "metadata": {},
   "source": [
    "## Machine Learning"
   ]
  },
  {
   "cell_type": "code",
   "execution_count": null,
   "id": "cb9dbcb2",
   "metadata": {},
   "outputs": [],
   "source": [
    "# Initialize the models\n",
    "svm_model = SVC()\n",
    "rf_model = RandomForestClassifier()\n",
    "knn_model = KNeighborsClassifier()\n",
    "xgb_model = XGBClassifier()\n",
    "\n",
    "# Fit the models\n",
    "svm_model.fit(X_train, y_train)\n",
    "rf_model.fit(X_train, y_train)\n",
    "knn_model.fit(X_train, y_train)\n",
    "xgb_model.fit(X_train, y_train)\n",
    "\n",
    "# Predict on the test set\n",
    "svm_pred = svm_model.predict(X_test)\n",
    "rf_pred = rf_model.predict(X_test)\n",
    "knn_pred = knn_model.predict(X_test)\n",
    "xgb_pred = xgb_model.predict(X_test)\n",
    "\n",
    "# Evaluate the models\n",
    "svm_acc = accuracy_score(y_test, svm_pred)\n",
    "rf_acc = accuracy_score(y_test, rf_pred)\n",
    "knn_acc = accuracy_score(y_test, knn_pred)\n",
    "xgb_acc = accuracy_score(y_test, xgb_pred)\n",
    "\n",
    "print(f\"SVM Accuracy: {svm_acc}\")\n",
    "print(f\"Random Forest Accuracy: {rf_acc}\")\n",
    "print(f\"KNN Accuracy: {knn_acc}\")\n",
    "print(f\"XGBoost Accuracy: {xgb_acc}\")"
   ]
  },
  {
   "cell_type": "code",
   "execution_count": null,
   "id": "758c4a1d",
   "metadata": {},
   "outputs": [],
   "source": []
  }
 ],
 "metadata": {
  "kernelspec": {
   "display_name": "Python 3 (ipykernel)",
   "language": "python",
   "name": "python3"
  },
  "language_info": {
   "codemirror_mode": {
    "name": "ipython",
    "version": 3
   },
   "file_extension": ".py",
   "mimetype": "text/x-python",
   "name": "python",
   "nbconvert_exporter": "python",
   "pygments_lexer": "ipython3",
   "version": "3.9.15"
  }
 },
 "nbformat": 4,
 "nbformat_minor": 5
}
