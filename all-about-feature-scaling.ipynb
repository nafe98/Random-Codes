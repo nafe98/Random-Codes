{
 "cells": [
  {
   "cell_type": "markdown",
   "id": "suspended-lyric",
   "metadata": {
    "papermill": {
     "duration": 0.033489,
     "end_time": "2021-07-08T03:04:36.394890",
     "exception": false,
     "start_time": "2021-07-08T03:04:36.361401",
     "status": "completed"
    },
    "tags": []
   },
   "source": [
    "<a id='begin'></a>\n",
    " <p style=\"background-color:silver; font-family:newtimeroman; font-size:250%; text-align:center; border-radius: 15px 50px;\">All about Feature Scaling:📈📉</p>"
   ]
  },
  {
   "cell_type": "markdown",
   "id": "nuclear-blink",
   "metadata": {
    "papermill": {
     "duration": 0.031607,
     "end_time": "2021-07-08T03:04:36.459361",
     "exception": false,
     "start_time": "2021-07-08T03:04:36.427754",
     "status": "completed"
    },
    "tags": []
   },
   "source": [
    "<img src= \"https://miro.medium.com/max/2400/1*_783tuRRVcTUwyFWB8VG0g.png\" width=\"100%\"  align=\"center\"  hspace=\"5%\" vspace=\"5%\"/>"
   ]
  },
  {
   "cell_type": "markdown",
   "id": "fewer-lease",
   "metadata": {
    "papermill": {
     "duration": 0.032041,
     "end_time": "2021-07-08T03:04:36.524204",
     "exception": false,
     "start_time": "2021-07-08T03:04:36.492163",
     "status": "completed"
    },
    "tags": []
   },
   "source": [
    "<ul><li><p style=\"font-family: Arials, sans-serif; font-size: 20px; text-align:center; color: rgba(0,0,0,.7)\">Real-world datasets often contain features that are varying in degrees of magnitude, range and units. Therefore, in order for machine learning models to interpret these features on the same scale, we need to perform feature scaling.<br>\n",
    "<li><p style=\"font-family: Arials, sans-serif; font-size: 20px; text-align:center; color: rgba(0,0,0,.7)\">Feature scaling in machine learning is one of the most critical steps during the pre-processing of data before creating a machine learning model. Scaling can make a difference between a weak machine learning model and a better one.</p>"
   ]
  },
  {
   "cell_type": "markdown",
   "id": "agricultural-outdoors",
   "metadata": {
    "papermill": {
     "duration": 0.03162,
     "end_time": "2021-07-08T03:04:36.588174",
     "exception": false,
     "start_time": "2021-07-08T03:04:36.556554",
     "status": "completed"
    },
    "tags": []
   },
   "source": [
    "<p style=\"font-family:newtimeroman; font-size:200%; text-align:center;\"><b>In this kernal we will see what are the Common techniques of Feature Scaling and how to implement them</b></p>"
   ]
  },
  {
   "cell_type": "markdown",
   "id": "working-complex",
   "metadata": {
    "papermill": {
     "duration": 0.032062,
     "end_time": "2021-07-08T03:04:36.652284",
     "exception": false,
     "start_time": "2021-07-08T03:04:36.620222",
     "status": "completed"
    },
    "tags": []
   },
   "source": [
    "<p style=\"font-family:newtimeroman; font-size:200%;color:skyblue; text-align:center;\"><b>IF YOU LIKE THIS NOTE BOOK PLEASE UPVOTE😊</b></p>"
   ]
  },
  {
   "cell_type": "markdown",
   "id": "advised-framing",
   "metadata": {
    "papermill": {
     "duration": 0.031933,
     "end_time": "2021-07-08T03:04:36.716205",
     "exception": false,
     "start_time": "2021-07-08T03:04:36.684272",
     "status": "completed"
    },
    "tags": []
   },
   "source": [
    "<p style=\"font-family:newtimeroman; font-size:200%; text-align:center;\"><b>Also check my Notebook on <a href=\"https://www.kaggle.com/mysarahmadbhat/types-of-transformations-for-better-distribution\">Types Of Transformation For Better Distribution:</a></b></p>"
   ]
  },
  {
   "cell_type": "markdown",
   "id": "gross-platinum",
   "metadata": {
    "papermill": {
     "duration": 0.03162,
     "end_time": "2021-07-08T03:04:36.780382",
     "exception": false,
     "start_time": "2021-07-08T03:04:36.748762",
     "status": "completed"
    },
    "tags": []
   },
   "source": [
    " \n",
    "<p style=\"font-family: Arials; font-size: 20px; font-style: normal; font-weight: bold; letter-spacing: 3px; color: #808080; line-height:1.0\">TABLE OF CONTENT</p>\n",
    "\n",
    "\n",
    "\n",
    "<p style=\"font-family: Arials; font-size: 16px; font-style: normal; font-weight: bold; letter-spacing: 2px; color: #808080; line-height:1.3\"><a href=\"#part1\" style=\"color:#808080\">0 OVERVIEW</a></p>\n",
    "\n",
    "<p style=\"font-family: Arials; font-size: 16px; font-style: normal; font-weight: bold; letter-spacing: 2px; color: #808080; line-height:1.3\"><a href=\"#part2\" style=\"color:#808080\">0 IMPORTING LIBRARIES</a></p>\n",
    "\n",
    "<p style=\"font-family: Arials; font-size: 16px; font-style: normal; font-weight: bold; letter-spacing: 2px; color: #808080; line-height:1.3\"><a href=\"#part3\" style=\"color:#808080\">2 IMPORTING Data-Sets</a></p>\n",
    "\n",
    "<p style=\"font-family: Arials; font-size: 16px; font-style: normal; font-weight: bold; letter-spacing: 2px; color: #808080; line-height:1.3\"><a href=\"#part4\" style=\"color:#808080\">3 Most Common Technique:</a></p>\n",
    "\n",
    "<p style=\"text-indent: 1vw; font-family: Arials; font-size: 14px; font-style: normal; font-weight: bold; letter-spacing: 2px; color: #808080; line-height:1.3\">\n",
    "<a href=\"#part5\" style=\"color:#808080\">3.1 Min Max Scaler</a></p>\n",
    "\n",
    "<p style=\"text-indent: 1vw; font-family: Arials; font-size: 14px; font-style: normal; font-weight: bold; letter-spacing: 2px; color: #808080; line-height:1.3\">\n",
    "<a href=\"#part6\" style=\"color:#808080\">3.2  Standard Scaler</a></p>\n",
    "\n",
    "<p style=\"text-indent: 1vw; font-family: Arials; font-size: 14px; font-style: normal; font-weight: bold; letter-spacing: 2px; color: #808080; line-height:1.3\">\n",
    "<a href=\"#part7\" style=\"color:#808080\">3.3  Max Abs Scaler</a></p>\n",
    "\n",
    "<p style=\"text-indent: 1vw; font-family: Arials; font-size: 14px; font-style: normal; font-weight: bold; letter-spacing: 2px; color: #808080; line-height:1.3\"> \n",
    "<a href=\"#part8\" style=\"color:#808080\">3.4 Robust Scaler</a></p>\n",
    "\n",
    "<p style=\"text-indent: 1vw; font-family: Arials; font-size: 14px; font-style: normal; font-weight: bold; letter-spacing: 2px; color: #808080; line-height:1.3\"> \n",
    "<a href=\"#part9\" style=\"color:#808080\">3.5 Quantile Transform Scaler</a></p>\n",
    "\n",
    "<p style=\"text-indent: 1vw; font-family: Arials; font-size: 14px; font-style: normal; font-weight: bold; letter-spacing: 2px; color: #808080; line-height:1.3\"> \n",
    "<a href=\"#part10\" style=\"color:#808080\">3.6 Power Transformer Scaler</a></p>\n",
    "\n",
    "<p style=\"text-indent: 1vw; font-family: Arials; font-size: 14px; font-style: normal; font-weight: bold; letter-spacing: 2px; color: #808080; line-height:1.3\"> \n",
    "<a href=\"#part11\" style=\"color:#808080\">3.7 Unit Vector Scaler</a></p>\n",
    "\n",
    "\n",
    "\n",
    "<p style=\"font-family: Arials; font-size: 16px; font-style: normal; font-weight: bold; letter-spacing: 2px; color: #808080; line-height:1.3\"><a href=\"#part12\" style=\"color:#808080\">4 Multiple Scaler</a></p>\n",
    "\n"
   ]
  },
  {
   "cell_type": "markdown",
   "id": "positive-czech",
   "metadata": {
    "papermill": {
     "duration": 0.031746,
     "end_time": "2021-07-08T03:04:36.844168",
     "exception": false,
     "start_time": "2021-07-08T03:04:36.812422",
     "status": "completed"
    },
    "tags": []
   },
   "source": [
    "<p id=\"part1\"></p>\n",
    "<p style=\"font-family: Arials; font-size: 26px; font-style: bold; font-weight: bold; text-align:center; letter-spacing: 3px; color: #5B2C6F \">0 OVERVIEW:</p>"
   ]
  },
  {
   "cell_type": "markdown",
   "id": "timely-profit",
   "metadata": {
    "papermill": {
     "duration": 0.031774,
     "end_time": "2021-07-08T03:04:36.908133",
     "exception": false,
     "start_time": "2021-07-08T03:04:36.876359",
     "status": "completed"
    },
    "tags": []
   },
   "source": [
    "<p style=\"font-family:newtimeroman; font-size:200%; text-align:center;\"><b>First of all Why we care About Feature Scaling?</b></p>"
   ]
  },
  {
   "cell_type": "markdown",
   "id": "selected-stress",
   "metadata": {
    "papermill": {
     "duration": 0.031771,
     "end_time": "2021-07-08T03:04:36.972334",
     "exception": false,
     "start_time": "2021-07-08T03:04:36.940563",
     "status": "completed"
    },
    "tags": []
   },
   "source": [
    "<p style=\"font-family:  sans-serif; font-size: 20px; text-align:center; color: rgba(0,0,0,.7)\">Machine learning algorithm just sees number — if there is a vast difference in the range say few ranging in thousands and few ranging in the tens, and it makes the underlying assumption that higher ranging numbers have superiority of some sort. So these more significant number starts playing a more decisive role while training the model.<br>\n",
    "The machine learning algorithm works on numbers and does not know what that number represents. A weight of 10 grams and a price of 10 dollars represents completely two different things — which is a no brainer for humans, but for a model as a feature, it treats both as same.</p>"
   ]
  },
  {
   "cell_type": "markdown",
   "id": "forced-refrigerator",
   "metadata": {
    "papermill": {
     "duration": 0.031968,
     "end_time": "2021-07-08T03:04:37.036821",
     "exception": false,
     "start_time": "2021-07-08T03:04:37.004853",
     "status": "completed"
    },
    "tags": []
   },
   "source": [
    "<p style=\"font-family:  sans-serif; font-size: 20px; text-align:center; color: rgba(0,0,0,.7)\">Some examples of algorithms where feature scaling matters are:<br> K-nearest neighbors (KNN) with a Euclidean distance measure is sensitive to magnitudes and hence should be scaled for all features to weigh in equally. <br> K-Means uses the Euclidean distance measure here feature scaling matters. <br> Scaling is critical while performing Principal Component Analysis(PCA). PCA tries to get the features with maximum variance, and the variance is high for high magnitude features and skews the PCA towards high magnitude features.<br> We can speed up gradient descent by scaling because θ descends quickly on small ranges and slowly on large ranges, and oscillates inefficiently down to the optimum when the variables are very uneven.<br>  Algorithms that do not require normalization/scaling are the ones that rely on rules.<br> They would not be affected by any monotonic transformations of the variables. Scaling is a monotonic transformation.<br> Examples of algorithms in this category are all the tree-based algorithms — CART, Random Forests, Gradient Boosted Decision Trees. These algorithms utilize rules (series of inequalities) and do not require normalization.</p>"
   ]
  },
  {
   "cell_type": "markdown",
   "id": "cross-moderator",
   "metadata": {
    "papermill": {
     "duration": 0.031829,
     "end_time": "2021-07-08T03:04:37.101184",
     "exception": false,
     "start_time": "2021-07-08T03:04:37.069355",
     "status": "completed"
    },
    "tags": []
   },
   "source": [
    "<p id=\"part2\"></p>\n",
    "<p style=\"font-family: Arials; font-size: 26px; font-style: bold; font-weight: bold; text-align:center; letter-spacing: 3px; color: #5B2C6F \">1. IMPORTING LIBRARIES:</p>"
   ]
  },
  {
   "cell_type": "code",
   "execution_count": 1,
   "id": "subject-right",
   "metadata": {
    "_kg_hide-input": false,
    "execution": {
     "iopub.execute_input": "2021-07-08T03:04:37.176399Z",
     "iopub.status.busy": "2021-07-08T03:04:37.174345Z",
     "iopub.status.idle": "2021-07-08T03:04:38.111519Z",
     "shell.execute_reply": "2021-07-08T03:04:38.110055Z",
     "shell.execute_reply.started": "2021-07-02T17:40:34.717834Z"
    },
    "papermill": {
     "duration": 0.978182,
     "end_time": "2021-07-08T03:04:38.111748",
     "exception": false,
     "start_time": "2021-07-08T03:04:37.133566",
     "status": "completed"
    },
    "tags": []
   },
   "outputs": [],
   "source": [
    "import pandas as pd\n",
    "import numpy as np\n",
    "import matplotlib.pyplot as plt\n",
    "import seaborn as sns\n",
    "import warnings\n",
    "warnings.filterwarnings(\"ignore\")\n",
    "\n"
   ]
  },
  {
   "cell_type": "markdown",
   "id": "undefined-finder",
   "metadata": {
    "papermill": {
     "duration": 0.03198,
     "end_time": "2021-07-08T03:04:38.176395",
     "exception": false,
     "start_time": "2021-07-08T03:04:38.144415",
     "status": "completed"
    },
    "tags": []
   },
   "source": [
    "<p id=\"part3\"></p>\n",
    "<p style=\"font-family: Arials; font-size: 26px; font-style: bold; font-weight: bold; text-align:center; letter-spacing: 3px; color: #5B2C6F \">2. IMPORTING DATA SETS:</p>"
   ]
  },
  {
   "cell_type": "code",
   "execution_count": 2,
   "id": "velvet-preparation",
   "metadata": {
    "execution": {
     "iopub.execute_input": "2021-07-08T03:04:38.246236Z",
     "iopub.status.busy": "2021-07-08T03:04:38.245560Z",
     "iopub.status.idle": "2021-07-08T03:04:38.263175Z",
     "shell.execute_reply": "2021-07-08T03:04:38.262576Z",
     "shell.execute_reply.started": "2021-07-02T17:37:16.438929Z"
    },
    "papermill": {
     "duration": 0.054826,
     "end_time": "2021-07-08T03:04:38.263328",
     "exception": false,
     "start_time": "2021-07-08T03:04:38.208502",
     "status": "completed"
    },
    "tags": []
   },
   "outputs": [],
   "source": [
    "df=pd.read_csv(\"/kaggle/input/iris/Iris.csv\")"
   ]
  },
  {
   "cell_type": "markdown",
   "id": "physical-thomas",
   "metadata": {
    "papermill": {
     "duration": 0.032259,
     "end_time": "2021-07-08T03:04:38.328120",
     "exception": false,
     "start_time": "2021-07-08T03:04:38.295861",
     "status": "completed"
    },
    "tags": []
   },
   "source": [
    "<p id=\"part4\"></p>\n",
    "<p style=\"font-family: Arials; font-size: 26px; font-style: bold; font-weight: bold; text-align:center; letter-spacing: 3px; color: #5B2C6F \">3. Most Common Techniques:</p>"
   ]
  },
  {
   "cell_type": "markdown",
   "id": "little-forwarding",
   "metadata": {
    "papermill": {
     "duration": 0.032271,
     "end_time": "2021-07-08T03:04:38.392598",
     "exception": false,
     "start_time": "2021-07-08T03:04:38.360327",
     "status": "completed"
    },
    "tags": []
   },
   "source": [
    "<p id=\"part5\"></p>\n",
    "<p style=\"font-family: Arials; font-size: 26px; font-style: bold; font-weight: bold; letter-spacing: 3px; color: #5B2C6F \">3.1 Min-Max Scaler:</p>"
   ]
  },
  {
   "cell_type": "markdown",
   "id": "hungry-backup",
   "metadata": {
    "papermill": {
     "duration": 0.031971,
     "end_time": "2021-07-08T03:04:38.456794",
     "exception": false,
     "start_time": "2021-07-08T03:04:38.424823",
     "status": "completed"
    },
    "tags": []
   },
   "source": [
    "<img src= \"https://miro.medium.com/max/229/0*Gy668nQfirqf6W4c\" width=\"50%\"  align=\"center\"  hspace=\"5%\" vspace=\"5%\"  />"
   ]
  },
  {
   "cell_type": "markdown",
   "id": "preceding-western",
   "metadata": {
    "papermill": {
     "duration": 0.033178,
     "end_time": "2021-07-08T03:04:38.522276",
     "exception": false,
     "start_time": "2021-07-08T03:04:38.489098",
     "status": "completed"
    },
    "tags": []
   },
   "source": [
    "<p style=\"font-family:  sans-serif; font-size: 20px; text-align:center; color: rgba(0,0,0,.7)\">Transform features by scaling each feature to a given range. This estimator scales and translates each feature individually such that it is in the given range on the training set, e.g., between zero and one. This Scaler shrinks the data within the range of -1 to 1 if there are negative values. We can set the range like [0,1] or [0,5] or [-1,1].\n",
    "This Scaler responds well if the standard deviation is small and when a distribution is not Gaussian. This Scaler is sensitive to outliers.</p>"
   ]
  },
  {
   "cell_type": "code",
   "execution_count": 3,
   "id": "cooperative-texture",
   "metadata": {
    "execution": {
     "iopub.execute_input": "2021-07-08T03:04:38.596128Z",
     "iopub.status.busy": "2021-07-08T03:04:38.595357Z",
     "iopub.status.idle": "2021-07-08T03:04:39.020210Z",
     "shell.execute_reply": "2021-07-08T03:04:39.019551Z",
     "shell.execute_reply.started": "2021-07-02T17:41:20.818434Z"
    },
    "papermill": {
     "duration": 0.466076,
     "end_time": "2021-07-08T03:04:39.020358",
     "exception": false,
     "start_time": "2021-07-08T03:04:38.554282",
     "status": "completed"
    },
    "tags": []
   },
   "outputs": [
    {
     "data": {
      "image/png": "[encoded data removed]",
      "text/plain": [
       "<Figure size 432x288 with 1 Axes>"
      ]
     },
     "metadata": {
      "needs_background": "light"
     },
     "output_type": "display_data"
    }
   ],
   "source": [
    "from sklearn.preprocessing import MinMaxScaler\n",
    "scaler = MinMaxScaler()\n",
    "df = pd.DataFrame({'WEIGHT': [15, 18, 12,10],\n",
    "                   'PRICE': [1,3,2,5]},\n",
    "                   index = ['Orange','Apple','Banana','Grape'])\n",
    "df1 = pd.DataFrame(scaler.fit_transform(df),\n",
    "                   columns=['WEIGHT','PRICE'],\n",
    "                   index = ['Orange','Apple','Banana','Grape'])\n",
    "\n",
    "ax = df.plot.scatter(x='WEIGHT', y='PRICE',color=['red','green','blue','yellow'], \n",
    "                     marker = '*',s=80, label='BREFORE SCALING');\n",
    "df1.plot.scatter(x='WEIGHT', y='PRICE', color=['red','green','blue','yellow'],\n",
    "                 marker = 'o',s=60,label='AFTER SCALING', ax = ax);\n",
    "plt.axhline(0, color='red',alpha=0.2)\n",
    "plt.axvline(0, color='red',alpha=0.2);"
   ]
  },
  {
   "cell_type": "markdown",
   "id": "automated-antigua",
   "metadata": {
    "papermill": {
     "duration": 0.033423,
     "end_time": "2021-07-08T03:04:39.088124",
     "exception": false,
     "start_time": "2021-07-08T03:04:39.054701",
     "status": "completed"
    },
    "tags": []
   },
   "source": [
    "<p style=\"font-family:  sans-serif; font-size: 20px; text-align:center; color: rgba(0,0,0,.7)\">Let's Try on Iris Data Set:</p>"
   ]
  },
  {
   "cell_type": "code",
   "execution_count": 4,
   "id": "adjustable-martin",
   "metadata": {
    "execution": {
     "iopub.execute_input": "2021-07-08T03:04:39.167387Z",
     "iopub.status.busy": "2021-07-08T03:04:39.166626Z",
     "iopub.status.idle": "2021-07-08T03:04:39.408329Z",
     "shell.execute_reply": "2021-07-08T03:04:39.407775Z",
     "shell.execute_reply.started": "2021-07-02T17:41:47.673889Z"
    },
    "papermill": {
     "duration": 0.285897,
     "end_time": "2021-07-08T03:04:39.408483",
     "exception": false,
     "start_time": "2021-07-08T03:04:39.122586",
     "status": "completed"
    },
    "tags": []
   },
   "outputs": [
    {
     "data": {
      "image/png": "[encoded data removed]",
      "text/plain": [
       "<Figure size 432x288 with 1 Axes>"
      ]
     },
     "metadata": {
      "needs_background": "light"
     },
     "output_type": "display_data"
    }
   ],
   "source": [
    "df=pd.read_csv(\"/kaggle/input/iris/Iris.csv\")\n",
    "df.drop(\"Species\",axis=1,inplace=True)\n",
    "from sklearn.preprocessing import MinMaxScaler\n",
    "scaler=MinMaxScaler()\n",
    "df1=pd.DataFrame(scaler.fit_transform(df),columns=['Id', 'SepalLengthCm', 'SepalWidthCm', 'PetalLengthCm', 'PetalWidthCm'])\n",
    "ax=df.plot.scatter(x=\"SepalLengthCm\",y=\"SepalWidthCm\",marker=\"*\",label=\"Before-Scaling\",color=\"red\")\n",
    "df1.plot.scatter(x=\"SepalLengthCm\",y=\"SepalWidthCm\",marker=\"+\",label=\"After-Scaling\",ax=ax)\n",
    "plt.axhline(0, color='red',alpha=0.2)\n",
    "plt.axvline(0, color='red',alpha=0.2);\n",
    "plt.show()"
   ]
  },
  {
   "cell_type": "markdown",
   "id": "stone-aviation",
   "metadata": {
    "papermill": {
     "duration": 0.033307,
     "end_time": "2021-07-08T03:04:39.476001",
     "exception": false,
     "start_time": "2021-07-08T03:04:39.442694",
     "status": "completed"
    },
    "tags": []
   },
   "source": [
    "<p id=\"part6\"></p>\n",
    "<p style=\"font-family: Arials; font-size: 26px; font-style: bold; font-weight: bold; letter-spacing: 3px; color: #5B2C6F \">3.2 Standard Scaler:</p>"
   ]
  },
  {
   "cell_type": "markdown",
   "id": "exclusive-cathedral",
   "metadata": {
    "papermill": {
     "duration": 0.033626,
     "end_time": "2021-07-08T03:04:39.544533",
     "exception": false,
     "start_time": "2021-07-08T03:04:39.510907",
     "status": "completed"
    },
    "tags": []
   },
   "source": [
    "<p style=\"font-family:  sans-serif; font-size: 20px; text-align:center; color: rgba(0,0,0,.7)\">The Standard Scaler assumes data is normally distributed within each feature and scales them such that the distribution centered around 0, with a standard deviation of 1.\n",
    "Centering and scaling happen independently on each feature by computing the relevant statistics on the samples in the training set. If data is not normally distributed, this is not the best Scaler to use.</p>"
   ]
  },
  {
   "cell_type": "code",
   "execution_count": 5,
   "id": "incorporate-overview",
   "metadata": {
    "execution": {
     "iopub.execute_input": "2021-07-08T03:04:39.701674Z",
     "iopub.status.busy": "2021-07-08T03:04:39.661129Z",
     "iopub.status.idle": "2021-07-08T03:04:39.837206Z",
     "shell.execute_reply": "2021-07-08T03:04:39.836540Z",
     "shell.execute_reply.started": "2021-07-02T17:41:36.992594Z"
    },
    "papermill": {
     "duration": 0.258759,
     "end_time": "2021-07-08T03:04:39.837348",
     "exception": false,
     "start_time": "2021-07-08T03:04:39.578589",
     "status": "completed"
    },
    "tags": []
   },
   "outputs": [
    {
     "data": {
      "image/png": "[encoded data removed]",
      "text/plain": [
       "<Figure size 432x288 with 1 Axes>"
      ]
     },
     "metadata": {
      "needs_background": "light"
     },
     "output_type": "display_data"
    }
   ],
   "source": [
    "from sklearn.preprocessing import StandardScaler\n",
    "standardscaler=StandardScaler()\n",
    "df = pd.DataFrame({'WEIGHT': [15, 18, 12,10],\n",
    "                   'PRICE': [1,3,2,5]},\n",
    "                   index = ['Orange','Apple','Banana','Grape'])\n",
    "df1=pd.DataFrame(scaler.fit_transform(df),columns=['WEIGHT', 'PRICE'],index = ['Orange','Apple','Banana','Grape'])\n",
    "\n",
    "ax=df.plot.scatter(x=\"WEIGHT\",y=\"PRICE\",marker=\"*\",s=60,label=\"Before Scaling\",color=\"red\")\n",
    "df1.plot.scatter(x=\"WEIGHT\",y=\"PRICE\",marker=\"*\",s=60,label=\"After Scaling\",ax=ax)\n",
    "plt.axhline(0, color='red',alpha=0.2)\n",
    "plt.axvline(0, color='red',alpha=0.2);"
   ]
  },
  {
   "cell_type": "markdown",
   "id": "finnish-school",
   "metadata": {
    "papermill": {
     "duration": 0.034273,
     "end_time": "2021-07-08T03:04:39.906108",
     "exception": false,
     "start_time": "2021-07-08T03:04:39.871835",
     "status": "completed"
    },
    "tags": []
   },
   "source": [
    "<p style=\"font-family:  sans-serif; font-size: 20px; text-align:center; color: rgba(0,0,0,.7)\">Let's Try on Iris Data Set:</p>"
   ]
  },
  {
   "cell_type": "code",
   "execution_count": 6,
   "id": "increasing-findings",
   "metadata": {
    "execution": {
     "iopub.execute_input": "2021-07-08T03:04:39.984488Z",
     "iopub.status.busy": "2021-07-08T03:04:39.983716Z",
     "iopub.status.idle": "2021-07-08T03:04:40.199327Z",
     "shell.execute_reply": "2021-07-08T03:04:40.199768Z",
     "shell.execute_reply.started": "2021-07-02T17:41:43.25431Z"
    },
    "papermill": {
     "duration": 0.25905,
     "end_time": "2021-07-08T03:04:40.199972",
     "exception": false,
     "start_time": "2021-07-08T03:04:39.940922",
     "status": "completed"
    },
    "tags": []
   },
   "outputs": [
    {
     "data": {
      "image/png": "[encoded data removed]",
      "text/plain": [
       "<Figure size 432x288 with 1 Axes>"
      ]
     },
     "metadata": {
      "needs_background": "light"
     },
     "output_type": "display_data"
    }
   ],
   "source": [
    "df=pd.read_csv(\"/kaggle/input/iris/Iris.csv\")\n",
    "df.drop(\"Species\",axis=1,inplace=True)\n",
    "from sklearn.preprocessing import StandardScaler\n",
    "scaler=StandardScaler()\n",
    "df1=pd.DataFrame(scaler.fit_transform(df),columns=['Id', 'SepalLengthCm', 'SepalWidthCm', 'PetalLengthCm', 'PetalWidthCm'])\n",
    "ax=df.plot.scatter(x=\"SepalLengthCm\",y=\"SepalWidthCm\",marker=\"*\",label=\"Before-Scaling\",color=\"red\")\n",
    "df1.plot.scatter(x=\"SepalLengthCm\",y=\"SepalWidthCm\",marker=\"+\",label=\"After-Scaling\",ax=ax)\n",
    "plt.axhline(0, color='red',alpha=0.2)\n",
    "plt.axvline(0, color='red',alpha=0.2);\n",
    "plt.show()"
   ]
  },
  {
   "cell_type": "markdown",
   "id": "anonymous-lobby",
   "metadata": {
    "papermill": {
     "duration": 0.034998,
     "end_time": "2021-07-08T03:04:40.270264",
     "exception": false,
     "start_time": "2021-07-08T03:04:40.235266",
     "status": "completed"
    },
    "tags": []
   },
   "source": [
    "<p id=\"part7\"></p>\n",
    "<p style=\"font-family: Arials; font-size: 26px; font-style: bold; font-weight: bold; letter-spacing: 3px; color: #5B2C6F \">3.3 Max Abs Scaler:</p>"
   ]
  },
  {
   "cell_type": "markdown",
   "id": "incident-survivor",
   "metadata": {
    "papermill": {
     "duration": 0.034909,
     "end_time": "2021-07-08T03:04:40.340390",
     "exception": false,
     "start_time": "2021-07-08T03:04:40.305481",
     "status": "completed"
    },
    "tags": []
   },
   "source": [
    "<p style=\"font-family:  sans-serif; font-size: 20px; text-align:center; color: rgba(0,0,0,.7)\">Scale each feature by its maximum absolute value. This estimator scales and translates each feature individually such that the maximal absolute value of each feature in the training set is 1.0. It does not shift/center the data and thus does not destroy any sparsity.\n",
    "On positive-only data, this Scaler behaves similarly to Min Max Scaler and, therefore, also suffers from the presence of significant outliers.</p>"
   ]
  },
  {
   "cell_type": "code",
   "execution_count": 7,
   "id": "worst-kruger",
   "metadata": {
    "execution": {
     "iopub.execute_input": "2021-07-08T03:04:40.414507Z",
     "iopub.status.busy": "2021-07-08T03:04:40.413547Z",
     "iopub.status.idle": "2021-07-08T03:04:40.608570Z",
     "shell.execute_reply": "2021-07-08T03:04:40.609113Z",
     "shell.execute_reply.started": "2021-07-02T17:42:43.253353Z"
    },
    "papermill": {
     "duration": 0.23358,
     "end_time": "2021-07-08T03:04:40.609282",
     "exception": false,
     "start_time": "2021-07-08T03:04:40.375702",
     "status": "completed"
    },
    "tags": []
   },
   "outputs": [
    {
     "data": {
      "image/png": "[encoded data removed]",
      "text/plain": [
       "<Figure size 432x288 with 1 Axes>"
      ]
     },
     "metadata": {
      "needs_background": "light"
     },
     "output_type": "display_data"
    }
   ],
   "source": [
    "from sklearn.preprocessing import MaxAbsScaler\n",
    "maxabsscaler=MaxAbsScaler()\n",
    "df = pd.DataFrame({'WEIGHT': [15, 18, 12,10],\n",
    "                   'PRICE': [1,3,2,5]},\n",
    "                   index = ['Orange','Apple','Banana','Grape'])\n",
    "df1=pd.DataFrame(maxabsscaler.fit_transform(df),columns=['WEIGHT', 'PRICE'],index = ['Orange','Apple','Banana','Grape'])\n",
    "\n",
    "ax=df.plot.scatter(x=\"WEIGHT\",y=\"PRICE\",marker=\"+\",s=60,label=\"Before Scaling\",color=\"red\")\n",
    "df1.plot.scatter(x=\"WEIGHT\",y=\"PRICE\",marker=\"*\",s=60,label=\"After Scaling\",ax=ax)\n",
    "plt.axhline(0, color='red',alpha=0.2)\n",
    "plt.axvline(0, color='red',alpha=0.2);"
   ]
  },
  {
   "cell_type": "markdown",
   "id": "defined-sustainability",
   "metadata": {
    "papermill": {
     "duration": 0.035571,
     "end_time": "2021-07-08T03:04:40.680975",
     "exception": false,
     "start_time": "2021-07-08T03:04:40.645404",
     "status": "completed"
    },
    "tags": []
   },
   "source": [
    "<p style=\"font-family:  sans-serif; font-size: 20px; text-align:center; color: rgba(0,0,0,.7)\">Let's Try on Iris Data Set:</p>"
   ]
  },
  {
   "cell_type": "code",
   "execution_count": 8,
   "id": "intimate-bachelor",
   "metadata": {
    "execution": {
     "iopub.execute_input": "2021-07-08T03:04:40.760860Z",
     "iopub.status.busy": "2021-07-08T03:04:40.760183Z",
     "iopub.status.idle": "2021-07-08T03:04:41.148687Z",
     "shell.execute_reply": "2021-07-08T03:04:41.149181Z",
     "shell.execute_reply.started": "2021-07-02T17:42:49.152861Z"
    },
    "papermill": {
     "duration": 0.432487,
     "end_time": "2021-07-08T03:04:41.149361",
     "exception": false,
     "start_time": "2021-07-08T03:04:40.716874",
     "status": "completed"
    },
    "tags": []
   },
   "outputs": [
    {
     "data": {
      "image/png": "[encoded data removed]",
      "text/plain": [
       "<Figure size 432x288 with 1 Axes>"
      ]
     },
     "metadata": {
      "needs_background": "light"
     },
     "output_type": "display_data"
    }
   ],
   "source": [
    "df=pd.read_csv(\"/kaggle/input/iris/Iris.csv\")\n",
    "df.drop(\"Species\",axis=1,inplace=True)\n",
    "from sklearn.preprocessing import MaxAbsScaler\n",
    "maxabsscaler=MaxAbsScaler()\n",
    "df1=pd.DataFrame(maxabsscaler.fit_transform(df),columns=['Id', 'SepalLengthCm', 'SepalWidthCm', 'PetalLengthCm', 'PetalWidthCm'])\n",
    "ax=df.plot.scatter(x=\"SepalLengthCm\",y=\"SepalWidthCm\",marker=\"*\",label=\"Before-Scaling\",color=\"red\")\n",
    "df1.plot.scatter(x=\"SepalLengthCm\",y=\"SepalWidthCm\",marker=\"+\",label=\"After-Scaling\",ax=ax)\n",
    "plt.axhline(0, color='red',alpha=0.2)\n",
    "plt.axvline(0, color='red',alpha=0.2);\n",
    "plt.show()"
   ]
  },
  {
   "cell_type": "markdown",
   "id": "affected-license",
   "metadata": {
    "papermill": {
     "duration": 0.036764,
     "end_time": "2021-07-08T03:04:41.223762",
     "exception": false,
     "start_time": "2021-07-08T03:04:41.186998",
     "status": "completed"
    },
    "tags": []
   },
   "source": [
    "<p id=\"part8\"></p>\n",
    "<p style=\"font-family: Arials; font-size: 26px; font-style: bold; font-weight: bold; letter-spacing: 3px; color: #5B2C6F \">3.4 Robust Scaler:</p>"
   ]
  },
  {
   "cell_type": "markdown",
   "id": "english-handy",
   "metadata": {
    "papermill": {
     "duration": 0.0365,
     "end_time": "2021-07-08T03:04:41.297125",
     "exception": false,
     "start_time": "2021-07-08T03:04:41.260625",
     "status": "completed"
    },
    "tags": []
   },
   "source": [
    "<p style=\"font-family:  sans-serif; font-size: 20px; text-align:center; color: rgba(0,0,0,.7)\">As the name suggests, this Scaler is robust to outliers. If our data contains many outliers, scaling using the mean and standard deviation of the data won’t work well.\n",
    "This Scaler removes the median and scales the data according to the quantile range (defaults to IQR: Interquartile Range). The IQR is the range between the 1st quartile (25th quantile) and the 3rd quartile (75th quantile). The centering and scaling statistics of this Scaler are based on percentiles and are therefore not influenced by a few numbers of huge marginal outliers. Note that the outliers themselves are still present in the transformed data. If a separate outlier clipping is desirable, a non-linear transformation is required.</p>"
   ]
  },
  {
   "cell_type": "code",
   "execution_count": 9,
   "id": "ordinary-piano",
   "metadata": {
    "execution": {
     "iopub.execute_input": "2021-07-08T03:04:41.375444Z",
     "iopub.status.busy": "2021-07-08T03:04:41.374471Z",
     "iopub.status.idle": "2021-07-08T03:04:41.627099Z",
     "shell.execute_reply": "2021-07-08T03:04:41.626578Z",
     "shell.execute_reply.started": "2021-07-02T17:43:07.773648Z"
    },
    "papermill": {
     "duration": 0.293013,
     "end_time": "2021-07-08T03:04:41.627241",
     "exception": false,
     "start_time": "2021-07-08T03:04:41.334228",
     "status": "completed"
    },
    "tags": []
   },
   "outputs": [
    {
     "data": {
      "image/png": "[encoded data removed]",
      "text/plain": [
       "<Figure size 864x432 with 1 Axes>"
      ]
     },
     "metadata": {
      "needs_background": "light"
     },
     "output_type": "display_data"
    }
   ],
   "source": [
    "dfr = pd.DataFrame({'WEIGHT': [15, 18, 12,15,100],\n",
    "                   'PRICE': [1,3,2,5,20]},\n",
    "                   index = ['Orange','Apple','Banana','Grape','Jackfruit'])\n",
    "\n",
    "from sklearn.preprocessing import StandardScaler\n",
    "scaler = StandardScaler()\n",
    "df21 = pd.DataFrame(scaler.fit_transform(dfr),\n",
    "                   columns=['WEIGHT','PRICE'],\n",
    "                   index = ['Orange','Apple','Banana','Grape','Jackfruit'])\n",
    "ax = dfr.plot.scatter(x='WEIGHT', y='PRICE',color=\"red\", \n",
    "                     marker = '*',s=80, label='BREFORE SCALING');\n",
    "df21.plot.scatter(x='WEIGHT', y='PRICE', color=\"green\",\n",
    "                 marker = 'o',s=60,label='STANDARD', ax = ax,figsize=(12,6))\n",
    "from sklearn.preprocessing import RobustScaler\n",
    "scaler = RobustScaler()\n",
    "df31 = pd.DataFrame(scaler.fit_transform(dfr),\n",
    "                   columns=['WEIGHT','PRICE'],\n",
    "                   index = ['Orange','Apple','Banana','Grape','Jackfruit'])\n",
    "df31.plot.scatter(x='WEIGHT', y='PRICE', color=\"black\",\n",
    "                 marker = 'v',s=60,label='ROBUST', ax = ax,figsize=(12,6))\n",
    "plt.axhline(0, color='red',alpha=0.2)\n",
    "plt.axvline(0, color='red',alpha=0.2);"
   ]
  },
  {
   "cell_type": "markdown",
   "id": "convertible-annotation",
   "metadata": {
    "papermill": {
     "duration": 0.040069,
     "end_time": "2021-07-08T03:04:41.705579",
     "exception": false,
     "start_time": "2021-07-08T03:04:41.665510",
     "status": "completed"
    },
    "tags": []
   },
   "source": [
    "<p id=\"part9\"></p>\n",
    "<p style=\"font-family: Arials; font-size: 26px; font-style: bold; font-weight: bold; letter-spacing: 3px; color: #5B2C6F \">3.5 Quantile Transformer  Scaler:</p>"
   ]
  },
  {
   "cell_type": "markdown",
   "id": "german-necklace",
   "metadata": {
    "papermill": {
     "duration": 0.037971,
     "end_time": "2021-07-08T03:04:41.781481",
     "exception": false,
     "start_time": "2021-07-08T03:04:41.743510",
     "status": "completed"
    },
    "tags": []
   },
   "source": [
    "<p style=\"font-family:  sans-serif; font-size: 20px; text-align:center; color: rgba(0,0,0,.7)\">Transform features using quantiles information.<br>\n",
    "This method transforms the features to follow a uniform or a normal distribution. Therefore, for a given feature, this transformation tends to spread out the most frequent values. It also reduces the impact of (marginal) outliers: this is, therefore, a robust pre-processing scheme.<br>\n",
    "The cumulative distribution function of a feature is used to project the original values. Note that this transform is non-linear and may distort linear correlations between variables measured at the same scale but renders variables measured at different scales more directly comparable. This is also sometimes called as Rank scaler.</p>"
   ]
  },
  {
   "cell_type": "code",
   "execution_count": 10,
   "id": "stopped-surrey",
   "metadata": {
    "execution": {
     "iopub.execute_input": "2021-07-08T03:04:41.895531Z",
     "iopub.status.busy": "2021-07-08T03:04:41.892560Z",
     "iopub.status.idle": "2021-07-08T03:04:42.063244Z",
     "shell.execute_reply": "2021-07-08T03:04:42.062548Z",
     "shell.execute_reply.started": "2021-07-02T17:43:40.093525Z"
    },
    "papermill": {
     "duration": 0.243065,
     "end_time": "2021-07-08T03:04:42.063386",
     "exception": false,
     "start_time": "2021-07-08T03:04:41.820321",
     "status": "completed"
    },
    "tags": []
   },
   "outputs": [
    {
     "data": {
      "image/png": "[encoded data removed]",
      "text/plain": [
       "<Figure size 432x288 with 1 Axes>"
      ]
     },
     "metadata": {
      "needs_background": "light"
     },
     "output_type": "display_data"
    }
   ],
   "source": [
    "from sklearn.preprocessing import QuantileTransformer\n",
    "scaler = QuantileTransformer()\n",
    "df = pd.DataFrame({'WEIGHT': [15, 18, 12,10],\n",
    "                   'PRICE': [1,3,2,5]},\n",
    "                   index = ['Orange','Apple','Banana','Grape'])\n",
    "df1 = pd.DataFrame(scaler.fit_transform(df),\n",
    "                   columns=['WEIGHT','PRICE'],\n",
    "                   index = ['Orange','Apple','Banana','Grape'])\n",
    "ax = df.plot.scatter(x='WEIGHT', y='PRICE',color=['red','green','blue','yellow'], \n",
    "                     marker = '+',s=80, label='BREFORE SCALING');\n",
    "df1.plot.scatter(x='WEIGHT', y='PRICE', color=['red','green','blue','yellow'],\n",
    "                 marker = 'o',s=60,label='AFTER SCALING', ax = ax,figsize=(6,4))\n",
    "plt.axhline(0, color='red',alpha=0.2)\n",
    "plt.axvline(0, color='red',alpha=0.2);"
   ]
  },
  {
   "cell_type": "markdown",
   "id": "finnish-alexandria",
   "metadata": {
    "papermill": {
     "duration": 0.039791,
     "end_time": "2021-07-08T03:04:42.142264",
     "exception": false,
     "start_time": "2021-07-08T03:04:42.102473",
     "status": "completed"
    },
    "tags": []
   },
   "source": [
    "<p id=\"part10\"></p>\n",
    "<p style=\"font-family: Arials; font-size: 26px; font-style: bold; font-weight: bold; letter-spacing: 3px; color: #5B2C6F \">3.6 Power Transformer  Scaler:</p>"
   ]
  },
  {
   "cell_type": "markdown",
   "id": "sporting-custody",
   "metadata": {
    "papermill": {
     "duration": 0.038916,
     "end_time": "2021-07-08T03:04:42.220612",
     "exception": false,
     "start_time": "2021-07-08T03:04:42.181696",
     "status": "completed"
    },
    "tags": []
   },
   "source": [
    "<p style=\"font-family:  sans-serif; font-size: 20px; text-align:center; color: rgba(0,0,0,.7)\">The power transformer is a family of parametric, monotonic transformations that are applied to make data more Gaussian-like. This is useful for modeling issues related to the variability of a variable that is unequal across the range (heteroscedasticity) or situations where normality is desired.\n",
    "The power transform finds the optimal scaling factor in stabilizing variance and minimizing skewness through maximum likelihood estimation. Currently, Sklearn implementation of PowerTransformer supports the Box-Cox transform and the Yeo-Johnson transform. The optimal parameter for stabilizing variance and minimizing skewness is estimated through maximum likelihood. Box-Cox requires input data to be strictly positive, while Yeo-Johnson supports both positive or negative data.</p>"
   ]
  },
  {
   "cell_type": "code",
   "execution_count": 11,
   "id": "widespread-principle",
   "metadata": {
    "execution": {
     "iopub.execute_input": "2021-07-08T03:04:42.340793Z",
     "iopub.status.busy": "2021-07-08T03:04:42.308555Z",
     "iopub.status.idle": "2021-07-08T03:04:42.522851Z",
     "shell.execute_reply": "2021-07-08T03:04:42.522201Z",
     "shell.execute_reply.started": "2021-07-02T17:43:59.373844Z"
    },
    "papermill": {
     "duration": 0.26284,
     "end_time": "2021-07-08T03:04:42.523036",
     "exception": false,
     "start_time": "2021-07-08T03:04:42.260196",
     "status": "completed"
    },
    "tags": []
   },
   "outputs": [
    {
     "data": {
      "image/png": "[encoded data removed]",
      "text/plain": [
       "<Figure size 432x288 with 1 Axes>"
      ]
     },
     "metadata": {
      "needs_background": "light"
     },
     "output_type": "display_data"
    }
   ],
   "source": [
    "from sklearn.preprocessing import PowerTransformer\n",
    "scaler = PowerTransformer(method='yeo-johnson')\n",
    "df = pd.DataFrame({'WEIGHT': [15, 18, 12,10],\n",
    "                   'PRICE': [1,3,2,5]},\n",
    "                   index = ['Orange','Apple','Banana','Grape'])\n",
    "df1 = pd.DataFrame(scaler.fit_transform(df),\n",
    "                   columns=['WEIGHT','PRICE'],\n",
    "                   index = ['Orange','Apple','Banana','Grape'])\n",
    "ax = df.plot.scatter(x='WEIGHT', y='PRICE',color=['red','green','blue','yellow'], \n",
    "                     marker = '*',s=80, label='BREFORE SCALING');\n",
    "df1.plot.scatter(x='WEIGHT', y='PRICE', color=['red','green','blue','yellow'],\n",
    "                 marker = 'o',s=60,label='AFTER SCALING', ax = ax)\n",
    "plt.axhline(0, color='red',alpha=0.2)\n",
    "plt.axvline(0, color='red',alpha=0.2);"
   ]
  },
  {
   "cell_type": "markdown",
   "id": "incomplete-survivor",
   "metadata": {
    "papermill": {
     "duration": 0.041005,
     "end_time": "2021-07-08T03:04:42.604205",
     "exception": false,
     "start_time": "2021-07-08T03:04:42.563200",
     "status": "completed"
    },
    "tags": []
   },
   "source": [
    "<p id=\"part11\"></p>\n",
    "<p style=\"font-family: Arials; font-size: 26px; font-style: bold; font-weight: bold; letter-spacing: 3px; color: #5B2C6F \">3.7 Unit Vector  Scaler:</p>"
   ]
  },
  {
   "cell_type": "markdown",
   "id": "hungarian-square",
   "metadata": {
    "papermill": {
     "duration": 0.039459,
     "end_time": "2021-07-08T03:04:42.684222",
     "exception": false,
     "start_time": "2021-07-08T03:04:42.644763",
     "status": "completed"
    },
    "tags": []
   },
   "source": [
    "<img src=\"https://miro.medium.com/max/110/0*BNgQzjr02S0lRolV.png\"></img>"
   ]
  },
  {
   "cell_type": "markdown",
   "id": "novel-mobility",
   "metadata": {
    "papermill": {
     "duration": 0.040093,
     "end_time": "2021-07-08T03:04:42.764476",
     "exception": false,
     "start_time": "2021-07-08T03:04:42.724383",
     "status": "completed"
    },
    "tags": []
   },
   "source": [
    "<p style=\"font-family:  sans-serif; font-size: 20px; text-align:center; color: rgba(0,0,0,.7)\">Scaling is done considering the whole feature vector to be of unit length. This usually means dividing each component by the Euclidean length of the vector (L2 Norm). In some applications (e.g., histogram features), it can be more practical to use the L1 norm of the feature vector.<br>\n",
    "Like Min-Max Scaling, the Unit Vector technique produces values of range [0,1]. When dealing with features with hard boundaries, this is quite useful. For example, when dealing with image data, the colors can range from only 0 to 255.</p>"
   ]
  },
  {
   "cell_type": "code",
   "execution_count": 12,
   "id": "special-detroit",
   "metadata": {
    "execution": {
     "iopub.execute_input": "2021-07-08T03:04:42.854904Z",
     "iopub.status.busy": "2021-07-08T03:04:42.854220Z",
     "iopub.status.idle": "2021-07-08T03:04:42.886147Z",
     "shell.execute_reply": "2021-07-08T03:04:42.886650Z",
     "shell.execute_reply.started": "2021-07-02T16:41:52.944108Z"
    },
    "papermill": {
     "duration": 0.081403,
     "end_time": "2021-07-08T03:04:42.886842",
     "exception": false,
     "start_time": "2021-07-08T03:04:42.805439",
     "status": "completed"
    },
    "tags": []
   },
   "outputs": [
    {
     "data": {
      "text/html": [
       "<div>\n",
       "<style scoped>\n",
       "    .dataframe tbody tr th:only-of-type {\n",
       "        vertical-align: middle;\n",
       "    }\n",
       "\n",
       "    .dataframe tbody tr th {\n",
       "        vertical-align: top;\n",
       "    }\n",
       "\n",
       "    .dataframe thead th {\n",
       "        text-align: right;\n",
       "    }\n",
       "</style>\n",
       "<table border=\"1\" class=\"dataframe\">\n",
       "  <thead>\n",
       "    <tr style=\"text-align: right;\">\n",
       "      <th></th>\n",
       "      <th>WEIGHT</th>\n",
       "      <th>PRICE</th>\n",
       "    </tr>\n",
       "  </thead>\n",
       "  <tbody>\n",
       "    <tr>\n",
       "      <th>Orange</th>\n",
       "      <td>0.272727</td>\n",
       "      <td>0.090909</td>\n",
       "    </tr>\n",
       "    <tr>\n",
       "      <th>Apple</th>\n",
       "      <td>0.327273</td>\n",
       "      <td>0.272727</td>\n",
       "    </tr>\n",
       "    <tr>\n",
       "      <th>Banana</th>\n",
       "      <td>0.218182</td>\n",
       "      <td>0.181818</td>\n",
       "    </tr>\n",
       "    <tr>\n",
       "      <th>Grape</th>\n",
       "      <td>0.181818</td>\n",
       "      <td>0.454545</td>\n",
       "    </tr>\n",
       "  </tbody>\n",
       "</table>\n",
       "</div>"
      ],
      "text/plain": [
       "          WEIGHT     PRICE\n",
       "Orange  0.272727  0.090909\n",
       "Apple   0.327273  0.272727\n",
       "Banana  0.218182  0.181818\n",
       "Grape   0.181818  0.454545"
      ]
     },
     "execution_count": 12,
     "metadata": {},
     "output_type": "execute_result"
    }
   ],
   "source": [
    "df = pd.DataFrame({'WEIGHT': [15, 18, 12,10],\n",
    "                   'PRICE': [1,3,2,5]},\n",
    "                   index = ['Orange','Apple','Banana','Grape'])\n",
    "df1=df.apply(lambda x:x/np.linalg.norm(x,1))\n",
    "df1\n"
   ]
  },
  {
   "cell_type": "code",
   "execution_count": 13,
   "id": "removed-institution",
   "metadata": {
    "execution": {
     "iopub.execute_input": "2021-07-08T03:04:42.971247Z",
     "iopub.status.busy": "2021-07-08T03:04:42.970585Z",
     "iopub.status.idle": "2021-07-08T03:04:42.982414Z",
     "shell.execute_reply": "2021-07-08T03:04:42.982882Z",
     "shell.execute_reply.started": "2021-07-02T16:42:40.835078Z"
    },
    "papermill": {
     "duration": 0.055857,
     "end_time": "2021-07-08T03:04:42.983086",
     "exception": false,
     "start_time": "2021-07-08T03:04:42.927229",
     "status": "completed"
    },
    "tags": []
   },
   "outputs": [
    {
     "data": {
      "text/html": [
       "<div>\n",
       "<style scoped>\n",
       "    .dataframe tbody tr th:only-of-type {\n",
       "        vertical-align: middle;\n",
       "    }\n",
       "\n",
       "    .dataframe tbody tr th {\n",
       "        vertical-align: top;\n",
       "    }\n",
       "\n",
       "    .dataframe thead th {\n",
       "        text-align: right;\n",
       "    }\n",
       "</style>\n",
       "<table border=\"1\" class=\"dataframe\">\n",
       "  <thead>\n",
       "    <tr style=\"text-align: right;\">\n",
       "      <th></th>\n",
       "      <th>WEIGHT</th>\n",
       "      <th>PRICE</th>\n",
       "    </tr>\n",
       "  </thead>\n",
       "  <tbody>\n",
       "    <tr>\n",
       "      <th>Orange</th>\n",
       "      <td>0.532666</td>\n",
       "      <td>0.160128</td>\n",
       "    </tr>\n",
       "    <tr>\n",
       "      <th>Apple</th>\n",
       "      <td>0.639199</td>\n",
       "      <td>0.480384</td>\n",
       "    </tr>\n",
       "    <tr>\n",
       "      <th>Banana</th>\n",
       "      <td>0.426132</td>\n",
       "      <td>0.320256</td>\n",
       "    </tr>\n",
       "    <tr>\n",
       "      <th>Grape</th>\n",
       "      <td>0.355110</td>\n",
       "      <td>0.800641</td>\n",
       "    </tr>\n",
       "  </tbody>\n",
       "</table>\n",
       "</div>"
      ],
      "text/plain": [
       "          WEIGHT     PRICE\n",
       "Orange  0.532666  0.160128\n",
       "Apple   0.639199  0.480384\n",
       "Banana  0.426132  0.320256\n",
       "Grape   0.355110  0.800641"
      ]
     },
     "execution_count": 13,
     "metadata": {},
     "output_type": "execute_result"
    }
   ],
   "source": [
    "df2=df.apply(lambda x:x/np.linalg.norm(x,2))\n",
    "df2"
   ]
  },
  {
   "cell_type": "code",
   "execution_count": 14,
   "id": "alone-capital",
   "metadata": {
    "execution": {
     "iopub.execute_input": "2021-07-08T03:04:43.068455Z",
     "iopub.status.busy": "2021-07-08T03:04:43.067772Z",
     "iopub.status.idle": "2021-07-08T03:04:43.294750Z",
     "shell.execute_reply": "2021-07-08T03:04:43.295322Z",
     "shell.execute_reply.started": "2021-07-02T16:48:32.463525Z"
    },
    "papermill": {
     "duration": 0.271346,
     "end_time": "2021-07-08T03:04:43.295530",
     "exception": false,
     "start_time": "2021-07-08T03:04:43.024184",
     "status": "completed"
    },
    "tags": []
   },
   "outputs": [
    {
     "data": {
      "image/png": "[encoded data removed]",
      "text/plain": [
       "<Figure size 432x288 with 1 Axes>"
      ]
     },
     "metadata": {
      "needs_background": "light"
     },
     "output_type": "display_data"
    }
   ],
   "source": [
    "ax=df.plot.scatter(x=\"WEIGHT\",y=\"PRICE\",label=\"Before Scaling\",color=\"red\")\n",
    "df1.plot.scatter(x=\"WEIGHT\",y=\"PRICE\",label=\"After Scaling\",color=\"green\",ax=ax)\n",
    "plt.axhline(0, color='red',alpha=0.2)\n",
    "plt.axvline(0, color='red',alpha=0.2);\n"
   ]
  },
  {
   "cell_type": "code",
   "execution_count": 15,
   "id": "severe-overhead",
   "metadata": {
    "execution": {
     "iopub.execute_input": "2021-07-08T03:04:43.383149Z",
     "iopub.status.busy": "2021-07-08T03:04:43.382399Z",
     "iopub.status.idle": "2021-07-08T03:04:43.601547Z",
     "shell.execute_reply": "2021-07-08T03:04:43.602157Z",
     "shell.execute_reply.started": "2021-07-02T16:48:45.724626Z"
    },
    "papermill": {
     "duration": 0.264602,
     "end_time": "2021-07-08T03:04:43.602362",
     "exception": false,
     "start_time": "2021-07-08T03:04:43.337760",
     "status": "completed"
    },
    "tags": []
   },
   "outputs": [
    {
     "data": {
      "image/png": "[encoded data removed]",
      "text/plain": [
       "<Figure size 432x288 with 1 Axes>"
      ]
     },
     "metadata": {
      "needs_background": "light"
     },
     "output_type": "display_data"
    }
   ],
   "source": [
    "ax=df.plot.scatter(x=\"WEIGHT\",y=\"PRICE\",label=\"Before Scaling\",color=\"red\")\n",
    "df2.plot.scatter(x=\"WEIGHT\",y=\"PRICE\",label=\"After Scaling\",color=\"green\",ax=ax)\n",
    "plt.axhline(0, color='red',alpha=0.2)\n",
    "plt.axvline(0, color='red',alpha=0.2);"
   ]
  },
  {
   "cell_type": "markdown",
   "id": "empty-assist",
   "metadata": {
    "papermill": {
     "duration": 0.043052,
     "end_time": "2021-07-08T03:04:43.687860",
     "exception": false,
     "start_time": "2021-07-08T03:04:43.644808",
     "status": "completed"
    },
    "tags": []
   },
   "source": [
    "<p id=\"part12\"></p>\n",
    "<p style=\"font-family: Arials; font-size: 26px; font-style: bold; font-weight: bold; letter-spacing: 3px; color: #5B2C6F \">4. Try Multiple Scalers:</p>"
   ]
  },
  {
   "cell_type": "markdown",
   "id": "angry-masters",
   "metadata": {
    "papermill": {
     "duration": 0.042024,
     "end_time": "2021-07-08T03:04:43.772493",
     "exception": false,
     "start_time": "2021-07-08T03:04:43.730469",
     "status": "completed"
    },
    "tags": []
   },
   "source": [
    "<p style=\"font-family:  sans-serif; font-size: 20px; text-align:center; color: rgba(0,0,0,.7)\"> In this block i will try Multiple Scaling Techniques on a single data frame:</p>"
   ]
  },
  {
   "cell_type": "code",
   "execution_count": 16,
   "id": "fancy-consistency",
   "metadata": {
    "execution": {
     "iopub.execute_input": "2021-07-08T03:04:43.861039Z",
     "iopub.status.busy": "2021-07-08T03:04:43.860371Z",
     "iopub.status.idle": "2021-07-08T03:04:43.866982Z",
     "shell.execute_reply": "2021-07-08T03:04:43.866442Z",
     "shell.execute_reply.started": "2021-07-02T17:22:50.049171Z"
    },
    "papermill": {
     "duration": 0.052062,
     "end_time": "2021-07-08T03:04:43.867156",
     "exception": false,
     "start_time": "2021-07-08T03:04:43.815094",
     "status": "completed"
    },
    "tags": []
   },
   "outputs": [
    {
     "data": {
      "text/plain": [
       "Index(['WEIGHT', 'PRICE'], dtype='object')"
      ]
     },
     "execution_count": 16,
     "metadata": {},
     "output_type": "execute_result"
    }
   ],
   "source": [
    "df.columns"
   ]
  },
  {
   "cell_type": "code",
   "execution_count": 17,
   "id": "angry-india",
   "metadata": {
    "execution": {
     "iopub.execute_input": "2021-07-08T03:04:43.970148Z",
     "iopub.status.busy": "2021-07-08T03:04:43.964457Z",
     "iopub.status.idle": "2021-07-08T03:04:44.335812Z",
     "shell.execute_reply": "2021-07-08T03:04:44.335130Z",
     "shell.execute_reply.started": "2021-07-02T17:44:20.328514Z"
    },
    "papermill": {
     "duration": 0.425237,
     "end_time": "2021-07-08T03:04:44.335979",
     "exception": false,
     "start_time": "2021-07-08T03:04:43.910742",
     "status": "completed"
    },
    "tags": []
   },
   "outputs": [
    {
     "data": {
      "image/png": "[encoded data removed]",
      "text/plain": [
       "<Figure size 1440x720 with 1 Axes>"
      ]
     },
     "metadata": {
      "needs_background": "light"
     },
     "output_type": "display_data"
    }
   ],
   "source": [
    "df=pd.DataFrame({\"height\":[1,2,3,4],\"weight\":[10,20,30,40]})\n",
    "df\n",
    "from sklearn.preprocessing import MinMaxScaler\n",
    "scaler=MinMaxScaler()\n",
    "df1=pd.DataFrame(scaler.fit_transform(df),columns=['height', 'weight'])\n",
    "ax=df.plot.scatter(x=\"height\",y=\"weight\",label=\"Before Transforming\",marker=\"*\",color=\"red\",figsize=(20,10))\n",
    "df1.plot.scatter(x=\"height\",y=\"weight\",label=\"After Transforming\",marker=\"+\",color=\"green\",ax=ax)\n",
    "\n",
    "from sklearn.preprocessing import StandardScaler\n",
    "scaler=StandardScaler()\n",
    "df2=pd.DataFrame(scaler.fit_transform(df),columns=['height', 'weight'])\n",
    "df2.plot.scatter(x=\"height\",y=\"weight\",label=\"Standard Scaler\",marker=\"o\",color=\"black\",ax=ax)\n",
    "\n",
    "from sklearn.preprocessing import MaxAbsScaler\n",
    "scaler=MaxAbsScaler()\n",
    "df3=pd.DataFrame(scaler.fit_transform(df),columns=['height', 'weight'])\n",
    "df3.plot.scatter(x=\"height\",y=\"weight\",label=\"Max Abs Scaler\",marker=\"v\",color=\"orange\",ax=ax)\n",
    "\n",
    "from sklearn.preprocessing import RobustScaler\n",
    "scaler=RobustScaler()\n",
    "df4=pd.DataFrame(scaler.fit_transform(df),columns=['height', 'weight'])\n",
    "df4.plot.scatter(x=\"height\",y=\"weight\",label=\"Robust Scaler\",marker=\"s\",color=\"yellow\",ax=ax)\n",
    "\n",
    "from sklearn.preprocessing import QuantileTransformer\n",
    "scaler=QuantileTransformer()\n",
    "df5=pd.DataFrame(scaler.fit_transform(df),columns=['height', 'weight'])\n",
    "df5.plot.scatter(x=\"height\",y=\"weight\",label=\"Quantile Transformer\",marker=\"p\",color=\"blue\",ax=ax)\n",
    "\n",
    "from sklearn.preprocessing import PowerTransformer\n",
    "scaler=PowerTransformer()\n",
    "df5=pd.DataFrame(scaler.fit_transform(df),columns=['height', 'weight'])\n",
    "df5.plot.scatter(x=\"height\",y=\"weight\",label=\"Power Transformer\",marker=\"x\",color=\"pink\",ax=ax)\n",
    "\n",
    "plt.show()"
   ]
  },
  {
   "cell_type": "markdown",
   "id": "geological-security",
   "metadata": {
    "papermill": {
     "duration": 0.045576,
     "end_time": "2021-07-08T03:04:44.426942",
     "exception": false,
     "start_time": "2021-07-08T03:04:44.381366",
     "status": "completed"
    },
    "tags": []
   },
   "source": [
    "<p style=\"font-family:newtimeroman; font-size:200%;color:skyblue; text-align:center;\"><b>IF YOU FOUND THIS NOTE BOOK USEFUL PLEASE UPVOTE😊</b></p>"
   ]
  },
  {
   "cell_type": "markdown",
   "id": "infectious-yahoo",
   "metadata": {
    "papermill": {
     "duration": 0.044243,
     "end_time": "2021-07-08T03:04:44.515692",
     "exception": false,
     "start_time": "2021-07-08T03:04:44.471449",
     "status": "completed"
    },
    "tags": []
   },
   "source": [
    "<p style=\"font-family:newtimeroman; font-size:200%; text-align:center;\"><b>Also check my Notebook on <a href=\"https://www.kaggle.com/mysarahmadbhat/types-of-transformations-for-better-distribution\">Types Of Transformation For Better Distribution:</a></b></p>"
   ]
  },
  {
   "cell_type": "code",
   "execution_count": null,
   "id": "fewer-commercial",
   "metadata": {
    "papermill": {
     "duration": 0.04393,
     "end_time": "2021-07-08T03:04:44.604883",
     "exception": false,
     "start_time": "2021-07-08T03:04:44.560953",
     "status": "completed"
    },
    "tags": []
   },
   "outputs": [],
   "source": []
  }
 ],
 "metadata": {
  "kernelspec": {
   "display_name": "Python 3",
   "language": "python",
   "name": "python3"
  },
  "language_info": {
   "codemirror_mode": {
    "name": "ipython",
    "version": 3
   },
   "file_extension": ".py",
   "mimetype": "text/x-python",
   "name": "python",
   "nbconvert_exporter": "python",
   "pygments_lexer": "ipython3",
   "version": "3.7.10"
  },
  "papermill": {
   "default_parameters": {},
   "duration": 18.969489,
   "end_time": "2021-07-08T03:04:46.515702",
   "environment_variables": {},
   "exception": null,
   "input_path": "__notebook__.ipynb",
   "output_path": "__notebook__.ipynb",
   "parameters": {},
   "start_time": "2021-07-08T03:04:27.546213",
   "version": "2.3.3"
  }
 },
 "nbformat": 4,
 "nbformat_minor": 5
}
