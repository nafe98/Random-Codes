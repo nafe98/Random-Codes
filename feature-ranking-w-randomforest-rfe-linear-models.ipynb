{
 "cells": [
  {
   "cell_type": "markdown",
   "metadata": {
    "_cell_guid": "6ea51bc1-c7e6-5022-f91e-5933202f9f3a",
    "_uuid": "cde1f7416981edcc7951bbc7a4928933b7ba3760"
   },
   "source": [
    "# INTRODUCTION \n",
    "\n",
    "This notebook will aim to provide an explanation and application of different feature ranking methods, namely that of Recursive Feature Elimination (RFE), Stability Selection, linear models as well as Random Forest.\n",
    "\n",
    "This notebook borrows heavily from an article by Ando Saabas on feature selection found here: http://blog.datadive.net/selecting-good-features-part-iv-stability-selection-rfe-and-everything-side-by-side/ as well as Anisotropic's work on feature selection found here: https://www.kaggle.com/arthurtok/feature-ranking-w-randomforest-rfe-linear-models/code.  A lot of Anisotropic's comments are used in this kernel to explain what is being done.\n",
    "\n",
    "My work is an application of the techniques and methods written by those gentlemen to the Zillow data competition. I have included additional competition specific data cleaning and comments in addition to the feature selection code.\n",
    "\n",
    "The contents of this notebook are as follows: \n",
    "\n",
    " 1. **Data Cleaning and Visualisation** : This section will revolve around exploring the data and visualising some summary statistics. \n",
    " 2. **Stability Selection via Randomised Lasso Method** : Introduce a relatively new feature selection method called \"Stability Selection\" and using the Randomised Lasso in its implementation\n",
    " 3. **Recursive Feature Elimination** : Implementing the Recursive Feature Elimination method of feature ranking via the use of basic Linear Regression \n",
    " 4. **Linear Model Feature Coefficients** : Implementing 3 of Sklearn's linear models (Linear Regression, Lasso and Ridge) and using the inbuilt estimated coefficients for our feature selection\n",
    " 5. **Random Forest Feature Selection** : Using the Random Forest's convenient attribute \"feature_importances\" to calculate and ultimately rank the feature importance.\n",
    "\n",
    "Finally, with all the points 1 to 5 above, we will combine the results to create our:\n",
    "\n",
    "**Feature Ranking Matrix** : Matrix of all the features along with the respective model scores which we can use in our ranking."
   ]
  },
  {
   "cell_type": "code",
   "execution_count": 1,
   "metadata": {
    "_cell_guid": "0b231163-95bb-e5d3-eda2-dd6703aa8649",
    "_uuid": "9443b3ea8bebeba0f134529375974b6c63722015",
    "collapsed": true
   },
   "outputs": [],
   "source": [
    "import pandas as pd\n",
    "import numpy as np\n",
    "from matplotlib import pyplot as plt\n",
    "import seaborn as sns\n",
    "%matplotlib inline\n",
    "from sklearn.feature_selection import RFE, f_regression\n",
    "from sklearn.linear_model import (LinearRegression, Ridge, Lasso, RandomizedLasso)\n",
    "from sklearn.preprocessing import MinMaxScaler\n",
    "from sklearn.ensemble import RandomForestRegressor"
   ]
  },
  {
   "cell_type": "markdown",
   "metadata": {
    "_cell_guid": "2b932325-d368-ee17-75cb-40feb7e8d1bf",
    "_uuid": "5c3eb6eb38eb2cb7a119a52df82845d57d815a98"
   },
   "source": [
    "# 1. DATA CLEANSING AND ANALYSIS\n",
    "\n",
    "Let's first read in the house data as a dataframe \"house\" and inspect the first 5 rows"
   ]
  },
  {
   "cell_type": "code",
   "execution_count": 2,
   "metadata": {
    "_uuid": "2fde725223b5232c02aedae8b993d3bb1c3d8eb4"
   },
   "outputs": [
    {
     "name": "stderr",
     "output_type": "stream",
     "text": [
      "/opt/conda/lib/python3.6/site-packages/IPython/core/interactiveshell.py:2717: DtypeWarning: Columns (22,32,34,49,55) have mixed types. Specify dtype option on import or set low_memory=False.\n",
      "  interactivity=interactivity, compiler=compiler, result=result)\n"
     ]
    }
   ],
   "source": [
    "# Load Data\n",
    "train = pd.read_csv('../input/train_2016_v2.csv')\n",
    "prop = pd.read_csv('../input/properties_2016.csv')\n",
    "\n",
    "# Convert to float32\n",
    "for c, dtype in zip(prop.columns, prop.dtypes):\n",
    "    if dtype == np.float64:\n",
    "        prop[c] = prop[c].astype(np.float32)\n",
    "\n",
    "# Merge training dataset with properties dataset\n",
    "df_train = train.merge(prop, how='left', on='parcelid')\n",
    "\n",
    "# Remove ID columns\n",
    "x_train = df_train.drop(['parcelid', 'logerror', 'transactiondate', 'propertyzoningdesc', 'propertycountylandusecode'], axis=1)"
   ]
  },
  {
   "cell_type": "code",
   "execution_count": 3,
   "metadata": {
    "_cell_guid": "1ca75509-383d-c6f5-d809-8a0e99b4e844",
    "_uuid": "ee8644c1339dc96ddffb9dea31086f76624e26eb"
   },
   "outputs": [
    {
     "data": {
      "text/html": [
       "<div>\n",
       "<style>\n",
       "    .dataframe thead tr:only-child th {\n",
       "        text-align: right;\n",
       "    }\n",
       "\n",
       "    .dataframe thead th {\n",
       "        text-align: left;\n",
       "    }\n",
       "\n",
       "    .dataframe tbody tr th {\n",
       "        vertical-align: top;\n",
       "    }\n",
       "</style>\n",
       "<table border=\"1\" class=\"dataframe\">\n",
       "  <thead>\n",
       "    <tr style=\"text-align: right;\">\n",
       "      <th></th>\n",
       "      <th>airconditioningtypeid</th>\n",
       "      <th>architecturalstyletypeid</th>\n",
       "      <th>basementsqft</th>\n",
       "      <th>bathroomcnt</th>\n",
       "      <th>bedroomcnt</th>\n",
       "      <th>buildingclasstypeid</th>\n",
       "      <th>buildingqualitytypeid</th>\n",
       "      <th>calculatedbathnbr</th>\n",
       "      <th>decktypeid</th>\n",
       "      <th>finishedfloor1squarefeet</th>\n",
       "      <th>...</th>\n",
       "      <th>numberofstories</th>\n",
       "      <th>fireplaceflag</th>\n",
       "      <th>structuretaxvaluedollarcnt</th>\n",
       "      <th>taxvaluedollarcnt</th>\n",
       "      <th>assessmentyear</th>\n",
       "      <th>landtaxvaluedollarcnt</th>\n",
       "      <th>taxamount</th>\n",
       "      <th>taxdelinquencyflag</th>\n",
       "      <th>taxdelinquencyyear</th>\n",
       "      <th>censustractandblock</th>\n",
       "    </tr>\n",
       "  </thead>\n",
       "  <tbody>\n",
       "    <tr>\n",
       "      <th>0</th>\n",
       "      <td>1.0</td>\n",
       "      <td>NaN</td>\n",
       "      <td>NaN</td>\n",
       "      <td>2.0</td>\n",
       "      <td>3.0</td>\n",
       "      <td>NaN</td>\n",
       "      <td>4.0</td>\n",
       "      <td>2.0</td>\n",
       "      <td>NaN</td>\n",
       "      <td>NaN</td>\n",
       "      <td>...</td>\n",
       "      <td>NaN</td>\n",
       "      <td>NaN</td>\n",
       "      <td>122754.0</td>\n",
       "      <td>360170.0</td>\n",
       "      <td>2015.0</td>\n",
       "      <td>237416.0</td>\n",
       "      <td>6735.879883</td>\n",
       "      <td>NaN</td>\n",
       "      <td>NaN</td>\n",
       "      <td>6.037107e+13</td>\n",
       "    </tr>\n",
       "    <tr>\n",
       "      <th>1</th>\n",
       "      <td>NaN</td>\n",
       "      <td>NaN</td>\n",
       "      <td>NaN</td>\n",
       "      <td>3.5</td>\n",
       "      <td>4.0</td>\n",
       "      <td>NaN</td>\n",
       "      <td>NaN</td>\n",
       "      <td>3.5</td>\n",
       "      <td>NaN</td>\n",
       "      <td>NaN</td>\n",
       "      <td>...</td>\n",
       "      <td>NaN</td>\n",
       "      <td>NaN</td>\n",
       "      <td>346458.0</td>\n",
       "      <td>585529.0</td>\n",
       "      <td>2015.0</td>\n",
       "      <td>239071.0</td>\n",
       "      <td>10153.019531</td>\n",
       "      <td>NaN</td>\n",
       "      <td>NaN</td>\n",
       "      <td>NaN</td>\n",
       "    </tr>\n",
       "    <tr>\n",
       "      <th>2</th>\n",
       "      <td>1.0</td>\n",
       "      <td>NaN</td>\n",
       "      <td>NaN</td>\n",
       "      <td>3.0</td>\n",
       "      <td>2.0</td>\n",
       "      <td>NaN</td>\n",
       "      <td>4.0</td>\n",
       "      <td>3.0</td>\n",
       "      <td>NaN</td>\n",
       "      <td>NaN</td>\n",
       "      <td>...</td>\n",
       "      <td>NaN</td>\n",
       "      <td>NaN</td>\n",
       "      <td>61994.0</td>\n",
       "      <td>119906.0</td>\n",
       "      <td>2015.0</td>\n",
       "      <td>57912.0</td>\n",
       "      <td>11484.480469</td>\n",
       "      <td>NaN</td>\n",
       "      <td>NaN</td>\n",
       "      <td>6.037464e+13</td>\n",
       "    </tr>\n",
       "    <tr>\n",
       "      <th>3</th>\n",
       "      <td>1.0</td>\n",
       "      <td>NaN</td>\n",
       "      <td>NaN</td>\n",
       "      <td>2.0</td>\n",
       "      <td>2.0</td>\n",
       "      <td>NaN</td>\n",
       "      <td>4.0</td>\n",
       "      <td>2.0</td>\n",
       "      <td>NaN</td>\n",
       "      <td>NaN</td>\n",
       "      <td>...</td>\n",
       "      <td>NaN</td>\n",
       "      <td>NaN</td>\n",
       "      <td>171518.0</td>\n",
       "      <td>244880.0</td>\n",
       "      <td>2015.0</td>\n",
       "      <td>73362.0</td>\n",
       "      <td>3048.739990</td>\n",
       "      <td>NaN</td>\n",
       "      <td>NaN</td>\n",
       "      <td>6.037296e+13</td>\n",
       "    </tr>\n",
       "    <tr>\n",
       "      <th>4</th>\n",
       "      <td>NaN</td>\n",
       "      <td>NaN</td>\n",
       "      <td>NaN</td>\n",
       "      <td>2.5</td>\n",
       "      <td>4.0</td>\n",
       "      <td>NaN</td>\n",
       "      <td>NaN</td>\n",
       "      <td>2.5</td>\n",
       "      <td>NaN</td>\n",
       "      <td>NaN</td>\n",
       "      <td>...</td>\n",
       "      <td>2.0</td>\n",
       "      <td>NaN</td>\n",
       "      <td>169574.0</td>\n",
       "      <td>434551.0</td>\n",
       "      <td>2015.0</td>\n",
       "      <td>264977.0</td>\n",
       "      <td>5488.959961</td>\n",
       "      <td>NaN</td>\n",
       "      <td>NaN</td>\n",
       "      <td>6.059042e+13</td>\n",
       "    </tr>\n",
       "  </tbody>\n",
       "</table>\n",
       "<p>5 rows × 55 columns</p>\n",
       "</div>"
      ],
      "text/plain": [
       "   airconditioningtypeid  architecturalstyletypeid  basementsqft  bathroomcnt  \\\n",
       "0                    1.0                       NaN           NaN          2.0   \n",
       "1                    NaN                       NaN           NaN          3.5   \n",
       "2                    1.0                       NaN           NaN          3.0   \n",
       "3                    1.0                       NaN           NaN          2.0   \n",
       "4                    NaN                       NaN           NaN          2.5   \n",
       "\n",
       "   bedroomcnt  buildingclasstypeid  buildingqualitytypeid  calculatedbathnbr  \\\n",
       "0         3.0                  NaN                    4.0                2.0   \n",
       "1         4.0                  NaN                    NaN                3.5   \n",
       "2         2.0                  NaN                    4.0                3.0   \n",
       "3         2.0                  NaN                    4.0                2.0   \n",
       "4         4.0                  NaN                    NaN                2.5   \n",
       "\n",
       "   decktypeid  finishedfloor1squarefeet         ...           numberofstories  \\\n",
       "0         NaN                       NaN         ...                       NaN   \n",
       "1         NaN                       NaN         ...                       NaN   \n",
       "2         NaN                       NaN         ...                       NaN   \n",
       "3         NaN                       NaN         ...                       NaN   \n",
       "4         NaN                       NaN         ...                       2.0   \n",
       "\n",
       "   fireplaceflag  structuretaxvaluedollarcnt  taxvaluedollarcnt  \\\n",
       "0            NaN                    122754.0           360170.0   \n",
       "1            NaN                    346458.0           585529.0   \n",
       "2            NaN                     61994.0           119906.0   \n",
       "3            NaN                    171518.0           244880.0   \n",
       "4            NaN                    169574.0           434551.0   \n",
       "\n",
       "   assessmentyear  landtaxvaluedollarcnt     taxamount  taxdelinquencyflag  \\\n",
       "0          2015.0               237416.0   6735.879883                 NaN   \n",
       "1          2015.0               239071.0  10153.019531                 NaN   \n",
       "2          2015.0                57912.0  11484.480469                 NaN   \n",
       "3          2015.0                73362.0   3048.739990                 NaN   \n",
       "4          2015.0               264977.0   5488.959961                 NaN   \n",
       "\n",
       "   taxdelinquencyyear  censustractandblock  \n",
       "0                 NaN         6.037107e+13  \n",
       "1                 NaN                  NaN  \n",
       "2                 NaN         6.037464e+13  \n",
       "3                 NaN         6.037296e+13  \n",
       "4                 NaN         6.059042e+13  \n",
       "\n",
       "[5 rows x 55 columns]"
      ]
     },
     "execution_count": 3,
     "metadata": {},
     "output_type": "execute_result"
    }
   ],
   "source": [
    "x_train.head()"
   ]
  },
  {
   "cell_type": "markdown",
   "metadata": {
    "_cell_guid": "78ba4e90-1d29-ae62-9fc5-ad0b590a1845",
    "_uuid": "58414416d02484843c6466f0dd754c08877f0e55"
   },
   "source": [
    "Now its time for some general data inspection. Let's first examine to see if there are any nulls in the dataframe as well as look at the type of the data (i.e whether it is a string or numeric)"
   ]
  },
  {
   "cell_type": "code",
   "execution_count": 4,
   "metadata": {
    "_uuid": "c3a61eb6ae120e9326d4814fd8b32fbc63f2d710"
   },
   "outputs": [
    {
     "name": "stdout",
     "output_type": "stream",
     "text": [
      "airconditioningtypeid           float32\n",
      "architecturalstyletypeid        float32\n",
      "basementsqft                    float32\n",
      "bathroomcnt                     float32\n",
      "bedroomcnt                      float32\n",
      "buildingclasstypeid             float32\n",
      "buildingqualitytypeid           float32\n",
      "calculatedbathnbr               float32\n",
      "decktypeid                      float32\n",
      "finishedfloor1squarefeet        float32\n",
      "calculatedfinishedsquarefeet    float32\n",
      "finishedsquarefeet12            float32\n",
      "finishedsquarefeet13            float32\n",
      "finishedsquarefeet15            float32\n",
      "finishedsquarefeet50            float32\n",
      "finishedsquarefeet6             float32\n",
      "fips                            float32\n",
      "fireplacecnt                    float32\n",
      "fullbathcnt                     float32\n",
      "garagecarcnt                    float32\n",
      "garagetotalsqft                 float32\n",
      "hashottuborspa                   object\n",
      "heatingorsystemtypeid           float32\n",
      "latitude                        float32\n",
      "longitude                       float32\n",
      "lotsizesquarefeet               float32\n",
      "poolcnt                         float32\n",
      "poolsizesum                     float32\n",
      "pooltypeid10                    float32\n",
      "pooltypeid2                     float32\n",
      "pooltypeid7                     float32\n",
      "propertylandusetypeid           float32\n",
      "rawcensustractandblock          float32\n",
      "regionidcity                    float32\n",
      "regionidcounty                  float32\n",
      "regionidneighborhood            float32\n",
      "regionidzip                     float32\n",
      "roomcnt                         float32\n",
      "storytypeid                     float32\n",
      "threequarterbathnbr             float32\n",
      "typeconstructiontypeid          float32\n",
      "unitcnt                         float32\n",
      "yardbuildingsqft17              float32\n",
      "yardbuildingsqft26              float32\n",
      "yearbuilt                       float32\n",
      "numberofstories                 float32\n",
      "fireplaceflag                    object\n",
      "structuretaxvaluedollarcnt      float32\n",
      "taxvaluedollarcnt               float32\n",
      "assessmentyear                  float32\n",
      "landtaxvaluedollarcnt           float32\n",
      "taxamount                       float32\n",
      "taxdelinquencyflag               object\n",
      "taxdelinquencyyear              float32\n",
      "censustractandblock             float32\n",
      "dtype: object\n"
     ]
    }
   ],
   "source": [
    "print(x_train.dtypes)"
   ]
  },
  {
   "cell_type": "markdown",
   "metadata": {
    "_uuid": "12fece0d369fe97e6481a50de34b47b6b9bb7341"
   },
   "source": [
    "I'll see what values are in the object type columns -- We will have to either break these features up so that for each option there is just a binary (True / False) indicator, or find a way to make the existing features binary."
   ]
  },
  {
   "cell_type": "code",
   "execution_count": 5,
   "metadata": {
    "_uuid": "6a5ff24a412f6cb04cc8d2a709931a79d7634c4d"
   },
   "outputs": [
    {
     "data": {
      "text/plain": [
       "Y    1783\n",
       "Name: taxdelinquencyflag, dtype: int64"
      ]
     },
     "execution_count": 5,
     "metadata": {},
     "output_type": "execute_result"
    }
   ],
   "source": [
    "x_train['taxdelinquencyflag'].value_counts()"
   ]
  },
  {
   "cell_type": "code",
   "execution_count": 6,
   "metadata": {
    "_uuid": "30e6bdb7ea9912b17b5503f2a4c98e95c714d928"
   },
   "outputs": [
    {
     "data": {
      "text/plain": [
       "True    222\n",
       "Name: fireplaceflag, dtype: int64"
      ]
     },
     "execution_count": 6,
     "metadata": {},
     "output_type": "execute_result"
    }
   ],
   "source": [
    "x_train['fireplaceflag'].value_counts()"
   ]
  },
  {
   "cell_type": "code",
   "execution_count": 7,
   "metadata": {
    "_uuid": "2b6fca3dbe75ce912bdc9ca14f9b2a75fa838342"
   },
   "outputs": [
    {
     "data": {
      "text/plain": [
       "True    2365\n",
       "Name: hashottuborspa, dtype: int64"
      ]
     },
     "execution_count": 7,
     "metadata": {},
     "output_type": "execute_result"
    }
   ],
   "source": [
    "x_train['hashottuborspa'].value_counts()"
   ]
  },
  {
   "cell_type": "markdown",
   "metadata": {
    "_uuid": "0c0dcc9ba2c0d32b65ca19df68c54168f8e8b7ae"
   },
   "source": [
    "I'll have to convert the 'Y' to a TRUE and otherwise convert any NaN to False's"
   ]
  },
  {
   "cell_type": "code",
   "execution_count": 8,
   "metadata": {
    "_uuid": "dbcc18c46580834dadc919a70ea40733af258dfd",
    "collapsed": true
   },
   "outputs": [],
   "source": [
    "x_train['taxdelinquencyflag'] = x_train['taxdelinquencyflag'] == 'Y'"
   ]
  },
  {
   "cell_type": "code",
   "execution_count": 9,
   "metadata": {
    "_uuid": "aeb9c2da9b8c904366e0d62e93491d2c24702020"
   },
   "outputs": [],
   "source": [
    "for c in x_train.dtypes[x_train.dtypes == object].index.values:\n",
    "    x_train[c] = (x_train[c] == True)"
   ]
  },
  {
   "cell_type": "code",
   "execution_count": 10,
   "metadata": {
    "_cell_guid": "cb6e65da-ba74-0ffe-828d-ebf7db2b1c07",
    "_uuid": "d15d597083b8c89ff9999f4fd50a4af64df3e021"
   },
   "outputs": [
    {
     "name": "stdout",
     "output_type": "stream",
     "text": [
      "airconditioningtypeid           61494\n",
      "architecturalstyletypeid        90014\n",
      "basementsqft                    90232\n",
      "bathroomcnt                         0\n",
      "bedroomcnt                          0\n",
      "buildingclasstypeid             90259\n",
      "buildingqualitytypeid           32911\n",
      "calculatedbathnbr                1182\n",
      "decktypeid                      89617\n",
      "finishedfloor1squarefeet        83419\n",
      "calculatedfinishedsquarefeet      661\n",
      "finishedsquarefeet12             4679\n",
      "finishedsquarefeet13            90242\n",
      "finishedsquarefeet15            86711\n",
      "finishedsquarefeet50            83419\n",
      "finishedsquarefeet6             89854\n",
      "fips                                0\n",
      "fireplacecnt                    80668\n",
      "fullbathcnt                      1182\n",
      "garagecarcnt                    60338\n",
      "garagetotalsqft                 60338\n",
      "hashottuborspa                      0\n",
      "heatingorsystemtypeid           34195\n",
      "latitude                            0\n",
      "longitude                           0\n",
      "lotsizesquarefeet               10150\n",
      "poolcnt                         72374\n",
      "poolsizesum                     89306\n",
      "pooltypeid10                    89114\n",
      "pooltypeid2                     89071\n",
      "pooltypeid7                     73578\n",
      "propertylandusetypeid               0\n",
      "rawcensustractandblock              0\n",
      "regionidcity                     1803\n",
      "regionidcounty                      0\n",
      "regionidneighborhood            54263\n",
      "regionidzip                        35\n",
      "roomcnt                             0\n",
      "storytypeid                     90232\n",
      "threequarterbathnbr             78266\n",
      "typeconstructiontypeid          89976\n",
      "unitcnt                         31922\n",
      "yardbuildingsqft17              87629\n",
      "yardbuildingsqft26              90180\n",
      "yearbuilt                         756\n",
      "numberofstories                 69705\n",
      "fireplaceflag                       0\n",
      "structuretaxvaluedollarcnt        380\n",
      "taxvaluedollarcnt                   1\n",
      "assessmentyear                      0\n",
      "landtaxvaluedollarcnt               1\n",
      "taxamount                           6\n",
      "taxdelinquencyflag                  0\n",
      "taxdelinquencyyear              88492\n",
      "censustractandblock               605\n",
      "dtype: int64\n"
     ]
    }
   ],
   "source": [
    "# Looking for nulls\n",
    "print(x_train.isnull().sum())"
   ]
  },
  {
   "cell_type": "markdown",
   "metadata": {
    "_cell_guid": "aa63409f-4adf-d8dc-c781-1217f87710d8",
    "_uuid": "d95e89ee405a134c45c0f36a3c8cfc9b3bec2fc8"
   },
   "source": [
    "Yikes, the data is pretty sparse.  We're going to have to figure out how to either remove some features or impute values for some of these.\n",
    "\n",
    "Temporarily I'll be imputing averages for the missing values based on the missing value for said column, but its only a stopgap solution before I can do something else (possibly predict missing values?)"
   ]
  },
  {
   "cell_type": "code",
   "execution_count": 11,
   "metadata": {
    "_uuid": "ee984e0da95a38641e4a34ece5dfdfe5530ba515",
    "collapsed": true
   },
   "outputs": [],
   "source": [
    "x_train = x_train.fillna(x_train.mean())"
   ]
  },
  {
   "cell_type": "markdown",
   "metadata": {
    "_cell_guid": "fc3d8109-ebc5-264c-f964-04f66da0fec0",
    "_uuid": "a3668fbd5d02ee623aaf7f2cbc430c8301989db3"
   },
   "source": [
    "# 2. Stability Selection via Randomized Lasso\n",
    "\n",
    "In a nutshell, this method serves to apply the feature selection on different parts of the data and features repeatedly until the results can be aggregated. Therefore stronger features ( defined as being selected as important) will have greater scores in this method as compared to weaker features. Refer to this paper by Nicolai Meinshausen and Peter Buhlmann for a much greater detail on the method : http://stat.ethz.ch/~nicolai/stability.pdf\n",
    "\n",
    "In this notebook, the Stability Selection method is conveniently inbuilt into sklearn's randomized lasso model and therefore this will be implemented as follows:"
   ]
  },
  {
   "cell_type": "code",
   "execution_count": 12,
   "metadata": {
    "_cell_guid": "45351992-0216-dd3d-76fe-4a658674f0c4",
    "_uuid": "f7b3717f89e357ee844277dde65f298fd2804276"
   },
   "outputs": [],
   "source": [
    "# First extract the target variable which is our Log Error\n",
    "Y = df_train['logerror'].values\n",
    "X = x_train.as_matrix()\n",
    "\n",
    "# Store the column/feature names into a list \"colnames\"\n",
    "colnames = x_train.columns"
   ]
  },
  {
   "cell_type": "markdown",
   "metadata": {
    "_cell_guid": "1c239bb6-b82e-e35b-7c3c-580c98094cce",
    "_uuid": "1a7926be983626aa6889161a19eee043eef24051"
   },
   "source": [
    "Next, we create a function which will be able to conveniently store our feature rankings obtained from the various methods described here into a Python dictionary. In case you are thinking I created this function, no this is not the case. All credit goes to Ando Saabas and I am only trying to apply what he has discussed in this context."
   ]
  },
  {
   "cell_type": "code",
   "execution_count": 13,
   "metadata": {
    "_cell_guid": "ecc7b17a-b6d5-7d6c-726d-de7b75c3c1eb",
    "_uuid": "c92f382f667f648e7679f4b8b48100dd56273119",
    "collapsed": true
   },
   "outputs": [],
   "source": [
    "# Define dictionary to store our rankings\n",
    "ranks = {}\n",
    "# Create our function which stores the feature rankings to the ranks dictionary\n",
    "def ranking(ranks, names, order=1):\n",
    "    minmax = MinMaxScaler()\n",
    "    ranks = minmax.fit_transform(order*np.array([ranks]).T).T[0]\n",
    "    ranks = map(lambda x: round(x,2), ranks)\n",
    "    return dict(zip(names, ranks))"
   ]
  },
  {
   "cell_type": "code",
   "execution_count": 14,
   "metadata": {
    "_cell_guid": "a56e6fbf-1511-2ff7-0693-2f55aa0d21cd",
    "_uuid": "53bdbc76d42cb608da895a5f57f50d6a714bbb4d"
   },
   "outputs": [
    {
     "name": "stdout",
     "output_type": "stream",
     "text": [
      "finished\n"
     ]
    }
   ],
   "source": [
    "# Finally let's run our Selection Stability method with Randomized Lasso\n",
    "rlasso = RandomizedLasso(alpha=0.04)\n",
    "rlasso.fit(X, Y)\n",
    "ranks[\"rlasso/Stability\"] = ranking(np.abs(rlasso.scores_), colnames)\n",
    "print('finished')"
   ]
  },
  {
   "cell_type": "markdown",
   "metadata": {
    "_cell_guid": "15244118-31f5-e2df-8ce0-34a6d8f5c729",
    "_uuid": "e4620d40f9df515483eb62a507425f74345ca99f"
   },
   "source": [
    "# 3. Recursive Feature Elimination ( RFE )\n",
    "\n",
    "Now onto the next method in our feature ranking endeavour. Recursive Feature Elimination or RFE uses a model ( eg. linear Regression or SVM) to select either the best or worst-performing feature, and then excludes the feature. After this, the whole process is iterated until all features in the dataset are used up ( or up to a user-defined limit). Sklearn conveniently possesses a RFE function via the sklearn.feature_selection call and we will use this along with a simple linear regression model for our ranking search as follows:"
   ]
  },
  {
   "cell_type": "code",
   "execution_count": 15,
   "metadata": {
    "_cell_guid": "e11f8021-2f8b-074b-d0cc-c6d9d6d8ae8e",
    "_uuid": "f4c3fbbc4edeca6db3b183ed14790cb87f638c73"
   },
   "outputs": [
    {
     "name": "stdout",
     "output_type": "stream",
     "text": [
      "Fitting estimator with 55 features.\n",
      "Fitting estimator with 54 features.\n",
      "Fitting estimator with 53 features.\n",
      "Fitting estimator with 52 features.\n",
      "Fitting estimator with 51 features.\n",
      "Fitting estimator with 50 features.\n",
      "Fitting estimator with 49 features.\n",
      "Fitting estimator with 48 features.\n",
      "Fitting estimator with 47 features.\n",
      "Fitting estimator with 46 features.\n",
      "Fitting estimator with 45 features.\n",
      "Fitting estimator with 44 features.\n",
      "Fitting estimator with 43 features.\n",
      "Fitting estimator with 42 features.\n",
      "Fitting estimator with 41 features.\n",
      "Fitting estimator with 40 features.\n",
      "Fitting estimator with 39 features.\n",
      "Fitting estimator with 38 features.\n",
      "Fitting estimator with 37 features.\n",
      "Fitting estimator with 36 features.\n",
      "Fitting estimator with 35 features.\n",
      "Fitting estimator with 34 features.\n",
      "Fitting estimator with 33 features.\n",
      "Fitting estimator with 32 features.\n",
      "Fitting estimator with 31 features.\n",
      "Fitting estimator with 30 features.\n",
      "Fitting estimator with 29 features.\n",
      "Fitting estimator with 28 features.\n",
      "Fitting estimator with 27 features.\n",
      "Fitting estimator with 26 features.\n",
      "Fitting estimator with 25 features.\n",
      "Fitting estimator with 24 features.\n",
      "Fitting estimator with 23 features.\n",
      "Fitting estimator with 22 features.\n",
      "Fitting estimator with 21 features.\n",
      "Fitting estimator with 20 features.\n",
      "Fitting estimator with 19 features.\n",
      "Fitting estimator with 18 features.\n",
      "Fitting estimator with 17 features.\n",
      "Fitting estimator with 16 features.\n",
      "Fitting estimator with 15 features.\n",
      "Fitting estimator with 14 features.\n",
      "Fitting estimator with 13 features.\n",
      "Fitting estimator with 12 features.\n",
      "Fitting estimator with 11 features.\n",
      "Fitting estimator with 10 features.\n",
      "Fitting estimator with 9 features.\n",
      "Fitting estimator with 8 features.\n",
      "Fitting estimator with 7 features.\n",
      "Fitting estimator with 6 features.\n",
      "Fitting estimator with 5 features.\n",
      "Fitting estimator with 4 features.\n",
      "Fitting estimator with 3 features.\n",
      "Fitting estimator with 2 features.\n"
     ]
    }
   ],
   "source": [
    "# Construct our Linear Regression model\n",
    "lr = LinearRegression(normalize=True)\n",
    "lr.fit(X,Y)\n",
    "#stop the search when only the last feature is left\n",
    "rfe = RFE(lr, n_features_to_select=1, verbose =3 )\n",
    "rfe.fit(X,Y)\n",
    "ranks[\"RFE\"] = ranking(list(map(float, rfe.ranking_)), colnames, order=-1)"
   ]
  },
  {
   "cell_type": "markdown",
   "metadata": {
    "_cell_guid": "c6457163-f8c0-85a7-d69f-5ca2a880010f",
    "_uuid": "757117f801fb02d422a4e768e40a380e838e57df"
   },
   "source": [
    "# 4. Linear Model Feature Ranking\n",
    "\n",
    "Now let's apply 3 different linear models (Linear, Lasso and Ridge Regression) and how the features are selected and prioritised via these models. To achieve this, I shall use the sklearn implementation of these models and in particular the attribute .coef to return the estimated coefficients for each feature in the linear model."
   ]
  },
  {
   "cell_type": "code",
   "execution_count": 16,
   "metadata": {
    "_cell_guid": "64b0534b-c62a-7d85-e181-615b7a3743c9",
    "_uuid": "7eae3169285b35f76de75292ae4f6091c31960a9"
   },
   "outputs": [
    {
     "name": "stderr",
     "output_type": "stream",
     "text": [
      "/opt/conda/lib/python3.6/site-packages/sklearn/linear_model/coordinate_descent.py:491: ConvergenceWarning: Objective did not converge. You might want to increase the number of iterations. Fitting data with very small alpha may cause precision problems.\n",
      "  ConvergenceWarning)\n"
     ]
    }
   ],
   "source": [
    "# Using Linear Regression\n",
    "lr = LinearRegression(normalize=True)\n",
    "lr.fit(X,Y)\n",
    "ranks[\"LinReg\"] = ranking(np.abs(lr.coef_), colnames)\n",
    "\n",
    "# Using Ridge \n",
    "ridge = Ridge(alpha = 7)\n",
    "ridge.fit(X,Y)\n",
    "ranks['Ridge'] = ranking(np.abs(ridge.coef_), colnames)\n",
    "\n",
    "# Using Lasso\n",
    "lasso = Lasso(alpha=.05)\n",
    "lasso.fit(X, Y)\n",
    "ranks[\"Lasso\"] = ranking(np.abs(lasso.coef_), colnames)"
   ]
  },
  {
   "cell_type": "markdown",
   "metadata": {
    "_cell_guid": "ee729bd0-270e-dc30-8fc8-b2d79873c4e1",
    "_uuid": "edb4e6e2625bb63f06d53dd9db73402a83575b9a"
   },
   "source": [
    "# 5. Random Forest feature ranking\n",
    "\n",
    "Sklearn's Random Forest model also comes with it's own inbuilt feature ranking attribute and one can conveniently just call it via \"feature_importances_\". That is what we will be using as follows:"
   ]
  },
  {
   "cell_type": "code",
   "execution_count": 17,
   "metadata": {
    "_cell_guid": "f013dad9-8855-530f-f792-48163dab2457",
    "_uuid": "f8ab99420883f6e3391bdb97048454c03e9c4f8a"
   },
   "outputs": [
    {
     "name": "stdout",
     "output_type": "stream",
     "text": [
      "building tree 1 of 50building tree 2 of 50building tree 3 of 50building tree 4 of 50building tree 5 of 50building tree 6 of 50building tree 7 of 50building tree 8 of 50building tree 9 of 50building tree 10 of 50building tree 11 of 50building tree 12 of 50building tree 13 of 50building tree 14 of 50building tree 15 of 50building tree 16 of 50\n",
      "\n",
      "\n",
      "\n",
      "\n",
      "\n",
      "\n",
      "\n",
      "\n",
      "\n",
      "\n",
      "\n",
      "\n",
      "\n",
      "\n",
      "\n",
      "building tree 17 of 50\n",
      "building tree 18 of 50\n",
      "building tree 19 of 50\n",
      "building tree 20 of 50\n",
      "building tree 21 of 50\n",
      "building tree 22 of 50\n",
      "building tree 23 of 50\n",
      "building tree 24 of 50\n",
      "building tree 25 of 50"
     ]
    },
    {
     "name": "stderr",
     "output_type": "stream",
     "text": [
      "[Parallel(n_jobs=-1)]: Done   9 tasks      | elapsed:   40.7s\n"
     ]
    },
    {
     "name": "stdout",
     "output_type": "stream",
     "text": [
      "\n",
      "building tree 26 of 50\n",
      "building tree 27 of 50\n",
      "building tree 28 of 50\n",
      "building tree 29 of 50\n",
      "building tree 30 of 50\n",
      "building tree 31 of 50\n",
      "building tree 32 of 50\n",
      "building tree 33 of 50\n",
      "building tree 34 of 50\n",
      "building tree 35 of 50\n",
      "building tree 36 of 50\n",
      "building tree 37 of 50\n",
      "building tree 38 of 50\n",
      "building tree 39 of 50\n",
      "building tree 40 of 50\n",
      "building tree 41 of 50\n",
      "building tree 42 of 50\n",
      "building tree 43 of 50\n",
      "building tree 44 of 50\n",
      "building tree 45 of 50\n",
      "building tree 46 of 50\n",
      "building tree 47 of 50\n",
      "building tree 48 of 50\n",
      "building tree 49 of 50\n",
      "building tree 50 of 50\n"
     ]
    },
    {
     "name": "stderr",
     "output_type": "stream",
     "text": [
      "[Parallel(n_jobs=-1)]: Done  45 out of  50 | elapsed:  2.0min remaining:   13.5s\n",
      "[Parallel(n_jobs=-1)]: Done  50 out of  50 | elapsed:  2.1min finished\n"
     ]
    }
   ],
   "source": [
    "rf = RandomForestRegressor(n_jobs=-1, n_estimators=50, verbose=2)\n",
    "rf.fit(X,Y)\n",
    "ranks[\"RF\"] = ranking(rf.feature_importances_, colnames)"
   ]
  },
  {
   "cell_type": "markdown",
   "metadata": {
    "_cell_guid": "20ed4bd0-29b6-86a8-0bb8-cd34424376d5",
    "_uuid": "37dd6667f94db4526867b21b3375df16954610ef"
   },
   "source": [
    "# 6. Creating the Feature Ranking Matrix\n",
    "\n",
    "We combine the scores from the various methods above and output it in a matrix form for convenient viewing as such:"
   ]
  },
  {
   "cell_type": "code",
   "execution_count": 18,
   "metadata": {
    "_cell_guid": "b6eb5b25-cc7e-f1eb-6a7b-8f591b7e560e",
    "_uuid": "e09a8414122d190ae530b4dcc8b59bf7c6a4d82a"
   },
   "outputs": [
    {
     "name": "stdout",
     "output_type": "stream",
     "text": [
      "\tLasso\tLinReg\tRF\tRFE\tRidge\trlasso/Stability\tMean\n",
      "airconditioningtypeid\t0.0\t0.01\t0.08\t0.72\t0.01\t0.0\t0.14\n",
      "architecturalstyletypeid\t0.0\t0.01\t0.0\t0.69\t0.01\t0.0\t0.12\n",
      "basementsqft\t0.0\t0.0\t0.0\t0.63\t0.0\t0.0\t0.1\n",
      "bathroomcnt\t0.0\t0.34\t0.1\t0.85\t0.36\t0.0\t0.27\n",
      "bedroomcnt\t0.0\t0.03\t0.21\t0.83\t0.03\t0.0\t0.18\n",
      "buildingclasstypeid\t0.0\t0.0\t0.0\t0.13\t0.0\t0.0\t0.02\n",
      "buildingqualitytypeid\t0.0\t0.01\t0.11\t0.59\t0.01\t0.0\t0.12\n",
      "calculatedbathnbr\t0.0\t0.21\t0.1\t0.89\t0.23\t0.0\t0.24\n",
      "decktypeid\t0.0\t0.0\t0.0\t0.07\t0.0\t0.0\t0.01\n",
      "finishedfloor1squarefeet\t0.0\t0.0\t0.05\t0.52\t0.0\t0.0\t0.1\n",
      "calculatedfinishedsquarefeet\t0.0\t0.0\t0.59\t0.39\t0.0\t0.0\t0.16\n",
      "finishedsquarefeet12\t1.0\t0.0\t0.56\t0.48\t0.0\t0.0\t0.34\n",
      "finishedsquarefeet13\t0.0\t0.0\t0.0\t0.61\t0.0\t0.0\t0.1\n",
      "finishedsquarefeet15\t0.46\t0.0\t0.13\t0.41\t0.0\t0.0\t0.17\n",
      "finishedsquarefeet50\t0.13\t0.0\t0.06\t0.5\t0.0\t0.0\t0.12\n",
      "finishedsquarefeet6\t0.02\t0.0\t0.03\t0.46\t0.0\t0.0\t0.08\n",
      "fips\t0.0\t0.17\t0.01\t0.65\t0.18\t0.0\t0.17\n",
      "fireplacecnt\t0.0\t0.11\t0.03\t0.96\t0.11\t0.0\t0.2\n",
      "fullbathcnt\t0.0\t0.07\t0.07\t0.8\t0.07\t0.0\t0.17\n",
      "garagecarcnt\t0.0\t0.05\t0.04\t0.81\t0.06\t0.0\t0.16\n",
      "garagetotalsqft\t0.54\t0.0\t0.14\t0.43\t0.0\t0.0\t0.18\n",
      "hashottuborspa\t0.0\t0.49\t0.02\t0.94\t0.51\t0.0\t0.33\n",
      "heatingorsystemtypeid\t0.0\t0.02\t0.07\t0.76\t0.02\t0.0\t0.15\n",
      "latitude\t0.0\t0.0\t0.92\t0.2\t0.0\t0.0\t0.19\n",
      "longitude\t0.0\t0.0\t0.93\t0.22\t0.0\t0.0\t0.19\n",
      "lotsizesquarefeet\t0.0\t0.0\t0.96\t0.24\t0.0\t0.0\t0.2\n",
      "poolcnt\t0.0\t0.0\t0.0\t0.11\t0.0\t0.0\t0.02\n",
      "poolsizesum\t0.0\t0.0\t0.01\t0.44\t0.0\t0.0\t0.08\n",
      "pooltypeid10\t0.0\t0.0\t0.0\t0.15\t0.0\t0.0\t0.02\n",
      "pooltypeid2\t0.0\t0.0\t0.0\t0.04\t0.0\t0.0\t0.01\n",
      "pooltypeid7\t0.0\t0.0\t0.0\t0.06\t0.0\t0.0\t0.01\n",
      "propertylandusetypeid\t0.0\t0.0\t0.08\t0.7\t0.0\t0.0\t0.13\n",
      "rawcensustractandblock\t0.0\t0.0\t0.28\t0.33\t0.0\t0.0\t0.1\n",
      "regionidcity\t0.0\t0.0\t0.26\t0.17\t0.0\t0.0\t0.07\n",
      "regionidcounty\t0.49\t0.0\t0.01\t0.35\t0.0\t0.0\t0.14\n",
      "regionidneighborhood\t0.0\t0.0\t0.35\t0.19\t0.0\t0.0\t0.09\n",
      "regionidzip\t0.03\t0.0\t0.45\t0.26\t0.0\t0.0\t0.12\n",
      "roomcnt\t0.0\t0.01\t0.06\t0.74\t0.01\t0.0\t0.14\n",
      "storytypeid\t0.0\t0.0\t0.0\t0.09\t0.0\t0.0\t0.02\n",
      "threequarterbathnbr\t0.0\t1.0\t0.02\t1.0\t1.0\t0.0\t0.5\n",
      "typeconstructiontypeid\t0.0\t0.17\t0.0\t0.93\t0.16\t0.0\t0.21\n",
      "unitcnt\t0.0\t0.02\t0.04\t0.87\t0.02\t0.0\t0.16\n",
      "yardbuildingsqft17\t0.0\t0.0\t0.05\t0.56\t0.0\t0.0\t0.1\n",
      "yardbuildingsqft26\t0.0\t0.0\t0.0\t0.54\t0.0\t0.0\t0.09\n",
      "yearbuilt\t0.0\t0.0\t0.63\t0.57\t0.0\t0.0\t0.2\n",
      "numberofstories\t0.0\t0.1\t0.04\t0.67\t0.11\t0.0\t0.15\n",
      "fireplaceflag\t0.0\t0.27\t0.0\t0.91\t0.28\t0.0\t0.24\n",
      "structuretaxvaluedollarcnt\t0.01\t0.0\t1.0\t0.28\t0.0\t0.0\t0.22\n",
      "taxvaluedollarcnt\t0.01\t0.0\t0.79\t0.31\t0.0\t0.0\t0.19\n",
      "assessmentyear\t0.0\t0.0\t0.0\t0.0\t0.0\t0.0\t0.0\n",
      "landtaxvaluedollarcnt\t0.01\t0.0\t0.78\t0.3\t0.0\t0.0\t0.18\n",
      "taxamount\t0.31\t0.0\t0.91\t0.37\t0.0\t0.0\t0.26\n",
      "taxdelinquencyflag\t0.0\t0.78\t0.02\t0.98\t0.83\t0.0\t0.44\n",
      "taxdelinquencyyear\t0.0\t0.02\t0.07\t0.78\t0.03\t0.0\t0.15\n",
      "censustractandblock\t0.0\t0.0\t0.29\t0.02\t0.0\t0.0\t0.05\n"
     ]
    }
   ],
   "source": [
    "# Create empty dictionary to store the mean value calculated from all the scores\n",
    "r = {}\n",
    "for name in colnames:\n",
    "    r[name] = round(np.mean([ranks[method][name] \n",
    "                             for method in ranks.keys()]), 2)\n",
    " \n",
    "methods = sorted(ranks.keys())\n",
    "ranks[\"Mean\"] = r\n",
    "methods.append(\"Mean\")\n",
    "\n",
    "print(\"\\t%s\" % \"\\t\".join(methods))\n",
    "for name in colnames:\n",
    "    print(\"%s\\t%s\" % (name, \"\\t\".join(map(str, \n",
    "                         [ranks[method][name] for method in methods]))))"
   ]
  },
  {
   "cell_type": "markdown",
   "metadata": {
    "_cell_guid": "5d9d44d0-fd8d-894e-657f-81762195499c",
    "_uuid": "4b68741c8ffc59327db34488273b990a5fa6c6aa"
   },
   "source": [
    "Now, with the matrix above, the numbers and layout does not seem very easy or pleasant to the eye. Therefore, let's just collate the mean ranking score attributed to each of the feature and plot that via Seaborn's factorplot."
   ]
  },
  {
   "cell_type": "code",
   "execution_count": 19,
   "metadata": {
    "_cell_guid": "daae301e-e669-b2b6-6978-cbcad579696c",
    "_uuid": "d798434946ba4507b1138a5ece8647c757b763b9"
   },
   "outputs": [],
   "source": [
    "# Put the mean scores into a Pandas dataframe\n",
    "meanplot = pd.DataFrame(list(r.items()), columns= ['Feature','Mean Ranking'])\n",
    "\n",
    "# Sort the dataframe\n",
    "meanplot = meanplot.sort_values('Mean Ranking', ascending=False)"
   ]
  },
  {
   "cell_type": "code",
   "execution_count": 20,
   "metadata": {
    "_cell_guid": "2bdfa64e-d23d-d042-5e9d-080beb245ece",
    "_uuid": "3f78ab9b8271d36d4405ef83b3fac1609f2c6e2a"
   },
   "outputs": [
    {
     "data": {
      "text/plain": [
       "<seaborn.axisgrid.FacetGrid at 0x7faec80bc828>"
      ]
     },
     "execution_count": 20,
     "metadata": {},
     "output_type": "execute_result"
    },
    {
     "data": {
      "image/png": "[encoded data removed]",
      "text/plain": [
       "<matplotlib.figure.Figure at 0x7faec80bc518>"
      ]
     },
     "metadata": {},
     "output_type": "display_data"
    }
   ],
   "source": [
    "# Let's plot the ranking of the features\n",
    "sns.factorplot(x=\"Mean Ranking\", y=\"Feature\", data = meanplot, kind=\"bar\", size=10, aspect=1, palette='coolwarm')"
   ]
  },
  {
   "cell_type": "markdown",
   "metadata": {
    "_uuid": "805f7bde7a1120da86f1e0cadd03f276ab7e7f38"
   },
   "source": [
    "# Conclusion\n",
    "\n",
    "The top 3 features are \"Three Quarter Bathroom Count\", \"Finished Square Feet\", and \"Tax Delinquincy Flag\".  \"Tax amount\" and \"Has Hot Tub or Spa\" are 4th and 5th.\n",
    "\n",
    "I'm concerned that the 3/4 bathroom count is listed so highly- that feature is null for about 80% of the scenarios. It also doesn't have an intuitive explanation for why it'd impact the sell price.  On the other hand, square footage, hot tub or spa presence, and tax amount are all very intuitive features that we'd expect to do well.\n",
    "\n",
    "My biggest concern is that there are so many nulls in my training set and that simply imputing the average is not a proper solution.  "
   ]
  },
  {
   "cell_type": "code",
   "execution_count": 21,
   "metadata": {
    "_uuid": "3721ffbc92985a77682779973355c91ad06f6b12",
    "collapsed": true
   },
   "outputs": [],
   "source": []
  }
 ],
 "metadata": {
  "_change_revision": 0,
  "_is_fork": false,
  "kernelspec": {
   "display_name": "Python 3 (ipykernel)",
   "language": "python",
   "name": "python3"
  },
  "language_info": {
   "codemirror_mode": {
    "name": "ipython",
    "version": 3
   },
   "file_extension": ".py",
   "mimetype": "text/x-python",
   "name": "python",
   "nbconvert_exporter": "python",
   "pygments_lexer": "ipython3",
   "version": "3.8.12"
  }
 },
 "nbformat": 4,
 "nbformat_minor": 1
}
